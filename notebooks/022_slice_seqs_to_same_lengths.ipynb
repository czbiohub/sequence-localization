{
 "cells": [
  {
   "cell_type": "code",
   "execution_count": 70,
   "metadata": {},
   "outputs": [],
   "source": [
    "import os\n",
    "\n",
    "DATA_FOLDER = os.path.abspath(os.path.join('..', 'data'))\n",
    "FIGURE_FOLDER = os.path.abspath(os.path.join('..', 'figures'))\n",
    "\n",
    "notebook_name = '022_slice_seqs_to_same_lengths'\n",
    "\n",
    "data_folder = os.path.join(DATA_FOLDER, notebook_name)\n",
    "figure_folder = os.path.join(FIGURE_FOLDER, notebook_name)\n",
    "\n",
    "! mkdir -p $data_folder\n",
    "! mkdir -p $figure_folder\n",
    "\n",
    "input_folder = os.path.join(DATA_FOLDER, '021_get_nucleus_cytoplasm_sequences')"
   ]
  },
  {
   "cell_type": "code",
   "execution_count": 71,
   "metadata": {},
   "outputs": [
    {
     "name": "stdout",
     "output_type": "stream",
     "text": [
      "Homo_sapiens.GRCh38.cdna.all.fa.nuclear_or_cytoplasmic\r\n",
      "Homo_sapiens.GRCh38.cdna.all.fa.nuclear_or_cytoplasmic.target.tsv\r\n",
      "Homo_sapiens.GRCh38.cdna.all.fa.nuclear_or_cytoplasmic.target.tsv.test\r\n",
      "Homo_sapiens.GRCh38.cdna.all.fa.nuclear_or_cytoplasmic.target.tsv.train\r\n",
      "Homo_sapiens.GRCh38.cdna.all.fa.nuclear_or_cytoplasmic.target.tsv.valid\r\n",
      "Homo_sapiens.GRCh38.cdna.all.fa.nuclear_or_cytoplasmic.test\r\n",
      "Homo_sapiens.GRCh38.cdna.all.fa.nuclear_or_cytoplasmic.train\r\n",
      "Homo_sapiens.GRCh38.cdna.all.fa.nuclear_or_cytoplasmic.tsv\r\n",
      "Homo_sapiens.GRCh38.cdna.all.fa.nuclear_or_cytoplasmic.valid\r\n",
      "Homo_sapiens.GRCh38.cds.all.fa.nuclear_or_cytoplasmic\r\n",
      "Homo_sapiens.GRCh38.cds.all.fa.nuclear_or_cytoplasmic.target.tsv\r\n",
      "Homo_sapiens.GRCh38.cds.all.fa.nuclear_or_cytoplasmic.target.tsv.test\r\n",
      "Homo_sapiens.GRCh38.cds.all.fa.nuclear_or_cytoplasmic.target.tsv.train\r\n",
      "Homo_sapiens.GRCh38.cds.all.fa.nuclear_or_cytoplasmic.target.tsv.valid\r\n",
      "Homo_sapiens.GRCh38.cds.all.fa.nuclear_or_cytoplasmic.test\r\n",
      "Homo_sapiens.GRCh38.cds.all.fa.nuclear_or_cytoplasmic.train\r\n",
      "Homo_sapiens.GRCh38.cds.all.fa.nuclear_or_cytoplasmic.valid\r\n",
      "Homo_sapiens.GRCh38.pep.all.fa.nuclear_or_cytoplasmic\r\n",
      "Homo_sapiens.GRCh38.pep.all.fa.nuclear_or_cytoplasmic.target.tsv\r\n",
      "Homo_sapiens.GRCh38.pep.all.fa.nuclear_or_cytoplasmic.target.tsv.test\r\n",
      "Homo_sapiens.GRCh38.pep.all.fa.nuclear_or_cytoplasmic.target.tsv.train\r\n",
      "Homo_sapiens.GRCh38.pep.all.fa.nuclear_or_cytoplasmic.target.tsv.valid\r\n",
      "Homo_sapiens.GRCh38.pep.all.fa.nuclear_or_cytoplasmic.test\r\n",
      "Homo_sapiens.GRCh38.pep.all.fa.nuclear_or_cytoplasmic.train\r\n",
      "Homo_sapiens.GRCh38.pep.all.fa.nuclear_or_cytoplasmic.valid\r\n"
     ]
    }
   ],
   "source": [
    "ls $input_folder"
   ]
  },
  {
   "cell_type": "markdown",
   "metadata": {},
   "source": [
    "## What's the difference between CDS and cDNA datasets?"
   ]
  },
  {
   "cell_type": "code",
   "execution_count": 72,
   "metadata": {
    "scrolled": true
   },
   "outputs": [
    {
     "name": "stdout",
     "output_type": "stream",
     "text": [
      "head: cannot open '/src/myhome/code/sequence-localization/data/022_slice_seqs_to_same_lengths/*nuclear_or_cytoplasmic' for reading: No such file or directory\r\n"
     ]
    }
   ],
   "source": [
    "! head $data_folder/*nuclear_or_cytoplasmic"
   ]
  },
  {
   "cell_type": "markdown",
   "metadata": {},
   "source": [
    "\n",
    "Search for `ATGTGTGCTGCT`, the very beginning of the CDS. It shows that the CDS is the pure coding sequence (exons only) while the CDNA is the whole CDNA molecule, including introns and UTRs. We want the whole UTRs too.\n",
    "\n",
    "this means:\n",
    "\n",
    "- CDS = coding exons only\n",
    "- cDNA = entire transcript, including UTRs and exons"
   ]
  },
  {
   "cell_type": "code",
   "execution_count": 73,
   "metadata": {},
   "outputs": [],
   "source": [
    "fastas = ['Homo_sapiens.GRCh38.cdna.all.fa', 'Homo_sapiens.GRCh38.cds.all.fa', 'Homo_sapiens.GRCh38.pep.all.fa']"
   ]
  },
  {
   "cell_type": "code",
   "execution_count": 74,
   "metadata": {},
   "outputs": [
    {
     "data": {
      "text/plain": [
       "{'Homo_sapiens.GRCh38.cdna.all.fa': ENST00000419783.2    1151\n",
       " ENST00000419349.2    1135\n",
       " ENST00000643797.1     708\n",
       " ENST00000646881.1     589\n",
       " ENST00000496791.1     580\n",
       " ENST00000620890.1     897\n",
       " ENST00000362079.2     784\n",
       " ENST00000361227.2     346\n",
       " ENST00000548195.5     576\n",
       " ENST00000311317.8    2897\n",
       " ENST00000332180.9    5812\n",
       " ENST00000550053.5    5819\n",
       " ENST00000620430.5    3623\n",
       " ENST00000547404.1     719\n",
       " ENST00000550613.1     467\n",
       " ENST00000548534.1     732\n",
       " ENST00000550786.5     633\n",
       " ENST00000552203.1     359\n",
       " ENST00000551224.1     575\n",
       " ENST00000551290.1     307\n",
       " ENST00000547171.1     351\n",
       " ENST00000550036.1     578\n",
       " ENST00000445224.6    1645\n",
       " ENST00000461058.5     566\n",
       " ENST00000495954.5    1000\n",
       " ENST00000483730.1     806\n",
       " ENST00000472483.5     765\n",
       " ENST00000482804.1    1799\n",
       " ENST00000482885.1    5949\n",
       " ENST00000475932.1     213\n",
       "                      ... \n",
       " ENST00000503871.1     369\n",
       " ENST00000505977.1     936\n",
       " ENST00000523518.1     489\n",
       " ENST00000629457.2     340\n",
       " ENST00000316045.9    7277\n",
       " ENST00000488700.5     729\n",
       " ENST00000539666.5     485\n",
       " ENST00000478086.5    1579\n",
       " ENST00000563195.1    1594\n",
       " ENST00000484770.1     468\n",
       " ENST00000534948.2    8270\n",
       " ENST00000442635.2     300\n",
       " ENST00000624776.3    7994\n",
       " ENST00000614149.1    7911\n",
       " ENST00000469421.5     484\n",
       " ENST00000492094.6    2877\n",
       " ENST00000642964.1    2891\n",
       " ENST00000487015.5    1222\n",
       " ENST00000460363.6     919\n",
       " ENST00000492169.5     559\n",
       " ENST00000460066.5     708\n",
       " ENST00000469426.5    1527\n",
       " ENST00000469656.5    1200\n",
       " ENST00000486246.5     973\n",
       " ENST00000472329.5    1034\n",
       " ENST00000466385.1     754\n",
       " ENST00000491508.1     655\n",
       " ENST00000485268.1     464\n",
       " ENST00000481704.1     398\n",
       " ENST00000462111.1     345\n",
       " Length: 21588, dtype: int64,\n",
       " 'Homo_sapiens.GRCh38.cds.all.fa': ENST00000419783.2     612\n",
       " ENST00000419349.2     297\n",
       " ENST00000643797.1     474\n",
       " ENST00000646881.1     513\n",
       " ENST00000496791.1     315\n",
       " ENST00000620890.1     609\n",
       " ENST00000362079.2     784\n",
       " ENST00000361227.2     346\n",
       " ENST00000548195.5     125\n",
       " ENST00000332180.9    3522\n",
       " ENST00000550053.5     570\n",
       " ENST00000620430.5    3525\n",
       " ENST00000547404.1     189\n",
       " ENST00000552203.1     146\n",
       " ENST00000551224.1     348\n",
       " ENST00000445224.6     735\n",
       " ENST00000495954.5     159\n",
       " ENST00000482804.1     783\n",
       " ENST00000216252.3     333\n",
       " ENST00000367603.7    7341\n",
       " ENST00000012134.7    7341\n",
       " ENST00000367604.6    7341\n",
       " ENST00000409725.1     878\n",
       " ENST00000412979.1     102\n",
       " ENST00000295321.8    2460\n",
       " ENST00000637187.1     624\n",
       " ENST00000305135.9    4269\n",
       " ENST00000432781.1     660\n",
       " ENST00000266269.9    2064\n",
       " ENST00000405309.7    1614\n",
       "                      ... \n",
       " ENST00000541567.5     609\n",
       " ENST00000546034.1    1371\n",
       " ENST00000619145.4    1086\n",
       " ENST00000508244.5    9594\n",
       " ENST00000509849.5    5670\n",
       " ENST00000514429.5    6792\n",
       " ENST00000511824.2    1488\n",
       " ENST00000425232.6    9594\n",
       " ENST00000370910.5    3984\n",
       " ENST00000361420.7    4011\n",
       " ENST00000370904.6    3984\n",
       " ENST00000370900.5     729\n",
       " ENST00000370901.4     729\n",
       " ENST00000370903.7    4026\n",
       " ENST00000265295.8    1818\n",
       " ENST00000506574.5     260\n",
       " ENST00000515224.5     265\n",
       " ENST00000507232.5     135\n",
       " ENST00000508247.5     449\n",
       " ENST00000513941.5     691\n",
       " ENST00000509785.5     183\n",
       " ENST00000512028.5     183\n",
       " ENST00000513795.1     476\n",
       " ENST00000503871.1      69\n",
       " ENST00000505977.1     938\n",
       " ENST00000629457.2     183\n",
       " ENST00000316045.9    4452\n",
       " ENST00000478086.5    1015\n",
       " ENST00000624776.3    4452\n",
       " ENST00000614149.1    4452\n",
       " Length: 13494, dtype: int64,\n",
       " 'Homo_sapiens.GRCh38.pep.all.fa': ENSP00000407375.1     203\n",
       " ENSP00000391316.1      98\n",
       " ENSP00000495108.1     157\n",
       " ENSP00000495001.1     170\n",
       " ENSP00000493593.1     104\n",
       " ENSP00000478837.1     202\n",
       " ENSP00000354982.2     261\n",
       " ENSP00000355206.2     115\n",
       " ENSP00000450243.1      41\n",
       " ENSP00000328062.5    1173\n",
       " ENSP00000448966.1     189\n",
       " ENSP00000484713.1    1174\n",
       " ENSP00000473263.1      62\n",
       " ENSP00000450166.1      48\n",
       " ENSP00000447015.1     116\n",
       " ENSP00000404860.2     244\n",
       " ENSP00000420376.1      52\n",
       " ENSP00000419230.1     260\n",
       " ENSP00000216252.3     110\n",
       " ENSP00000356575.2    2446\n",
       " ENSP00000012134.2    2446\n",
       " ENSP00000356576.1    2446\n",
       " ENSP00000387206.1     292\n",
       " ENSP00000396710.1      33\n",
       " ENSP00000295321.4     819\n",
       " ENSP00000490836.1     207\n",
       " ENSP00000306983.5    1422\n",
       " ENSP00000406477.1     219\n",
       " ENSP00000266269.5     687\n",
       " ENSP00000384173.3     537\n",
       "                      ... \n",
       " ENSP00000442116.1     202\n",
       " ENSP00000440329.1     456\n",
       " ENSP00000481944.1     361\n",
       " ENSP00000421690.1    3197\n",
       " ENSP00000426337.1    1889\n",
       " ENSP00000424223.1    2263\n",
       " ENSP00000473657.1     496\n",
       " ENSP00000389014.2    3197\n",
       " ENSP00000359947.1    1327\n",
       " ENSP00000355010.3    1336\n",
       " ENSP00000359941.1    1327\n",
       " ENSP00000359937.1     242\n",
       " ENSP00000359938.4     242\n",
       " ENSP00000359940.3    1341\n",
       " ENSP00000265295.4     605\n",
       " ENSP00000421598.1      86\n",
       " ENSP00000423687.1      88\n",
       " ENSP00000425357.1      44\n",
       " ENSP00000425922.1     149\n",
       " ENSP00000422352.1     230\n",
       " ENSP00000427197.1      60\n",
       " ENSP00000426965.1      60\n",
       " ENSP00000427510.1     158\n",
       " ENSP00000426881.1      22\n",
       " ENSP00000429470.1     312\n",
       " ENSP00000486653.1      60\n",
       " ENSP00000479684.1    1483\n",
       " ENSP00000480280.1     338\n",
       " ENSP00000485614.1    1483\n",
       " ENSP00000481657.1    1483\n",
       " Length: 13494, dtype: int64}"
      ]
     },
     "execution_count": 74,
     "metadata": {},
     "output_type": "execute_result"
    }
   ],
   "source": [
    "lengths_series = {}\n",
    "\n",
    "for fasta in fastas:\n",
    "    input_fasta = os.path.join(input_folder, fasta + '.nuclear_or_cytoplasmic')\n",
    "    \n",
    "    dataset_lengths = pd.Series()\n",
    "    for i, record in enumerate(SeqIO.parse(input_fasta, \"fasta\")):\n",
    "        dataset_lengths[record.id] = len(record)\n",
    "    lengths_series[fasta] = dataset_lengths\n",
    "# lengths_series"
   ]
  },
  {
   "cell_type": "code",
   "execution_count": 75,
   "metadata": {},
   "outputs": [
    {
     "data": {
      "text/html": [
       "<div>\n",
       "<style scoped>\n",
       "    .dataframe tbody tr th:only-of-type {\n",
       "        vertical-align: middle;\n",
       "    }\n",
       "\n",
       "    .dataframe tbody tr th {\n",
       "        vertical-align: top;\n",
       "    }\n",
       "\n",
       "    .dataframe thead th {\n",
       "        text-align: right;\n",
       "    }\n",
       "</style>\n",
       "<table border=\"1\" class=\"dataframe\">\n",
       "  <thead>\n",
       "    <tr style=\"text-align: right;\">\n",
       "      <th></th>\n",
       "      <th>index</th>\n",
       "      <th>length</th>\n",
       "      <th>fasta</th>\n",
       "    </tr>\n",
       "  </thead>\n",
       "  <tbody>\n",
       "    <tr>\n",
       "      <th>0</th>\n",
       "      <td>ENST00000419783.2</td>\n",
       "      <td>1151</td>\n",
       "      <td>Homo_sapiens.GRCh38.cdna.all.fa</td>\n",
       "    </tr>\n",
       "    <tr>\n",
       "      <th>1</th>\n",
       "      <td>ENST00000419349.2</td>\n",
       "      <td>1135</td>\n",
       "      <td>Homo_sapiens.GRCh38.cdna.all.fa</td>\n",
       "    </tr>\n",
       "    <tr>\n",
       "      <th>2</th>\n",
       "      <td>ENST00000643797.1</td>\n",
       "      <td>708</td>\n",
       "      <td>Homo_sapiens.GRCh38.cdna.all.fa</td>\n",
       "    </tr>\n",
       "    <tr>\n",
       "      <th>3</th>\n",
       "      <td>ENST00000646881.1</td>\n",
       "      <td>589</td>\n",
       "      <td>Homo_sapiens.GRCh38.cdna.all.fa</td>\n",
       "    </tr>\n",
       "    <tr>\n",
       "      <th>4</th>\n",
       "      <td>ENST00000496791.1</td>\n",
       "      <td>580</td>\n",
       "      <td>Homo_sapiens.GRCh38.cdna.all.fa</td>\n",
       "    </tr>\n",
       "  </tbody>\n",
       "</table>\n",
       "</div>"
      ],
      "text/plain": [
       "               index  length                            fasta\n",
       "0  ENST00000419783.2    1151  Homo_sapiens.GRCh38.cdna.all.fa\n",
       "1  ENST00000419349.2    1135  Homo_sapiens.GRCh38.cdna.all.fa\n",
       "2  ENST00000643797.1     708  Homo_sapiens.GRCh38.cdna.all.fa\n",
       "3  ENST00000646881.1     589  Homo_sapiens.GRCh38.cdna.all.fa\n",
       "4  ENST00000496791.1     580  Homo_sapiens.GRCh38.cdna.all.fa"
      ]
     },
     "execution_count": 75,
     "metadata": {},
     "output_type": "execute_result"
    }
   ],
   "source": [
    "dfs = []\n",
    "\n",
    "for name, series in lengths_series.items():\n",
    "    series.name = 'length'\n",
    "    df = series.reset_index()\n",
    "    df['fasta'] = name\n",
    "    dfs.append(df)\n",
    "lengths = pd.concat(dfs, ignore_index=True)\n",
    "lengths.head()"
   ]
  },
  {
   "cell_type": "code",
   "execution_count": 76,
   "metadata": {},
   "outputs": [
    {
     "data": {
      "text/html": [
       "<div>\n",
       "<style scoped>\n",
       "    .dataframe tbody tr th:only-of-type {\n",
       "        vertical-align: middle;\n",
       "    }\n",
       "\n",
       "    .dataframe tbody tr th {\n",
       "        vertical-align: top;\n",
       "    }\n",
       "\n",
       "    .dataframe thead th {\n",
       "        text-align: right;\n",
       "    }\n",
       "</style>\n",
       "<table border=\"1\" class=\"dataframe\">\n",
       "  <thead>\n",
       "    <tr style=\"text-align: right;\">\n",
       "      <th></th>\n",
       "      <th>index</th>\n",
       "      <th>length</th>\n",
       "      <th>fasta</th>\n",
       "      <th>data_type</th>\n",
       "    </tr>\n",
       "  </thead>\n",
       "  <tbody>\n",
       "    <tr>\n",
       "      <th>0</th>\n",
       "      <td>ENST00000419783.2</td>\n",
       "      <td>1151</td>\n",
       "      <td>Homo_sapiens.GRCh38.cdna.all.fa</td>\n",
       "      <td>cdna</td>\n",
       "    </tr>\n",
       "    <tr>\n",
       "      <th>1</th>\n",
       "      <td>ENST00000419349.2</td>\n",
       "      <td>1135</td>\n",
       "      <td>Homo_sapiens.GRCh38.cdna.all.fa</td>\n",
       "      <td>cdna</td>\n",
       "    </tr>\n",
       "    <tr>\n",
       "      <th>2</th>\n",
       "      <td>ENST00000643797.1</td>\n",
       "      <td>708</td>\n",
       "      <td>Homo_sapiens.GRCh38.cdna.all.fa</td>\n",
       "      <td>cdna</td>\n",
       "    </tr>\n",
       "    <tr>\n",
       "      <th>3</th>\n",
       "      <td>ENST00000646881.1</td>\n",
       "      <td>589</td>\n",
       "      <td>Homo_sapiens.GRCh38.cdna.all.fa</td>\n",
       "      <td>cdna</td>\n",
       "    </tr>\n",
       "    <tr>\n",
       "      <th>4</th>\n",
       "      <td>ENST00000496791.1</td>\n",
       "      <td>580</td>\n",
       "      <td>Homo_sapiens.GRCh38.cdna.all.fa</td>\n",
       "      <td>cdna</td>\n",
       "    </tr>\n",
       "  </tbody>\n",
       "</table>\n",
       "</div>"
      ],
      "text/plain": [
       "               index  length                            fasta data_type\n",
       "0  ENST00000419783.2    1151  Homo_sapiens.GRCh38.cdna.all.fa      cdna\n",
       "1  ENST00000419349.2    1135  Homo_sapiens.GRCh38.cdna.all.fa      cdna\n",
       "2  ENST00000643797.1     708  Homo_sapiens.GRCh38.cdna.all.fa      cdna\n",
       "3  ENST00000646881.1     589  Homo_sapiens.GRCh38.cdna.all.fa      cdna\n",
       "4  ENST00000496791.1     580  Homo_sapiens.GRCh38.cdna.all.fa      cdna"
      ]
     },
     "execution_count": 76,
     "metadata": {},
     "output_type": "execute_result"
    }
   ],
   "source": [
    "lengths['data_type'] = lengths.fasta.str.split('.').str[2]\n",
    "lengths.head()"
   ]
  },
  {
   "cell_type": "code",
   "execution_count": 77,
   "metadata": {},
   "outputs": [
    {
     "name": "stdout",
     "output_type": "stream",
     "text": [
      "Requirement already satisfied: seaborn in /opt/conda/lib/python3.6/site-packages (0.8.1)\n",
      "\u001b[31mmkl-random 1.0.1 requires cython, which is not installed.\u001b[0m\n",
      "\u001b[31mmkl-fft 1.0.0 requires cython, which is not installed.\u001b[0m\n",
      "\u001b[31mhyperopt 0.1 requires future, which is not installed.\u001b[0m\n",
      "\u001b[31mhyperas 0.4 requires jupyter, which is not installed.\u001b[0m\n",
      "\u001b[31mdistributed 1.21.8 requires msgpack, which is not installed.\u001b[0m\n"
     ]
    }
   ],
   "source": [
    "! pip install seaborn"
   ]
  },
  {
   "cell_type": "code",
   "execution_count": 78,
   "metadata": {},
   "outputs": [],
   "source": [
    "import seaborn as sns\n",
    "%matplotlib inline"
   ]
  },
  {
   "cell_type": "code",
   "execution_count": 79,
   "metadata": {},
   "outputs": [
    {
     "data": {
      "text/plain": [
       "<matplotlib.axes._subplots.AxesSubplot at 0x7f19b0b26390>"
      ]
     },
     "execution_count": 79,
     "metadata": {},
     "output_type": "execute_result"
    },
    {
     "data": {
      "image/png": "[encoded data removed]",
      "text/plain": [
       "<Figure size 432x288 with 1 Axes>"
      ]
     },
     "metadata": {},
     "output_type": "display_data"
    }
   ],
   "source": [
    "sns.violinplot(x='length', y='data_type', data=lengths)"
   ]
  },
  {
   "cell_type": "code",
   "execution_count": 80,
   "metadata": {},
   "outputs": [
    {
     "data": {
      "text/html": [
       "<div>\n",
       "<style scoped>\n",
       "    .dataframe tbody tr th:only-of-type {\n",
       "        vertical-align: middle;\n",
       "    }\n",
       "\n",
       "    .dataframe tbody tr th {\n",
       "        vertical-align: top;\n",
       "    }\n",
       "\n",
       "    .dataframe thead th {\n",
       "        text-align: right;\n",
       "    }\n",
       "</style>\n",
       "<table border=\"1\" class=\"dataframe\">\n",
       "  <thead>\n",
       "    <tr style=\"text-align: right;\">\n",
       "      <th></th>\n",
       "      <th>length</th>\n",
       "    </tr>\n",
       "    <tr>\n",
       "      <th>data_type</th>\n",
       "      <th></th>\n",
       "    </tr>\n",
       "  </thead>\n",
       "  <tbody>\n",
       "    <tr>\n",
       "      <th>cdna</th>\n",
       "      <td>1741.786733</td>\n",
       "    </tr>\n",
       "    <tr>\n",
       "      <th>cds</th>\n",
       "      <td>1116.373796</td>\n",
       "    </tr>\n",
       "    <tr>\n",
       "      <th>pep</th>\n",
       "      <td>371.279532</td>\n",
       "    </tr>\n",
       "  </tbody>\n",
       "</table>\n",
       "</div>"
      ],
      "text/plain": [
       "                length\n",
       "data_type             \n",
       "cdna       1741.786733\n",
       "cds        1116.373796\n",
       "pep         371.279532"
      ]
     },
     "execution_count": 80,
     "metadata": {},
     "output_type": "execute_result"
    }
   ],
   "source": [
    "lengths.groupby('data_type').mean()"
   ]
  },
  {
   "cell_type": "code",
   "execution_count": 81,
   "metadata": {},
   "outputs": [
    {
     "data": {
      "text/html": [
       "<div>\n",
       "<style scoped>\n",
       "    .dataframe tbody tr th:only-of-type {\n",
       "        vertical-align: middle;\n",
       "    }\n",
       "\n",
       "    .dataframe tbody tr th {\n",
       "        vertical-align: top;\n",
       "    }\n",
       "\n",
       "    .dataframe thead th {\n",
       "        text-align: right;\n",
       "    }\n",
       "</style>\n",
       "<table border=\"1\" class=\"dataframe\">\n",
       "  <thead>\n",
       "    <tr style=\"text-align: right;\">\n",
       "      <th></th>\n",
       "      <th>length</th>\n",
       "    </tr>\n",
       "    <tr>\n",
       "      <th>data_type</th>\n",
       "      <th></th>\n",
       "    </tr>\n",
       "  </thead>\n",
       "  <tbody>\n",
       "    <tr>\n",
       "      <th>cdna</th>\n",
       "      <td>909</td>\n",
       "    </tr>\n",
       "    <tr>\n",
       "      <th>cds</th>\n",
       "      <td>714</td>\n",
       "    </tr>\n",
       "    <tr>\n",
       "      <th>pep</th>\n",
       "      <td>237</td>\n",
       "    </tr>\n",
       "  </tbody>\n",
       "</table>\n",
       "</div>"
      ],
      "text/plain": [
       "           length\n",
       "data_type        \n",
       "cdna          909\n",
       "cds           714\n",
       "pep           237"
      ]
     },
     "execution_count": 81,
     "metadata": {},
     "output_type": "execute_result"
    }
   ],
   "source": [
    "lengths.groupby('data_type').median()"
   ]
  },
  {
   "cell_type": "code",
   "execution_count": 82,
   "metadata": {},
   "outputs": [],
   "source": [
    "lengths['log10_length'] = np.log10(lengths.length)"
   ]
  },
  {
   "cell_type": "code",
   "execution_count": 83,
   "metadata": {},
   "outputs": [
    {
     "data": {
      "text/plain": [
       "<matplotlib.axes._subplots.AxesSubplot at 0x7f19b0b08400>"
      ]
     },
     "execution_count": 83,
     "metadata": {},
     "output_type": "execute_result"
    },
    {
     "data": {
      "image/png": "[encoded data removed]",
      "text/plain": [
       "<Figure size 432x288 with 1 Axes>"
      ]
     },
     "metadata": {},
     "output_type": "display_data"
    }
   ],
   "source": [
    "sns.violinplot(x='log10_length', y='data_type', data=lengths)"
   ]
  },
  {
   "cell_type": "code",
   "execution_count": 84,
   "metadata": {},
   "outputs": [
    {
     "data": {
      "text/plain": [
       "<matplotlib.axes._subplots.AxesSubplot at 0x7f19b0b6a1d0>"
      ]
     },
     "execution_count": 84,
     "metadata": {},
     "output_type": "execute_result"
    },
    {
     "data": {
      "image/png": "[encoded data removed]",
      "text/plain": [
       "<Figure size 432x288 with 1 Axes>"
      ]
     },
     "metadata": {},
     "output_type": "display_data"
    }
   ],
   "source": [
    "sns.boxplot(x='log10_length', y='data_type', data=lengths)"
   ]
  },
  {
   "cell_type": "code",
   "execution_count": 85,
   "metadata": {},
   "outputs": [
    {
     "data": {
      "text/plain": [
       "SeqRecord(seq=Seq('MPSEQKQLFCDEKQTTLKKDYDVKNEIVDRSAPKPKISGSIHYALKNVKIDLPK...MLE', SingleLetterAlphabet()), id='ENSP00000481657.1', name='ENSP00000481657.1', description='ENSP00000481657.1 pep chromosome:GRCh38:10:96151409:96163752:1 gene:ENSG00000177853.14 transcript:ENST00000614149.1 gene_biotype:protein_coding transcript_biotype:protein_coding gene_symbol:ZNF518A description:zinc finger protein 518A [Source:HGNC Symbol;Acc:HGNC:29009]', dbxrefs=[])"
      ]
     },
     "execution_count": 85,
     "metadata": {},
     "output_type": "execute_result"
    }
   ],
   "source": [
    "record"
   ]
  },
  {
   "cell_type": "code",
   "execution_count": 86,
   "metadata": {},
   "outputs": [
    {
     "data": {
      "text/plain": [
       "1483"
      ]
     },
     "execution_count": 86,
     "metadata": {},
     "output_type": "execute_result"
    }
   ],
   "source": [
    "len(record)"
   ]
  },
  {
   "cell_type": "code",
   "execution_count": 91,
   "metadata": {},
   "outputs": [
    {
     "name": "stdout",
     "output_type": "stream",
     "text": [
      "Homo_sapiens.GRCh38.cdna.all.fa.last500  Homo_sapiens.GRCh38.pep.all.fa.last150\r\n",
      "Homo_sapiens.GRCh38.cds.all.fa.last450\r\n"
     ]
    }
   ],
   "source": [
    "! ls $data_folder"
   ]
  },
  {
   "cell_type": "code",
   "execution_count": 98,
   "metadata": {},
   "outputs": [],
   "source": [
    "!rm $data_folder/*"
   ]
  },
  {
   "cell_type": "code",
   "execution_count": 99,
   "metadata": {},
   "outputs": [
    {
     "name": "stdout",
     "output_type": "stream",
     "text": [
      "cdna 19338\n",
      "cds 9016\n",
      "pep 9000\n"
     ]
    }
   ],
   "source": [
    "slice_sizes = {'pep': 150, 'cds': 450, 'cdna': 500}\n",
    "padding_letters = {'pep': \"X\", 'cds': \"N\", 'cdna': \"N\"}\n",
    "\n",
    "for fasta in fastas: \n",
    "    split = fasta.split('.')\n",
    "    data_type = split[2]\n",
    "    \n",
    "    \n",
    "    slice_size = slice_sizes[data_type]\n",
    "    padding_letter = padding_letters[data_type]\n",
    "    \n",
    "    input_fasta = os.path.join(input_folder, fasta + '.nuclear_or_cytoplasmic')\n",
    "    target = pd.read_table(input_fasta + '.target.tsv', header=None)\n",
    "    \n",
    "    dataset_lengths = pd.Series()\n",
    "#     first_n = []\n",
    "    last_n = []\n",
    "    target_ind = []\n",
    "    \n",
    "    for i, record in enumerate(SeqIO.parse(input_fasta, \"fasta\")):\n",
    "#         seq = record[:slice_size]\n",
    "        \n",
    "        seq = record[-slice_size:]\n",
    "        if len(seq) == slice_size:\n",
    "            target_ind.append(i)\n",
    "            last_n.append(seq)\n",
    "\n",
    "    \n",
    "    print(data_type, len(last_n))\n",
    "    output_fasta = os.path.join(data_folder, os.path.basename(input_fasta) + '.last' + str(slice_size))\n",
    "    SeqIO.write(last_n, output_fasta, 'fasta')\n",
    "    \n",
    "    \n",
    "    sliced_target = target.loc[target_ind]\n",
    "    tsv = output_fasta + '.target.tsv'\n",
    "    sliced_target.to_csv(tsv, sep='\\t', header=False, index=False)"
   ]
  },
  {
   "cell_type": "code",
   "execution_count": 100,
   "metadata": {},
   "outputs": [
    {
     "name": "stdout",
     "output_type": "stream",
     "text": [
      "Homo_sapiens.GRCh38.cdna.all.fa.nuclear_or_cytoplasmic.last500\r\n",
      "Homo_sapiens.GRCh38.cdna.all.fa.nuclear_or_cytoplasmic.last500.target.tsv\r\n",
      "Homo_sapiens.GRCh38.cds.all.fa.nuclear_or_cytoplasmic.last450\r\n",
      "Homo_sapiens.GRCh38.cds.all.fa.nuclear_or_cytoplasmic.last450.target.tsv\r\n",
      "Homo_sapiens.GRCh38.pep.all.fa.nuclear_or_cytoplasmic.last150\r\n",
      "Homo_sapiens.GRCh38.pep.all.fa.nuclear_or_cytoplasmic.last150.target.tsv\r\n"
     ]
    }
   ],
   "source": [
    "ls $data_folder"
   ]
  },
  {
   "cell_type": "code",
   "execution_count": 101,
   "metadata": {},
   "outputs": [
    {
     "name": "stdout",
     "output_type": "stream",
     "text": [
      "==> /src/myhome/code/sequence-localization/data/022_slice_seqs_to_same_lengths/Homo_sapiens.GRCh38.cdna.all.fa.nuclear_or_cytoplasmic.last500 <==\r\n",
      ">ENST00000419783.2 cdna chromosome:GRCh38:3:49357171:49358600:-1 gene:ENSG00000233276.4 gene_biotype:polymorphic_pseudogene transcript_biotype:protein_coding gene_symbol:GPX1 description:glutathione peroxidase 1 [Source:HGNC Symbol;Acc:HGNC:4553]\r\n",
      "GCTCTTCGAGAAGTGCGAGGTGAACGGTGCGGGGGCGCACCCTCTCTTCGCCTTCCTGCG\r\n",
      "GGAGGCCCTGCCAGCTCCCAGCGACGACGCCACCGCGCTTATGACCGACCCCAAGCTCAT\r\n",
      "CACCTGGTCTCCGGTGTGTCGCAACGATGTTGCCTGGAACTTTGAGAAGTTCCTGGTGGG\r\n",
      "CCCTGACGGTGTGCCCCTACGCAGGTACAGCCGCCGCTTCCAGACCATTGACATCGAGCC\r\n",
      "TGACATCGAAGCCCTGCTGTCTCAAGGGCCCAGCTGTGCCTAGGGCGCCCCTCCTACCCC\r\n",
      "GGCTGCTTGGCAGTTGCAGTGCTGCTGTCTCGGGGGGGTTTTCATCTATGAGGGTGTTTC\r\n",
      "CTCTAAACCTACGAGGGAGGAACACCTGATCTTACAGAAAATACCACCTCGAGATGGGTG\r\n",
      "CTGGTCCTGTTGATCCCAGTCTCTGCCAGACCAAGGCGAGTTTCCCCACTAATAAAGTGC\r\n",
      "CGGGTGTCAGCAGAACTGTG\r\n",
      "\r\n",
      "==> /src/myhome/code/sequence-localization/data/022_slice_seqs_to_same_lengths/Homo_sapiens.GRCh38.cdna.all.fa.nuclear_or_cytoplasmic.last500.target.tsv <==\r\n",
      "1\t0\r\n",
      "1\t0\r\n",
      "1\t0\r\n",
      "1\t0\r\n",
      "1\t0\r\n",
      "1\t0\r\n",
      "0\t1\r\n",
      "0\t1\r\n",
      "0\t1\r\n",
      "0\t1\r\n",
      "\r\n",
      "==> /src/myhome/code/sequence-localization/data/022_slice_seqs_to_same_lengths/Homo_sapiens.GRCh38.cds.all.fa.nuclear_or_cytoplasmic.last450 <==\r\n",
      ">ENST00000419783.2 cds chromosome:GRCh38:3:49357171:49358600:-1 gene:ENSG00000233276.4 gene_biotype:polymorphic_pseudogene transcript_biotype:protein_coding gene_symbol:GPX1 description:glutathione peroxidase 1 [Source:HGNC Symbol;Acc:HGNC:4553]\r\n",
      "GACTACACCCAGATGAACGAGCTGCAGCGGCGCCTCGGACCCCGGGGCCTGGTGGTGCTC\r\n",
      "GGCTTCCCGTGCAACCAGTTTGGGCATCAGGAGAACGCCAAGAACGAAGAGATTCTGAAT\r\n",
      "TCCCTCAAGTACGTCCGGCCTGGTGGTGGGTTCGAGCCCAACTTCATGCTCTTCGAGAAG\r\n",
      "TGCGAGGTGAACGGTGCGGGGGCGCACCCTCTCTTCGCCTTCCTGCGGGAGGCCCTGCCA\r\n",
      "GCTCCCAGCGACGACGCCACCGCGCTTATGACCGACCCCAAGCTCATCACCTGGTCTCCG\r\n",
      "GTGTGTCGCAACGATGTTGCCTGGAACTTTGAGAAGTTCCTGGTGGGCCCTGACGGTGTG\r\n",
      "CCCCTACGCAGGTACAGCCGCCGCTTCCAGACCATTGACATCGAGCCTGACATCGAAGCC\r\n",
      "CTGCTGTCTCAAGGGCCCAGCTGTGCCTAG\r\n",
      ">ENST00000643797.1 cds chromosome:GRCh38:3:49357201:49358325:-1 gene:ENSG00000233276.4 gene_biotype:polymorphic_pseudogene transcript_biotype:protein_coding gene_symbol:GPX1 description:glutathione peroxidase 1 [Source:HGNC Symbol;Acc:HGNC:4553]\r\n",
      "\r\n",
      "==> /src/myhome/code/sequence-localization/data/022_slice_seqs_to_same_lengths/Homo_sapiens.GRCh38.cds.all.fa.nuclear_or_cytoplasmic.last450.target.tsv <==\r\n",
      "1\t0\r\n",
      "1\t0\r\n",
      "1\t0\r\n",
      "1\t0\r\n",
      "0\t1\r\n",
      "0\t1\r\n",
      "0\t1\r\n",
      "0\t1\r\n",
      "1\t0\r\n",
      "1\t0\r\n",
      "\r\n",
      "==> /src/myhome/code/sequence-localization/data/022_slice_seqs_to_same_lengths/Homo_sapiens.GRCh38.pep.all.fa.nuclear_or_cytoplasmic.last150 <==\r\n",
      ">ENSP00000407375.1 pep chromosome:GRCh38:3:49357171:49358600:-1 gene:ENSG00000233276.4 transcript:ENST00000419783.2 gene_biotype:polymorphic_pseudogene transcript_biotype:protein_coding gene_symbol:GPX1 description:glutathione peroxidase 1 [Source:HGNC Symbol;Acc:HGNC:4553]\r\n",
      "RDYTQMNELQRRLGPRGLVVLGFPCNQFGHQENAKNEEILNSLKYVRPGGGFEPNFMLFE\r\n",
      "KCEVNGAGAHPLFAFLREALPAPSDDATALMTDPKLITWSPVCRNDVAWNFEKFLVGPDG\r\n",
      "VPLRRYSRRFQTIDIEPDIEALLSQGPSCA\r\n",
      ">ENSP00000495108.1 pep chromosome:GRCh38:3:49357201:49358325:-1 gene:ENSG00000233276.4 transcript:ENST00000643797.1 gene_biotype:polymorphic_pseudogene transcript_biotype:protein_coding gene_symbol:GPX1 description:glutathione peroxidase 1 [Source:HGNC Symbol;Acc:HGNC:4553]\r\n",
      "AAAAAAQSVYAFSARPLAGGEPVSLGSLRGKENAKNEEILNSLKYVRPGGGFEPNFMLFE\r\n",
      "KCEVNGAGAHPLFAFLREALPAPSDDATALMTDPKLITWSPVCRNDVAWNFEKFLVGPDG\r\n",
      "VPLRRYSRRFQTIDIEPDIEALLSQGPSCA\r\n",
      ">ENSP00000495001.1 pep chromosome:GRCh38:3:49357477:49358325:-1 gene:ENSG00000233276.4 transcript:ENST00000646881.1 gene_biotype:polymorphic_pseudogene transcript_biotype:polymorphic_pseudogene gene_symbol:GPX1 description:glutathione peroxidase 1 [Source:HGNC Symbol;Acc:HGNC:4553]\r\n",
      "ARPLAGGEPVSLGSLRGKVLLIENVASL*GTTVRDYTQMNELQRRLGPRGLVVLGFPCNQ\r\n",
      "\r\n",
      "==> /src/myhome/code/sequence-localization/data/022_slice_seqs_to_same_lengths/Homo_sapiens.GRCh38.pep.all.fa.nuclear_or_cytoplasmic.last150.target.tsv <==\r\n",
      "1\t0\r\n",
      "1\t0\r\n",
      "1\t0\r\n",
      "1\t0\r\n",
      "0\t1\r\n",
      "0\t1\r\n",
      "0\t1\r\n",
      "0\t1\r\n",
      "1\t0\r\n",
      "1\t0\r\n"
     ]
    }
   ],
   "source": [
    "! head $data_folder/*"
   ]
  },
  {
   "cell_type": "code",
   "execution_count": null,
   "metadata": {},
   "outputs": [],
   "source": []
  }
 ],
 "metadata": {
  "kernelspec": {
   "display_name": "Python 3",
   "language": "python",
   "name": "python3"
  },
  "language_info": {
   "codemirror_mode": {
    "name": "ipython",
    "version": 3
   },
   "file_extension": ".py",
   "mimetype": "text/x-python",
   "name": "python",
   "nbconvert_exporter": "python",
   "pygments_lexer": "ipython3",
   "version": "3.6.3"
  }
 },
 "nbformat": 4,
 "nbformat_minor": 2
}
