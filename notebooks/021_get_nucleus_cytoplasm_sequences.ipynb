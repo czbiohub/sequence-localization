{
 "cells": [
  {
   "cell_type": "code",
   "execution_count": 25,
   "metadata": {},
   "outputs": [],
   "source": [
    "import os\n",
    "\n",
    "DATA_FOLDER = os.path.join('..', 'data')\n",
    "FIGURE_FOLDER = os.path.join('..', 'figures')\n",
    "\n",
    "notebook_name = '021_get_nucleus_cytoplasm_sequences'\n",
    "\n",
    "data_folder = os.path.join(DATA_FOLDER, notebook_name)\n",
    "figure_folder = os.path.join(FIGURE_FOLDER, notebook_name)\n",
    "\n",
    "! mkdir -p $data_folder\n",
    "! mkdir -p $figure_folder\n",
    "\n",
    "input_folder = os.path.join(DATA_FOLDER, '020_get_nucleus_cytoplasm_genes')"
   ]
  },
  {
   "cell_type": "code",
   "execution_count": 2,
   "metadata": {},
   "outputs": [
    {
     "name": "stdout",
     "output_type": "stream",
     "text": [
      "(4553, 5)\n"
     ]
    },
    {
     "data": {
      "text/html": [
       "<div>\n",
       "<style scoped>\n",
       "    .dataframe tbody tr th:only-of-type {\n",
       "        vertical-align: middle;\n",
       "    }\n",
       "\n",
       "    .dataframe tbody tr th {\n",
       "        vertical-align: top;\n",
       "    }\n",
       "\n",
       "    .dataframe thead th {\n",
       "        text-align: right;\n",
       "    }\n",
       "</style>\n",
       "<table border=\"1\" class=\"dataframe\">\n",
       "  <thead>\n",
       "    <tr style=\"text-align: right;\">\n",
       "      <th></th>\n",
       "      <th>Unnamed: 0</th>\n",
       "      <th>antibody_id</th>\n",
       "      <th>ensg_id</th>\n",
       "      <th>level_c</th>\n",
       "      <th>prest_id</th>\n",
       "    </tr>\n",
       "  </thead>\n",
       "  <tbody>\n",
       "    <tr>\n",
       "      <th>0</th>\n",
       "      <td>0</td>\n",
       "      <td>243</td>\n",
       "      <td>ENSG00000036473</td>\n",
       "      <td>cytoplasm</td>\n",
       "      <td>230049</td>\n",
       "    </tr>\n",
       "    <tr>\n",
       "      <th>1</th>\n",
       "      <td>3</td>\n",
       "      <td>244</td>\n",
       "      <td>ENSG00000049769</td>\n",
       "      <td>nucleus</td>\n",
       "      <td>230064</td>\n",
       "    </tr>\n",
       "    <tr>\n",
       "      <th>2</th>\n",
       "      <td>15</td>\n",
       "      <td>266</td>\n",
       "      <td>ENSG00000156504</td>\n",
       "      <td>nucleus</td>\n",
       "      <td>231887</td>\n",
       "    </tr>\n",
       "    <tr>\n",
       "      <th>3</th>\n",
       "      <td>18</td>\n",
       "      <td>285</td>\n",
       "      <td>ENSG00000102096</td>\n",
       "      <td>cytoplasm</td>\n",
       "      <td>231642</td>\n",
       "    </tr>\n",
       "    <tr>\n",
       "      <th>4</th>\n",
       "      <td>21</td>\n",
       "      <td>287</td>\n",
       "      <td>ENSG00000068394</td>\n",
       "      <td>nucleus</td>\n",
       "      <td>230080</td>\n",
       "    </tr>\n",
       "  </tbody>\n",
       "</table>\n",
       "</div>"
      ],
      "text/plain": [
       "   Unnamed: 0  antibody_id          ensg_id    level_c  prest_id\n",
       "0           0          243  ENSG00000036473  cytoplasm    230049\n",
       "1           3          244  ENSG00000049769    nucleus    230064\n",
       "2          15          266  ENSG00000156504    nucleus    231887\n",
       "3          18          285  ENSG00000102096  cytoplasm    231642\n",
       "4          21          287  ENSG00000068394    nucleus    230080"
      ]
     },
     "execution_count": 2,
     "metadata": {},
     "output_type": "execute_result"
    }
   ],
   "source": [
    "import pandas as pd\n",
    "\n",
    "csv = os.path.join(input_folder, 'nucleus_cytoplasm_single_ensg.csv')\n",
    "nucleus_cytoplasm_single_ensg = pd.read_csv(csv)\n",
    "print(nucleus_cytoplasm_single_ensg.shape)\n",
    "nucleus_cytoplasm_single_ensg.head()"
   ]
  },
  {
   "cell_type": "markdown",
   "metadata": {},
   "source": [
    "## Download and filter sequence data"
   ]
  },
  {
   "cell_type": "code",
   "execution_count": 3,
   "metadata": {},
   "outputs": [
    {
     "name": "stdout",
     "output_type": "stream",
     "text": [
      "/mnt/data\n"
     ]
    }
   ],
   "source": [
    "cd /mnt/data"
   ]
  },
  {
   "cell_type": "code",
   "execution_count": 4,
   "metadata": {},
   "outputs": [],
   "source": [
    "mkdir -p genome/hg38/ensembl/v92"
   ]
  },
  {
   "cell_type": "code",
   "execution_count": 5,
   "metadata": {},
   "outputs": [
    {
     "name": "stdout",
     "output_type": "stream",
     "text": [
      "/mnt/data/genome/hg38/ensembl/v92\n"
     ]
    }
   ],
   "source": [
    "cd genome/hg38/ensembl/v92/"
   ]
  },
  {
   "cell_type": "markdown",
   "metadata": {},
   "source": [
    "Download ENSEMBL fasta files. I don't understand the difference between `cds` and `cdna` so I downloaded them both. `pep` is the protein sequence"
   ]
  },
  {
   "cell_type": "code",
   "execution_count": 12,
   "metadata": {},
   "outputs": [],
   "source": [
    "# %%bash\n",
    "\n",
    "# wget ftp://ftp.ensembl.org/pub/release-92/fasta/homo_sapiens/cds/Homo_sapiens.GRCh38.cds.all.fa.gz\n",
    "# wget ftp://ftp.ensembl.org/pub/release-92/fasta/homo_sapiens/cdna/Homo_sapiens.GRCh38.cdna.all.fa.gz\n",
    "# wget ftp://ftp.ensembl.org/pub/release-92/fasta/homo_sapiens/pep/Homo_sapiens.GRCh38.pep.all.fa.gz"
   ]
  },
  {
   "cell_type": "code",
   "execution_count": 13,
   "metadata": {},
   "outputs": [
    {
     "name": "stdout",
     "output_type": "stream",
     "text": [
      "Homo_sapiens.GRCh38.cdna.all.fa       \u001b[0m\u001b[01;31mHomo_sapiens.GRCh38.cds.all.fa.gz\u001b[0m\r\n",
      "\u001b[01;31mHomo_sapiens.GRCh38.cdna.all.fa.gz\u001b[0m    Homo_sapiens.GRCh38.cds.all.fa.gz.1\r\n",
      "Homo_sapiens.GRCh38.cdna.all.fa.gz.1  Homo_sapiens.GRCh38.pep.all.fa\r\n",
      "Homo_sapiens.GRCh38.cds.all.fa        \u001b[01;31mHomo_sapiens.GRCh38.pep.all.fa.gz\u001b[0m\r\n"
     ]
    }
   ],
   "source": [
    "ls"
   ]
  },
  {
   "cell_type": "markdown",
   "metadata": {},
   "source": [
    "Unzip the files"
   ]
  },
  {
   "cell_type": "code",
   "execution_count": 14,
   "metadata": {},
   "outputs": [],
   "source": [
    "# ! gunzip --keep *.gz"
   ]
  },
  {
   "cell_type": "code",
   "execution_count": 15,
   "metadata": {},
   "outputs": [
    {
     "name": "stdout",
     "output_type": "stream",
     "text": [
      "total 702M\r\n",
      "drwxrwxr-x 2 ubuntu ubuntu 4.0K May 16 21:31 \u001b[0m\u001b[01;34m.\u001b[0m/\r\n",
      "drwxrwxr-x 3 ubuntu ubuntu 4.0K May 16 21:20 \u001b[01;34m..\u001b[0m/\r\n",
      "-rw-rw-r-- 1 ubuntu ubuntu 341M May 16 21:21 Homo_sapiens.GRCh38.cdna.all.fa\r\n",
      "-rw-rw-r-- 1 ubuntu ubuntu  64M May 16 21:21 \u001b[01;31mHomo_sapiens.GRCh38.cdna.all.fa.gz\u001b[0m\r\n",
      "-rw-rw-r-- 1 ubuntu ubuntu  31M May 16 21:32 Homo_sapiens.GRCh38.cdna.all.fa.gz.1\r\n",
      "-rw-rw-r-- 1 ubuntu ubuntu 145M May 16 21:21 Homo_sapiens.GRCh38.cds.all.fa\r\n",
      "-rw-rw-r-- 1 ubuntu ubuntu  21M May 16 21:21 \u001b[01;31mHomo_sapiens.GRCh38.cds.all.fa.gz\u001b[0m\r\n",
      "-rw-rw-r-- 1 ubuntu ubuntu  21M May 16 21:31 Homo_sapiens.GRCh38.cds.all.fa.gz.1\r\n",
      "-rw-rw-r-- 1 ubuntu ubuntu  69M May 16 21:21 Homo_sapiens.GRCh38.pep.all.fa\r\n",
      "-rw-rw-r-- 1 ubuntu ubuntu  14M May 16 21:21 \u001b[01;31mHomo_sapiens.GRCh38.pep.all.fa.gz\u001b[0m\r\n"
     ]
    }
   ],
   "source": [
    "ls -lha"
   ]
  },
  {
   "cell_type": "code",
   "execution_count": 16,
   "metadata": {},
   "outputs": [
    {
     "name": "stdout",
     "output_type": "stream",
     "text": [
      "==> Homo_sapiens.GRCh38.cdna.all.fa <==\r\n",
      ">ENST00000434970.2 cdna chromosome:GRCh38:14:22439007:22439015:1 gene:ENSG00000237235.2 gene_biotype:TR_D_gene transcript_biotype:TR_D_gene gene_symbol:TRDD2 description:T cell receptor delta diversity 2 [Source:HGNC Symbol;Acc:HGNC:12255]\r\n",
      "CCTTCCTAC\r\n",
      ">ENST00000448914.1 cdna chromosome:GRCh38:14:22449113:22449125:1 gene:ENSG00000228985.1 gene_biotype:TR_D_gene transcript_biotype:TR_D_gene gene_symbol:TRDD3 description:T cell receptor delta diversity 3 [Source:HGNC Symbol;Acc:HGNC:12256]\r\n",
      "ACTGGGGGATACG\r\n",
      ">ENST00000415118.1 cdna chromosome:GRCh38:14:22438547:22438554:1 gene:ENSG00000223997.1 gene_biotype:TR_D_gene transcript_biotype:TR_D_gene gene_symbol:TRDD1 description:T cell receptor delta diversity 1 [Source:HGNC Symbol;Acc:HGNC:12254]\r\n",
      "GAAATAGT\r\n",
      ">ENST00000632684.1 cdna chromosome:GRCh38:7:142786213:142786224:1 gene:ENSG00000282431.1 gene_biotype:TR_D_gene transcript_biotype:TR_D_gene gene_symbol:TRBD1 description:T cell receptor beta diversity 1 [Source:HGNC Symbol;Acc:HGNC:12158]\r\n",
      "GGGACAGGGGGC\r\n",
      ">ENST00000631435.1 cdna chromosome:GRCh38:CHR_HSCHR7_2_CTG6:142847306:142847317:1 gene:ENSG00000282253.1 gene_biotype:TR_D_gene transcript_biotype:TR_D_gene gene_symbol:TRBD1 description:T cell receptor beta diversity 1 [Source:HGNC Symbol;Acc:HGNC:12158]\r\n",
      "GGGACAGGGGGC\r\n",
      "\r\n",
      "==> Homo_sapiens.GRCh38.cds.all.fa <==\r\n",
      ">ENST00000434970.2 cds chromosome:GRCh38:14:22439007:22439015:1 gene:ENSG00000237235.2 gene_biotype:TR_D_gene transcript_biotype:TR_D_gene gene_symbol:TRDD2 description:T cell receptor delta diversity 2 [Source:HGNC Symbol;Acc:HGNC:12255]\r\n",
      "CCTTCCTAC\r\n",
      ">ENST00000448914.1 cds chromosome:GRCh38:14:22449113:22449125:1 gene:ENSG00000228985.1 gene_biotype:TR_D_gene transcript_biotype:TR_D_gene gene_symbol:TRDD3 description:T cell receptor delta diversity 3 [Source:HGNC Symbol;Acc:HGNC:12256]\r\n",
      "ACTGGGGGATACG\r\n",
      ">ENST00000415118.1 cds chromosome:GRCh38:14:22438547:22438554:1 gene:ENSG00000223997.1 gene_biotype:TR_D_gene transcript_biotype:TR_D_gene gene_symbol:TRDD1 description:T cell receptor delta diversity 1 [Source:HGNC Symbol;Acc:HGNC:12254]\r\n",
      "GAAATAGT\r\n",
      ">ENST00000632684.1 cds chromosome:GRCh38:7:142786213:142786224:1 gene:ENSG00000282431.1 gene_biotype:TR_D_gene transcript_biotype:TR_D_gene gene_symbol:TRBD1 description:T cell receptor beta diversity 1 [Source:HGNC Symbol;Acc:HGNC:12158]\r\n",
      "GGGACAGGGGGC\r\n",
      ">ENST00000631435.1 cds chromosome:GRCh38:CHR_HSCHR7_2_CTG6:142847306:142847317:1 gene:ENSG00000282253.1 gene_biotype:TR_D_gene transcript_biotype:TR_D_gene gene_symbol:TRBD1 description:T cell receptor beta diversity 1 [Source:HGNC Symbol;Acc:HGNC:12158]\r\n",
      "GGGACAGGGGGC\r\n",
      "\r\n",
      "==> Homo_sapiens.GRCh38.pep.all.fa <==\r\n",
      ">ENSP00000451515.1 pep chromosome:GRCh38:14:22439007:22439015:1 gene:ENSG00000237235.2 transcript:ENST00000434970.2 gene_biotype:TR_D_gene transcript_biotype:TR_D_gene gene_symbol:TRDD2 description:T cell receptor delta diversity 2 [Source:HGNC Symbol;Acc:HGNC:12255]\r\n",
      "PSY\r\n",
      ">ENSP00000452494.1 pep chromosome:GRCh38:14:22449113:22449125:1 gene:ENSG00000228985.1 transcript:ENST00000448914.1 gene_biotype:TR_D_gene transcript_biotype:TR_D_gene gene_symbol:TRDD3 description:T cell receptor delta diversity 3 [Source:HGNC Symbol;Acc:HGNC:12256]\r\n",
      "TGGY\r\n",
      ">ENSP00000451042.1 pep chromosome:GRCh38:14:22438547:22438554:1 gene:ENSG00000223997.1 transcript:ENST00000415118.1 gene_biotype:TR_D_gene transcript_biotype:TR_D_gene gene_symbol:TRDD1 description:T cell receptor delta diversity 1 [Source:HGNC Symbol;Acc:HGNC:12254]\r\n",
      "EI\r\n",
      ">ENSP00000487941.1 pep chromosome:GRCh38:7:142786213:142786224:1 gene:ENSG00000282431.1 transcript:ENST00000632684.1 gene_biotype:TR_D_gene transcript_biotype:TR_D_gene gene_symbol:TRBD1 description:T cell receptor beta diversity 1 [Source:HGNC Symbol;Acc:HGNC:12158]\r\n",
      "GTGG\r\n",
      ">ENSP00000488240.1 pep chromosome:GRCh38:CHR_HSCHR7_2_CTG6:142847306:142847317:1 gene:ENSG00000282253.1 transcript:ENST00000631435.1 gene_biotype:TR_D_gene transcript_biotype:TR_D_gene gene_symbol:TRBD1 description:T cell receptor beta diversity 1 [Source:HGNC Symbol;Acc:HGNC:12158]\r\n",
      "GTGG\r\n"
     ]
    }
   ],
   "source": [
    "! head *.fa"
   ]
  },
  {
   "cell_type": "markdown",
   "metadata": {},
   "source": [
    "Good, the fasta descriptione includes the ENSG ID"
   ]
  },
  {
   "cell_type": "code",
   "execution_count": 17,
   "metadata": {},
   "outputs": [],
   "source": [
    "fastas = ['Homo_sapiens.GRCh38.cdna.all.fa', 'Homo_sapiens.GRCh38.cds.all.fa', 'Homo_sapiens.GRCh38.pep.all.fa']"
   ]
  },
  {
   "cell_type": "code",
   "execution_count": 19,
   "metadata": {},
   "outputs": [
    {
     "name": "stdout",
     "output_type": "stream",
     "text": [
      "CPU times: user 5min 34s, sys: 384 ms, total: 5min 34s\n",
      "Wall time: 6min 24s\n"
     ]
    }
   ],
   "source": [
    "%%time\n",
    "\n",
    "from Bio import SeqIO\n",
    "\n",
    "for fasta in fastas:\n",
    "    filtered_fasta = f\"/mnt/data/{fasta}.nuclear_or_cytoplasmic\"\n",
    "\n",
    "    nuclear_or_cytoplasmic = []\n",
    "    for record in SeqIO.parse(fasta, \"fasta\"):\n",
    "        for ensg_id in nucleus_cytoplasm_single_ensg['ensg_id']:\n",
    "            if ensg_id in record.description:\n",
    "                nuclear_or_cytoplasmic.append(record)\n",
    "    SeqIO.write(nuclear_or_cytoplasmic, filtered_fasta, \"fasta\")\n"
   ]
  },
  {
   "cell_type": "code",
   "execution_count": 20,
   "metadata": {},
   "outputs": [
    {
     "name": "stdout",
     "output_type": "stream",
     "text": [
      "total 130M\r\n",
      "drwxrwxrwx 10 ubuntu root   4.0K May 16 21:38 \u001b[0m\u001b[34;42m.\u001b[0m/\r\n",
      "drwxrwxrwx  4 root   root   4.0K Apr 24 23:53 \u001b[34;42m..\u001b[0m/\r\n",
      "drwxr-xr-x  3 root   root   4.0K Apr 25 00:38 \u001b[01;34mdata\u001b[0m/\r\n",
      "drwxrwxrwx  3 ubuntu ubuntu 4.0K Apr 24 23:25 \u001b[34;42mfastq\u001b[0m/\r\n",
      "drwxrwxr-x  2 ubuntu ubuntu 4.0K May 16 20:45 \u001b[01;34mfastq_dump_v2\u001b[0m/\r\n",
      "drwxrwxr-x  4 ubuntu ubuntu 4.0K May 16 21:20 \u001b[01;34mgenome\u001b[0m/\r\n",
      "drwxr-xr-x  2 root   root   4.0K Apr 24 23:53 \u001b[01;34mhca\u001b[0m/\r\n",
      "-rw-rw-r--  1 ubuntu ubuntu  80M May 16 21:35 Homo_sapiens.GRCh38.cdna.all.fa.nuclear_or_cytoplasmic\r\n",
      "-rw-rw-r--  1 ubuntu ubuntu  34M May 16 21:37 Homo_sapiens.GRCh38.cds.all.fa.nuclear_or_cytoplasmic\r\n",
      "-rw-rw-r--  1 ubuntu ubuntu  17M May 16 21:38 Homo_sapiens.GRCh38.pep.all.fa.nuclear_or_cytoplasmic\r\n",
      "drwxrwxr-x 25 ubuntu ubuntu 4.0K May 16 20:18 \u001b[01;34mrawdata\u001b[0m/\r\n",
      "drwxrwxr-x 14 ubuntu ubuntu 4.0K May 14 17:17 \u001b[01;34msourmash\u001b[0m/\r\n",
      "drwxrwxr-x  3 ubuntu ubuntu 4.0K Apr 25 17:20 \u001b[01;34mtrinity-output\u001b[0m/\r\n"
     ]
    }
   ],
   "source": [
    "ls -lha /mnt/data"
   ]
  },
  {
   "cell_type": "code",
   "execution_count": 28,
   "metadata": {},
   "outputs": [],
   "source": [
    "! cp /mnt/data/*nuclear_or_cytoplasmic $data_folder"
   ]
  },
  {
   "cell_type": "code",
   "execution_count": 34,
   "metadata": {},
   "outputs": [
    {
     "name": "stdout",
     "output_type": "stream",
     "text": [
      "total 130M\r\n",
      "drwxrwxr-x 2 ubuntu ubuntu 4.0K May 16 21:44 .\r\n",
      "drwxrwxr-x 3 ubuntu ubuntu 4.0K May 16 21:43 ..\r\n",
      "-rw-rw-r-- 1 ubuntu ubuntu  80M May 16 21:43 Homo_sapiens.GRCh38.cdna.all.fa.nuclear_or_cytoplasmic\r\n",
      "-rw-rw-r-- 1 ubuntu ubuntu  34M May 16 21:44 Homo_sapiens.GRCh38.cds.all.fa.nuclear_or_cytoplasmic\r\n",
      "-rw-rw-r-- 1 ubuntu ubuntu  17M May 16 21:44 Homo_sapiens.GRCh38.pep.all.fa.nuclear_or_cytoplasmic\r\n"
     ]
    }
   ],
   "source": [
    "! ls -lha $data_folder"
   ]
  },
  {
   "cell_type": "code",
   "execution_count": 32,
   "metadata": {},
   "outputs": [
    {
     "name": "stdout",
     "output_type": "stream",
     "text": [
      "==> /mnt/data/Homo_sapiens.GRCh38.cdna.all.fa.nuclear_or_cytoplasmic <==\r\n",
      ">ENST00000419783.2 cdna chromosome:GRCh38:3:49357171:49358600:-1 gene:ENSG00000233276.4 gene_biotype:polymorphic_pseudogene transcript_biotype:protein_coding gene_symbol:GPX1 description:glutathione peroxidase 1 [Source:HGNC Symbol;Acc:HGNC:4553]\r\n",
      "GAGCCCTCGAGGGCCCCAGCCCTTGGAAGGGTAACCTGGACCGCTGCCGCCTGGTTGCCT\r\n",
      "GGGCCAGACCAGACATGCCTGCTGCTCCTTCCGGCTTAGGAGGAGCACGCGTCCCGCTCG\r\n",
      "GGCGCACTCTCCAGCCTTTTCCTGGCTGAGGAGGGGCCGAGCCCTCCGGGTAGGGCGGGG\r\n",
      "GCCGGATGAGGCGGGACCCTCAGGCCCGGAAAACTGCCTGTGCCACGTGACCCGCCGCCG\r\n",
      "GCCAGTTAAAAGGAGGCGCCTGCTGGCCTCCCCTTACAGTGCTTGTTCGGGGCGCTCCGC\r\n",
      "TGGCTTCTTGGACAATTGCGCCATGTGTGCTGCTCGGCTAGCGGCGGCGGCGGCGGCGGC\r\n",
      "CCAGTCGGTGTATGCCTTCTCGGCGCGCCCGCTGGCCGGCGGGGAGCCTGTGAGCCTGGG\r\n",
      "CTCCCTGCGGGGCAAGGTACTACTTATCGAGAATGTGGCGTCCCTCTGAGGCACCACGGT\r\n",
      "CCGGGACTACACCCAGATGAACGAGCTGCAGCGGCGCCTCGGACCCCGGGGCCTGGTGGT\r\n",
      "\r\n",
      "==> /mnt/data/Homo_sapiens.GRCh38.cds.all.fa.nuclear_or_cytoplasmic <==\r\n",
      ">ENST00000419783.2 cds chromosome:GRCh38:3:49357171:49358600:-1 gene:ENSG00000233276.4 gene_biotype:polymorphic_pseudogene transcript_biotype:protein_coding gene_symbol:GPX1 description:glutathione peroxidase 1 [Source:HGNC Symbol;Acc:HGNC:4553]\r\n",
      "ATGTGTGCTGCTCGGCTAGCGGCGGCGGCGGCGGCGGCCCAGTCGGTGTATGCCTTCTCG\r\n",
      "GCGCGCCCGCTGGCCGGCGGGGAGCCTGTGAGCCTGGGCTCCCTGCGGGGCAAGGTACTA\r\n",
      "CTTATCGAGAATGTGGCGTCCCTCTGAGGCACCACGGTCCGGGACTACACCCAGATGAAC\r\n",
      "GAGCTGCAGCGGCGCCTCGGACCCCGGGGCCTGGTGGTGCTCGGCTTCCCGTGCAACCAG\r\n",
      "TTTGGGCATCAGGAGAACGCCAAGAACGAAGAGATTCTGAATTCCCTCAAGTACGTCCGG\r\n",
      "CCTGGTGGTGGGTTCGAGCCCAACTTCATGCTCTTCGAGAAGTGCGAGGTGAACGGTGCG\r\n",
      "GGGGCGCACCCTCTCTTCGCCTTCCTGCGGGAGGCCCTGCCAGCTCCCAGCGACGACGCC\r\n",
      "ACCGCGCTTATGACCGACCCCAAGCTCATCACCTGGTCTCCGGTGTGTCGCAACGATGTT\r\n",
      "GCCTGGAACTTTGAGAAGTTCCTGGTGGGCCCTGACGGTGTGCCCCTACGCAGGTACAGC\r\n",
      "\r\n",
      "==> /mnt/data/Homo_sapiens.GRCh38.pep.all.fa.nuclear_or_cytoplasmic <==\r\n",
      ">ENSP00000407375.1 pep chromosome:GRCh38:3:49357171:49358600:-1 gene:ENSG00000233276.4 transcript:ENST00000419783.2 gene_biotype:polymorphic_pseudogene transcript_biotype:protein_coding gene_symbol:GPX1 description:glutathione peroxidase 1 [Source:HGNC Symbol;Acc:HGNC:4553]\r\n",
      "MCAARLAAAAAAAQSVYAFSARPLAGGEPVSLGSLRGKVLLIENVASLUGTTVRDYTQMN\r\n",
      "ELQRRLGPRGLVVLGFPCNQFGHQENAKNEEILNSLKYVRPGGGFEPNFMLFEKCEVNGA\r\n",
      "GAHPLFAFLREALPAPSDDATALMTDPKLITWSPVCRNDVAWNFEKFLVGPDGVPLRRYS\r\n",
      "RRFQTIDIEPDIEALLSQGPSCA\r\n",
      ">ENSP00000391316.1 pep chromosome:GRCh38:3:49357178:49358312:-1 gene:ENSG00000233276.4 transcript:ENST00000419349.2 gene_biotype:polymorphic_pseudogene transcript_biotype:protein_coding gene_symbol:GPX1 description:glutathione peroxidase 1 [Source:HGNC Symbol;Acc:HGNC:4553]\r\n",
      "MCAARLAAAAAAAQSVYAFSARPLAGGEPVSLGSLRGKVLLIENVASLUGTTVRDYTQMN\r\n",
      "ELQRRLGPRGLVVLGFPCNQFGHQVRRAERGGAGADVQ\r\n",
      ">ENSP00000495108.1 pep chromosome:GRCh38:3:49357201:49358325:-1 gene:ENSG00000233276.4 transcript:ENST00000643797.1 gene_biotype:polymorphic_pseudogene transcript_biotype:protein_coding gene_symbol:GPX1 description:glutathione peroxidase 1 [Source:HGNC Symbol;Acc:HGNC:4553]\r\n",
      "MCAARLAAAAAAAQSVYAFSARPLAGGEPVSLGSLRGKENAKNEEILNSLKYVRPGGGFE\r\n"
     ]
    }
   ],
   "source": [
    "! head /mnt/data/*nuclear_or_cytoplasmic"
   ]
  },
  {
   "cell_type": "code",
   "execution_count": 35,
   "metadata": {},
   "outputs": [
    {
     "name": "stdout",
     "output_type": "stream",
     "text": [
      "/mnt/data/Homo_sapiens.GRCh38.cdna.all.fa.nuclear_or_cytoplasmic:>ENST00000419783.2 cdna chromosome:GRCh38:3:49357171:49358600:-1 gene:ENSG00000233276.4 gene_biotype:polymorphic_pseudogene transcript_biotype:protein_coding gene_symbol:GPX1 description:glutathione peroxidase 1 [Source:HGNC Symbol;Acc:HGNC:4553]\r\n",
      "/mnt/data/Homo_sapiens.GRCh38.cdna.all.fa.nuclear_or_cytoplasmic:>ENST00000419349.2 cdna chromosome:GRCh38:3:49357178:49358312:-1 gene:ENSG00000233276.4 gene_biotype:polymorphic_pseudogene transcript_biotype:protein_coding gene_symbol:GPX1 description:glutathione peroxidase 1 [Source:HGNC Symbol;Acc:HGNC:4553]\r\n",
      "/mnt/data/Homo_sapiens.GRCh38.cdna.all.fa.nuclear_or_cytoplasmic:>ENST00000643797.1 cdna chromosome:GRCh38:3:49357201:49358325:-1 gene:ENSG00000233276.4 gene_biotype:polymorphic_pseudogene transcript_biotype:protein_coding gene_symbol:GPX1 description:glutathione peroxidase 1 [Source:HGNC Symbol;Acc:HGNC:4553]\r\n",
      "/mnt/data/Homo_sapiens.GRCh38.cdna.all.fa.nuclear_or_cytoplasmic:>ENST00000646881.1 cdna chromosome:GRCh38:3:49357477:49358325:-1 gene:ENSG00000233276.4 gene_biotype:polymorphic_pseudogene transcript_biotype:polymorphic_pseudogene gene_symbol:GPX1 description:glutathione peroxidase 1 [Source:HGNC Symbol;Acc:HGNC:4553]\r\n",
      "/mnt/data/Homo_sapiens.GRCh38.cdna.all.fa.nuclear_or_cytoplasmic:>ENST00000496791.1 cdna chromosome:GRCh38:3:49357608:49358325:-1 gene:ENSG00000233276.4 gene_biotype:polymorphic_pseudogene transcript_biotype:polymorphic_pseudogene gene_symbol:GPX1 description:glutathione peroxidase 1 [Source:HGNC Symbol;Acc:HGNC:4553]\r\n",
      "/mnt/data/Homo_sapiens.GRCh38.cdna.all.fa.nuclear_or_cytoplasmic:>ENST00000620890.1 cdna chromosome:GRCh38:3:49357180:49358358:-1 gene:ENSG00000233276.4 gene_biotype:polymorphic_pseudogene transcript_biotype:protein_coding gene_symbol:GPX1 description:glutathione peroxidase 1 [Source:HGNC Symbol;Acc:HGNC:4553]\r\n",
      "/mnt/data/Homo_sapiens.GRCh38.cdna.all.fa.nuclear_or_cytoplasmic:>ENST00000362079.2 cdna chromosome:GRCh38:MT:9207:9990:1 gene:ENSG00000198938.2 gene_biotype:protein_coding transcript_biotype:protein_coding gene_symbol:MT-CO3 description:mitochondrially encoded cytochrome c oxidase III [Source:HGNC Symbol;Acc:HGNC:7422]\r\n",
      "/mnt/data/Homo_sapiens.GRCh38.cdna.all.fa.nuclear_or_cytoplasmic:>ENST00000361227.2 cdna chromosome:GRCh38:MT:10059:10404:1 gene:ENSG00000198840.2 gene_biotype:protein_coding transcript_biotype:protein_coding gene_symbol:MT-ND3 description:mitochondrially encoded NADH:ubiquinone oxidoreductase core subunit 3 [Source:HGNC Symbol;Acc:HGNC:7458]\r\n",
      "/mnt/data/Homo_sapiens.GRCh38.cdna.all.fa.nuclear_or_cytoplasmic:>ENST00000361335.1 cdna chromosome:GRCh38:MT:10470:10766:1 gene:ENSG00000212907.2 gene_biotype:protein_coding transcript_biotype:protein_coding gene_symbol:MT-ND4L description:mitochondrially encoded NADH:ubiquinone oxidoreductase core subunit 4L [Source:HGNC Symbol;Acc:HGNC:7460]\r\n",
      "/mnt/data/Homo_sapiens.GRCh38.cdna.all.fa.nuclear_or_cytoplasmic:>ENST00000361789.2 cdna chromosome:GRCh38:MT:14747:15887:1 gene:ENSG00000198727.2 gene_biotype:protein_coding transcript_biotype:protein_coding gene_symbol:MT-CYB description:mitochondrially encoded cytochrome b [Source:HGNC Symbol;Acc:HGNC:7427]\r\n",
      "grep: write error: Broken pipe\r\n"
     ]
    }
   ],
   "source": [
    "! grep '>' /mnt/data/*nuclear_or_cytoplasmic | head"
   ]
  },
  {
   "cell_type": "code",
   "execution_count": null,
   "metadata": {},
   "outputs": [],
   "source": []
  }
 ],
 "metadata": {
  "kernelspec": {
   "display_name": "Python 3",
   "language": "python",
   "name": "python3"
  },
  "language_info": {
   "codemirror_mode": {
    "name": "ipython",
    "version": 3
   },
   "file_extension": ".py",
   "mimetype": "text/x-python",
   "name": "python",
   "nbconvert_exporter": "python",
   "pygments_lexer": "ipython3",
   "version": "3.6.3"
  }
 },
 "nbformat": 4,
 "nbformat_minor": 2
}
