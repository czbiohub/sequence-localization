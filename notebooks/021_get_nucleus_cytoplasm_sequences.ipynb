{
 "cells": [
  {
   "cell_type": "code",
   "execution_count": 1,
   "metadata": {},
   "outputs": [],
   "source": [
    "import os\n",
    "\n",
    "DATA_FOLDER = os.path.abspath(os.path.join('..', 'data'))\n",
    "FIGURE_FOLDER = os.path.abspath(os.path.join('..', 'figures'))\n",
    "\n",
    "notebook_name = '021_get_nucleus_cytoplasm_sequences'\n",
    "\n",
    "data_folder = os.path.join(DATA_FOLDER, notebook_name)\n",
    "figure_folder = os.path.join(FIGURE_FOLDER, notebook_name)\n",
    "\n",
    "! mkdir -p $data_folder\n",
    "! mkdir -p $figure_folder\n",
    "\n",
    "input_folder = os.path.join(DATA_FOLDER, '020_get_nucleus_cytoplasm_genes')"
   ]
  },
  {
   "cell_type": "code",
   "execution_count": 2,
   "metadata": {},
   "outputs": [
    {
     "name": "stdout",
     "output_type": "stream",
     "text": [
      "(2383, 2)\n"
     ]
    },
    {
     "data": {
      "text/html": [
       "<div>\n",
       "<style scoped>\n",
       "    .dataframe tbody tr th:only-of-type {\n",
       "        vertical-align: middle;\n",
       "    }\n",
       "\n",
       "    .dataframe tbody tr th {\n",
       "        vertical-align: top;\n",
       "    }\n",
       "\n",
       "    .dataframe thead th {\n",
       "        text-align: right;\n",
       "    }\n",
       "</style>\n",
       "<table border=\"1\" class=\"dataframe\">\n",
       "  <thead>\n",
       "    <tr style=\"text-align: right;\">\n",
       "      <th></th>\n",
       "      <th>ensg_id</th>\n",
       "      <th>level_b</th>\n",
       "    </tr>\n",
       "  </thead>\n",
       "  <tbody>\n",
       "    <tr>\n",
       "      <th>0</th>\n",
       "      <td>ENSG00000049769</td>\n",
       "      <td>nucleoplasm</td>\n",
       "    </tr>\n",
       "    <tr>\n",
       "      <th>1</th>\n",
       "      <td>ENSG00000156504</td>\n",
       "      <td>nucleoplasm</td>\n",
       "    </tr>\n",
       "    <tr>\n",
       "      <th>2</th>\n",
       "      <td>ENSG00000102096</td>\n",
       "      <td>cytosol</td>\n",
       "    </tr>\n",
       "    <tr>\n",
       "      <th>3</th>\n",
       "      <td>ENSG00000068394</td>\n",
       "      <td>nucleoplasm</td>\n",
       "    </tr>\n",
       "    <tr>\n",
       "      <th>4</th>\n",
       "      <td>ENSG00000133131</td>\n",
       "      <td>nucleoplasm</td>\n",
       "    </tr>\n",
       "  </tbody>\n",
       "</table>\n",
       "</div>"
      ],
      "text/plain": [
       "           ensg_id      level_b\n",
       "0  ENSG00000049769  nucleoplasm\n",
       "1  ENSG00000156504  nucleoplasm\n",
       "2  ENSG00000102096      cytosol\n",
       "3  ENSG00000068394  nucleoplasm\n",
       "4  ENSG00000133131  nucleoplasm"
      ]
     },
     "execution_count": 2,
     "metadata": {},
     "output_type": "execute_result"
    }
   ],
   "source": [
    "import pandas as pd\n",
    "\n",
    "csv = os.path.join(input_folder, 'nucleus_cytoplasm_single_ensg.csv')\n",
    "nucleus_cytoplasm_single_ensg = pd.read_csv(csv)\n",
    "print(nucleus_cytoplasm_single_ensg.shape)\n",
    "nucleus_cytoplasm_single_ensg.head()"
   ]
  },
  {
   "cell_type": "code",
   "execution_count": 3,
   "metadata": {},
   "outputs": [
    {
     "data": {
      "text/plain": [
       "False"
      ]
     },
     "execution_count": 3,
     "metadata": {},
     "output_type": "execute_result"
    }
   ],
   "source": [
    "nucleus_cytoplasm_single_ensg.empty"
   ]
  },
  {
   "cell_type": "code",
   "execution_count": 4,
   "metadata": {},
   "outputs": [],
   "source": [
    "LEVEL = 'level_b'\n",
    "\n",
    "nucleus_cytoplasm_single_ensg[f'{LEVEL}_bool'] = 1"
   ]
  },
  {
   "cell_type": "code",
   "execution_count": 5,
   "metadata": {},
   "outputs": [
    {
     "data": {
      "text/html": [
       "<div>\n",
       "<style scoped>\n",
       "    .dataframe tbody tr th:only-of-type {\n",
       "        vertical-align: middle;\n",
       "    }\n",
       "\n",
       "    .dataframe tbody tr th {\n",
       "        vertical-align: top;\n",
       "    }\n",
       "\n",
       "    .dataframe thead tr th {\n",
       "        text-align: left;\n",
       "    }\n",
       "\n",
       "    .dataframe thead tr:last-of-type th {\n",
       "        text-align: right;\n",
       "    }\n",
       "</style>\n",
       "<table border=\"1\" class=\"dataframe\">\n",
       "  <thead>\n",
       "    <tr>\n",
       "      <th></th>\n",
       "      <th colspan=\"2\" halign=\"left\">level_b_bool</th>\n",
       "    </tr>\n",
       "    <tr>\n",
       "      <th>level_b</th>\n",
       "      <th>cytosol</th>\n",
       "      <th>nucleoplasm</th>\n",
       "    </tr>\n",
       "    <tr>\n",
       "      <th>ensg_id</th>\n",
       "      <th></th>\n",
       "      <th></th>\n",
       "    </tr>\n",
       "  </thead>\n",
       "  <tbody>\n",
       "    <tr>\n",
       "      <th>ENSG00000000003</th>\n",
       "      <td>1</td>\n",
       "      <td>0</td>\n",
       "    </tr>\n",
       "    <tr>\n",
       "      <th>ENSG00000001167</th>\n",
       "      <td>0</td>\n",
       "      <td>1</td>\n",
       "    </tr>\n",
       "    <tr>\n",
       "      <th>ENSG00000001460</th>\n",
       "      <td>0</td>\n",
       "      <td>1</td>\n",
       "    </tr>\n",
       "    <tr>\n",
       "      <th>ENSG00000001461</th>\n",
       "      <td>0</td>\n",
       "      <td>1</td>\n",
       "    </tr>\n",
       "    <tr>\n",
       "      <th>ENSG00000002746</th>\n",
       "      <td>1</td>\n",
       "      <td>0</td>\n",
       "    </tr>\n",
       "  </tbody>\n",
       "</table>\n",
       "</div>"
      ],
      "text/plain": [
       "                level_b_bool            \n",
       "level_b              cytosol nucleoplasm\n",
       "ensg_id                                 \n",
       "ENSG00000000003            1           0\n",
       "ENSG00000001167            0           1\n",
       "ENSG00000001460            0           1\n",
       "ENSG00000001461            0           1\n",
       "ENSG00000002746            1           0"
      ]
     },
     "execution_count": 5,
     "metadata": {},
     "output_type": "execute_result"
    }
   ],
   "source": [
    "target_df = nucleus_cytoplasm_single_ensg.pivot(index='ensg_id', columns=LEVEL)\n",
    "target_df = target_df.fillna(0)\n",
    "target_df = target_df.astype(int)\n",
    "target_df.head()"
   ]
  },
  {
   "cell_type": "markdown",
   "metadata": {},
   "source": [
    "### Check that it's correct with the `head` of the initial data"
   ]
  },
  {
   "cell_type": "code",
   "execution_count": 6,
   "metadata": {},
   "outputs": [
    {
     "data": {
      "text/html": [
       "<div>\n",
       "<style scoped>\n",
       "    .dataframe tbody tr th:only-of-type {\n",
       "        vertical-align: middle;\n",
       "    }\n",
       "\n",
       "    .dataframe tbody tr th {\n",
       "        vertical-align: top;\n",
       "    }\n",
       "\n",
       "    .dataframe thead tr th {\n",
       "        text-align: left;\n",
       "    }\n",
       "\n",
       "    .dataframe thead tr:last-of-type th {\n",
       "        text-align: right;\n",
       "    }\n",
       "</style>\n",
       "<table border=\"1\" class=\"dataframe\">\n",
       "  <thead>\n",
       "    <tr>\n",
       "      <th></th>\n",
       "      <th colspan=\"2\" halign=\"left\">level_b_bool</th>\n",
       "    </tr>\n",
       "    <tr>\n",
       "      <th>level_b</th>\n",
       "      <th>cytosol</th>\n",
       "      <th>nucleoplasm</th>\n",
       "    </tr>\n",
       "    <tr>\n",
       "      <th>ensg_id</th>\n",
       "      <th></th>\n",
       "      <th></th>\n",
       "    </tr>\n",
       "  </thead>\n",
       "  <tbody>\n",
       "    <tr>\n",
       "      <th>ENSG00000049769</th>\n",
       "      <td>0</td>\n",
       "      <td>1</td>\n",
       "    </tr>\n",
       "    <tr>\n",
       "      <th>ENSG00000156504</th>\n",
       "      <td>0</td>\n",
       "      <td>1</td>\n",
       "    </tr>\n",
       "    <tr>\n",
       "      <th>ENSG00000102096</th>\n",
       "      <td>1</td>\n",
       "      <td>0</td>\n",
       "    </tr>\n",
       "    <tr>\n",
       "      <th>ENSG00000068394</th>\n",
       "      <td>0</td>\n",
       "      <td>1</td>\n",
       "    </tr>\n",
       "    <tr>\n",
       "      <th>ENSG00000133131</th>\n",
       "      <td>0</td>\n",
       "      <td>1</td>\n",
       "    </tr>\n",
       "  </tbody>\n",
       "</table>\n",
       "</div>"
      ],
      "text/plain": [
       "                level_b_bool            \n",
       "level_b              cytosol nucleoplasm\n",
       "ensg_id                                 \n",
       "ENSG00000049769            0           1\n",
       "ENSG00000156504            0           1\n",
       "ENSG00000102096            1           0\n",
       "ENSG00000068394            0           1\n",
       "ENSG00000133131            0           1"
      ]
     },
     "execution_count": 6,
     "metadata": {},
     "output_type": "execute_result"
    }
   ],
   "source": [
    "target_df.loc[nucleus_cytoplasm_single_ensg.ensg_id.head()]"
   ]
  },
  {
   "cell_type": "markdown",
   "metadata": {},
   "source": [
    "## Download and filter sequence data"
   ]
  },
  {
   "cell_type": "code",
   "execution_count": 7,
   "metadata": {},
   "outputs": [
    {
     "name": "stdout",
     "output_type": "stream",
     "text": [
      "/mnt/data\n"
     ]
    }
   ],
   "source": [
    "cd /mnt/data"
   ]
  },
  {
   "cell_type": "code",
   "execution_count": 8,
   "metadata": {},
   "outputs": [],
   "source": [
    "mkdir -p genome/hg38/ensembl/v92"
   ]
  },
  {
   "cell_type": "code",
   "execution_count": 9,
   "metadata": {},
   "outputs": [
    {
     "name": "stdout",
     "output_type": "stream",
     "text": [
      "/mnt/data/genome/hg38/ensembl/v92\n"
     ]
    }
   ],
   "source": [
    "cd genome/hg38/ensembl/v92/"
   ]
  },
  {
   "cell_type": "markdown",
   "metadata": {},
   "source": [
    "Download ENSEMBL fasta files. I don't understand the difference between `cds` and `cdna` so I downloaded them both. `pep` is the protein sequence"
   ]
  },
  {
   "cell_type": "code",
   "execution_count": 10,
   "metadata": {},
   "outputs": [],
   "source": [
    "# %%bash\n",
    "\n",
    "# wget ftp://ftp.ensembl.org/pub/release-92/fasta/homo_sapiens/cds/Homo_sapiens.GRCh38.cds.all.fa.gz\n",
    "# wget ftp://ftp.ensembl.org/pub/release-92/fasta/homo_sapiens/cdna/Homo_sapiens.GRCh38.cdna.all.fa.gz\n",
    "# wget ftp://ftp.ensembl.org/pub/release-92/fasta/homo_sapiens/pep/Homo_sapiens.GRCh38.pep.all.fa.gz"
   ]
  },
  {
   "cell_type": "code",
   "execution_count": 11,
   "metadata": {},
   "outputs": [
    {
     "name": "stdout",
     "output_type": "stream",
     "text": [
      "Homo_sapiens.GRCh38.cdna.all.fa        Homo_sapiens.GRCh38.cds.all.fa.gz.1\r\n",
      "\u001b[0m\u001b[01;31mHomo_sapiens.GRCh38.cdna.all.fa.gz\u001b[0m     Homo_sapiens.GRCh38.cds.all.fa.test\r\n",
      "Homo_sapiens.GRCh38.cdna.all.fa.gz.1   Homo_sapiens.GRCh38.cds.all.fa.train\r\n",
      "Homo_sapiens.GRCh38.cdna.all.fa.test   Homo_sapiens.GRCh38.pep.all.fa\r\n",
      "Homo_sapiens.GRCh38.cdna.all.fa.train  \u001b[01;31mHomo_sapiens.GRCh38.pep.all.fa.gz\u001b[0m\r\n",
      "Homo_sapiens.GRCh38.cds.all.fa         Homo_sapiens.GRCh38.pep.all.fa.test\r\n",
      "\u001b[01;31mHomo_sapiens.GRCh38.cds.all.fa.gz\u001b[0m      Homo_sapiens.GRCh38.pep.all.fa.train\r\n"
     ]
    }
   ],
   "source": [
    "ls"
   ]
  },
  {
   "cell_type": "markdown",
   "metadata": {},
   "source": [
    "Unzip the files"
   ]
  },
  {
   "cell_type": "code",
   "execution_count": 12,
   "metadata": {},
   "outputs": [],
   "source": [
    "# ! gunzip --keep *.gz"
   ]
  },
  {
   "cell_type": "code",
   "execution_count": 13,
   "metadata": {},
   "outputs": [
    {
     "name": "stdout",
     "output_type": "stream",
     "text": [
      "total 798M\r\n",
      "drwxrwxr-x 2 ubuntu ubuntu 4.0K May 16 23:08 \u001b[0m\u001b[01;34m.\u001b[0m/\r\n",
      "drwxrwxr-x 5 ubuntu ubuntu 4.0K May 16 21:43 \u001b[01;34m..\u001b[0m/\r\n",
      "-rw-rw-r-- 1 ubuntu ubuntu 341M May 16 21:21 Homo_sapiens.GRCh38.cdna.all.fa\r\n",
      "-rw-rw-r-- 1 ubuntu ubuntu  64M May 16 21:21 \u001b[01;31mHomo_sapiens.GRCh38.cdna.all.fa.gz\u001b[0m\r\n",
      "-rw-rw-r-- 1 ubuntu ubuntu  31M May 16 21:32 Homo_sapiens.GRCh38.cdna.all.fa.gz.1\r\n",
      "-rw-rw-r-- 1 ubuntu ubuntu  12M May 16 23:08 Homo_sapiens.GRCh38.cdna.all.fa.test\r\n",
      "-rw-rw-r-- 1 ubuntu ubuntu  48M May 16 23:08 Homo_sapiens.GRCh38.cdna.all.fa.train\r\n",
      "-rw-rw-r-- 1 ubuntu ubuntu 145M May 16 21:21 Homo_sapiens.GRCh38.cds.all.fa\r\n",
      "-rw-rw-r-- 1 ubuntu ubuntu  21M May 16 21:21 \u001b[01;31mHomo_sapiens.GRCh38.cds.all.fa.gz\u001b[0m\r\n",
      "-rw-rw-r-- 1 ubuntu ubuntu  21M May 16 21:31 Homo_sapiens.GRCh38.cds.all.fa.gz.1\r\n",
      "-rw-rw-r-- 1 ubuntu ubuntu 5.0M May 16 23:08 Homo_sapiens.GRCh38.cds.all.fa.test\r\n",
      "-rw-rw-r-- 1 ubuntu ubuntu  21M May 16 23:08 Homo_sapiens.GRCh38.cds.all.fa.train\r\n",
      "-rw-rw-r-- 1 ubuntu ubuntu  69M May 16 21:21 Homo_sapiens.GRCh38.pep.all.fa\r\n",
      "-rw-rw-r-- 1 ubuntu ubuntu  14M May 16 21:21 \u001b[01;31mHomo_sapiens.GRCh38.pep.all.fa.gz\u001b[0m\r\n",
      "-rw-rw-r-- 1 ubuntu ubuntu 2.4M May 16 23:08 Homo_sapiens.GRCh38.pep.all.fa.test\r\n",
      "-rw-rw-r-- 1 ubuntu ubuntu 9.6M May 16 23:08 Homo_sapiens.GRCh38.pep.all.fa.train\r\n"
     ]
    }
   ],
   "source": [
    "ls -lha"
   ]
  },
  {
   "cell_type": "code",
   "execution_count": 14,
   "metadata": {},
   "outputs": [
    {
     "name": "stdout",
     "output_type": "stream",
     "text": [
      "==> Homo_sapiens.GRCh38.cdna.all.fa <==\r\n",
      ">ENST00000434970.2 cdna chromosome:GRCh38:14:22439007:22439015:1 gene:ENSG00000237235.2 gene_biotype:TR_D_gene transcript_biotype:TR_D_gene gene_symbol:TRDD2 description:T cell receptor delta diversity 2 [Source:HGNC Symbol;Acc:HGNC:12255]\r\n",
      "CCTTCCTAC\r\n",
      ">ENST00000448914.1 cdna chromosome:GRCh38:14:22449113:22449125:1 gene:ENSG00000228985.1 gene_biotype:TR_D_gene transcript_biotype:TR_D_gene gene_symbol:TRDD3 description:T cell receptor delta diversity 3 [Source:HGNC Symbol;Acc:HGNC:12256]\r\n",
      "ACTGGGGGATACG\r\n",
      ">ENST00000415118.1 cdna chromosome:GRCh38:14:22438547:22438554:1 gene:ENSG00000223997.1 gene_biotype:TR_D_gene transcript_biotype:TR_D_gene gene_symbol:TRDD1 description:T cell receptor delta diversity 1 [Source:HGNC Symbol;Acc:HGNC:12254]\r\n",
      "GAAATAGT\r\n",
      ">ENST00000632684.1 cdna chromosome:GRCh38:7:142786213:142786224:1 gene:ENSG00000282431.1 gene_biotype:TR_D_gene transcript_biotype:TR_D_gene gene_symbol:TRBD1 description:T cell receptor beta diversity 1 [Source:HGNC Symbol;Acc:HGNC:12158]\r\n",
      "GGGACAGGGGGC\r\n",
      ">ENST00000631435.1 cdna chromosome:GRCh38:CHR_HSCHR7_2_CTG6:142847306:142847317:1 gene:ENSG00000282253.1 gene_biotype:TR_D_gene transcript_biotype:TR_D_gene gene_symbol:TRBD1 description:T cell receptor beta diversity 1 [Source:HGNC Symbol;Acc:HGNC:12158]\r\n",
      "GGGACAGGGGGC\r\n",
      "\r\n",
      "==> Homo_sapiens.GRCh38.cds.all.fa <==\r\n",
      ">ENST00000434970.2 cds chromosome:GRCh38:14:22439007:22439015:1 gene:ENSG00000237235.2 gene_biotype:TR_D_gene transcript_biotype:TR_D_gene gene_symbol:TRDD2 description:T cell receptor delta diversity 2 [Source:HGNC Symbol;Acc:HGNC:12255]\r\n",
      "CCTTCCTAC\r\n",
      ">ENST00000448914.1 cds chromosome:GRCh38:14:22449113:22449125:1 gene:ENSG00000228985.1 gene_biotype:TR_D_gene transcript_biotype:TR_D_gene gene_symbol:TRDD3 description:T cell receptor delta diversity 3 [Source:HGNC Symbol;Acc:HGNC:12256]\r\n",
      "ACTGGGGGATACG\r\n",
      ">ENST00000415118.1 cds chromosome:GRCh38:14:22438547:22438554:1 gene:ENSG00000223997.1 gene_biotype:TR_D_gene transcript_biotype:TR_D_gene gene_symbol:TRDD1 description:T cell receptor delta diversity 1 [Source:HGNC Symbol;Acc:HGNC:12254]\r\n",
      "GAAATAGT\r\n",
      ">ENST00000632684.1 cds chromosome:GRCh38:7:142786213:142786224:1 gene:ENSG00000282431.1 gene_biotype:TR_D_gene transcript_biotype:TR_D_gene gene_symbol:TRBD1 description:T cell receptor beta diversity 1 [Source:HGNC Symbol;Acc:HGNC:12158]\r\n",
      "GGGACAGGGGGC\r\n",
      ">ENST00000631435.1 cds chromosome:GRCh38:CHR_HSCHR7_2_CTG6:142847306:142847317:1 gene:ENSG00000282253.1 gene_biotype:TR_D_gene transcript_biotype:TR_D_gene gene_symbol:TRBD1 description:T cell receptor beta diversity 1 [Source:HGNC Symbol;Acc:HGNC:12158]\r\n",
      "GGGACAGGGGGC\r\n",
      "\r\n",
      "==> Homo_sapiens.GRCh38.pep.all.fa <==\r\n",
      ">ENSP00000451515.1 pep chromosome:GRCh38:14:22439007:22439015:1 gene:ENSG00000237235.2 transcript:ENST00000434970.2 gene_biotype:TR_D_gene transcript_biotype:TR_D_gene gene_symbol:TRDD2 description:T cell receptor delta diversity 2 [Source:HGNC Symbol;Acc:HGNC:12255]\r\n",
      "PSY\r\n",
      ">ENSP00000452494.1 pep chromosome:GRCh38:14:22449113:22449125:1 gene:ENSG00000228985.1 transcript:ENST00000448914.1 gene_biotype:TR_D_gene transcript_biotype:TR_D_gene gene_symbol:TRDD3 description:T cell receptor delta diversity 3 [Source:HGNC Symbol;Acc:HGNC:12256]\r\n",
      "TGGY\r\n",
      ">ENSP00000451042.1 pep chromosome:GRCh38:14:22438547:22438554:1 gene:ENSG00000223997.1 transcript:ENST00000415118.1 gene_biotype:TR_D_gene transcript_biotype:TR_D_gene gene_symbol:TRDD1 description:T cell receptor delta diversity 1 [Source:HGNC Symbol;Acc:HGNC:12254]\r\n",
      "EI\r\n",
      ">ENSP00000487941.1 pep chromosome:GRCh38:7:142786213:142786224:1 gene:ENSG00000282431.1 transcript:ENST00000632684.1 gene_biotype:TR_D_gene transcript_biotype:TR_D_gene gene_symbol:TRBD1 description:T cell receptor beta diversity 1 [Source:HGNC Symbol;Acc:HGNC:12158]\r\n",
      "GTGG\r\n",
      ">ENSP00000488240.1 pep chromosome:GRCh38:CHR_HSCHR7_2_CTG6:142847306:142847317:1 gene:ENSG00000282253.1 transcript:ENST00000631435.1 gene_biotype:TR_D_gene transcript_biotype:TR_D_gene gene_symbol:TRBD1 description:T cell receptor beta diversity 1 [Source:HGNC Symbol;Acc:HGNC:12158]\r\n",
      "GTGG\r\n"
     ]
    }
   ],
   "source": [
    "! head *.fa"
   ]
  },
  {
   "cell_type": "markdown",
   "metadata": {},
   "source": [
    "Good, the fasta descriptione includes the ENSG ID"
   ]
  },
  {
   "cell_type": "code",
   "execution_count": 15,
   "metadata": {},
   "outputs": [],
   "source": [
    "fastas = ['Homo_sapiens.GRCh38.cdna.all.fa', 'Homo_sapiens.GRCh38.cds.all.fa', 'Homo_sapiens.GRCh38.pep.all.fa']"
   ]
  },
  {
   "cell_type": "code",
   "execution_count": 16,
   "metadata": {},
   "outputs": [
    {
     "name": "stdout",
     "output_type": "stream",
     "text": [
      "Homo_sapiens.GRCh38.cdna.all.fa\n",
      "\t21588 sequences found for 2377 ENSEMBL ids\n",
      "Homo_sapiens.GRCh38.cds.all.fa\n",
      "\t13494 sequences found for 2376 ENSEMBL ids\n",
      "Homo_sapiens.GRCh38.pep.all.fa\n",
      "\t13494 sequences found for 2376 ENSEMBL ids\n",
      "CPU times: user 3min 16s, sys: 2.39 s, total: 3min 18s\n",
      "Wall time: 3min 19s\n"
     ]
    }
   ],
   "source": [
    "%%time\n",
    "\n",
    "from Bio import SeqIO\n",
    "\n",
    "for fasta in fastas:\n",
    "    print(fasta)\n",
    "#     input_fasta = os.path.join('/mnt/data/', fasta)\n",
    "    output_fasta = os.path.join(data_folder, f\"{fasta}.nuclear_or_cytoplasmic\")\n",
    "    ensgs = []\n",
    "\n",
    "    nuclear_or_cytoplasmic = []\n",
    "    for record in SeqIO.parse(fasta, \"fasta\"):\n",
    "        for ensg_id in nucleus_cytoplasm_single_ensg['ensg_id']:\n",
    "            if ensg_id in record.description:\n",
    "                nuclear_or_cytoplasmic.append(record)\n",
    "                ensgs.append(ensg_id)\n",
    "    print(f'\\t{len(nuclear_or_cytoplasmic)} sequences found for {len(set(ensgs))} ENSEMBL ids') \n",
    "    csv = os.path.join(data_folder, f\"{fasta}.nuclear_or_cytoplasmic.target.tsv\")\n",
    "    target_df.loc[ensgs].to_csv(csv, index=False, header=False, sep='\\t')\n",
    "    SeqIO.write(nuclear_or_cytoplasmic, output_fasta, \"fasta\")\n"
   ]
  },
  {
   "cell_type": "code",
   "execution_count": 17,
   "metadata": {},
   "outputs": [
    {
     "data": {
      "text/html": [
       "<div>\n",
       "<style scoped>\n",
       "    .dataframe tbody tr th:only-of-type {\n",
       "        vertical-align: middle;\n",
       "    }\n",
       "\n",
       "    .dataframe tbody tr th {\n",
       "        vertical-align: top;\n",
       "    }\n",
       "\n",
       "    .dataframe thead tr th {\n",
       "        text-align: left;\n",
       "    }\n",
       "\n",
       "    .dataframe thead tr:last-of-type th {\n",
       "        text-align: right;\n",
       "    }\n",
       "</style>\n",
       "<table border=\"1\" class=\"dataframe\">\n",
       "  <thead>\n",
       "    <tr>\n",
       "      <th></th>\n",
       "      <th colspan=\"2\" halign=\"left\">level_b_bool</th>\n",
       "    </tr>\n",
       "    <tr>\n",
       "      <th>level_b</th>\n",
       "      <th>cytosol</th>\n",
       "      <th>nucleoplasm</th>\n",
       "    </tr>\n",
       "    <tr>\n",
       "      <th>ensg_id</th>\n",
       "      <th></th>\n",
       "      <th></th>\n",
       "    </tr>\n",
       "  </thead>\n",
       "  <tbody>\n",
       "    <tr>\n",
       "      <th>ENSG00000000003</th>\n",
       "      <td>1</td>\n",
       "      <td>0</td>\n",
       "    </tr>\n",
       "    <tr>\n",
       "      <th>ENSG00000001167</th>\n",
       "      <td>0</td>\n",
       "      <td>1</td>\n",
       "    </tr>\n",
       "    <tr>\n",
       "      <th>ENSG00000001460</th>\n",
       "      <td>0</td>\n",
       "      <td>1</td>\n",
       "    </tr>\n",
       "    <tr>\n",
       "      <th>ENSG00000001461</th>\n",
       "      <td>0</td>\n",
       "      <td>1</td>\n",
       "    </tr>\n",
       "    <tr>\n",
       "      <th>ENSG00000002746</th>\n",
       "      <td>1</td>\n",
       "      <td>0</td>\n",
       "    </tr>\n",
       "  </tbody>\n",
       "</table>\n",
       "</div>"
      ],
      "text/plain": [
       "                level_b_bool            \n",
       "level_b              cytosol nucleoplasm\n",
       "ensg_id                                 \n",
       "ENSG00000000003            1           0\n",
       "ENSG00000001167            0           1\n",
       "ENSG00000001460            0           1\n",
       "ENSG00000001461            0           1\n",
       "ENSG00000002746            1           0"
      ]
     },
     "execution_count": 17,
     "metadata": {},
     "output_type": "execute_result"
    }
   ],
   "source": [
    "target_df.head()"
   ]
  },
  {
   "cell_type": "code",
   "execution_count": 20,
   "metadata": {},
   "outputs": [
    {
     "name": "stdout",
     "output_type": "stream",
     "text": [
      "total 130M\r\n",
      "drwxrwxrwx 13 ubuntu root   4.0K May 18 19:07 \u001b[0m\u001b[34;42m.\u001b[0m/\r\n",
      "drwxrwxrwx  4 root   root   4.0K Apr 24 23:53 \u001b[34;42m..\u001b[0m/\r\n",
      "drwxr-xr-x  3 root   root   4.0K Apr 25 00:38 \u001b[01;34mdata\u001b[0m/\r\n",
      "drwxrwxrwx  3 ubuntu ubuntu 4.0K Apr 24 23:25 \u001b[34;42mfastq\u001b[0m/\r\n",
      "drwxrwxr-x  2 ubuntu ubuntu 4.0K May 18 18:55 \u001b[01;34mfastq_dump_v2\u001b[0m/\r\n",
      "drwxrwxr-x  2 ubuntu ubuntu 4.0K May 18 18:54 \u001b[01;34mfastq_dump_v3\u001b[0m/\r\n",
      "drwxrwxr-x  3 ubuntu ubuntu 4.0K May 18 19:07 \u001b[01;34mfigures\u001b[0m/\r\n",
      "drwxrwxr-x  4 ubuntu ubuntu 4.0K May 16 21:20 \u001b[01;34mgenome\u001b[0m/\r\n",
      "drwxr-xr-x  2 root   root   4.0K Apr 24 23:53 \u001b[01;34mhca\u001b[0m/\r\n",
      "-rw-rw-r--  1 ubuntu ubuntu  80M May 16 21:35 Homo_sapiens.GRCh38.cdna.all.fa.nuclear_or_cytoplasmic\r\n",
      "-rw-rw-r--  1 ubuntu ubuntu  34M May 16 21:37 Homo_sapiens.GRCh38.cds.all.fa.nuclear_or_cytoplasmic\r\n",
      "-rw-rw-r--  1 ubuntu ubuntu  17M May 16 21:38 Homo_sapiens.GRCh38.pep.all.fa.nuclear_or_cytoplasmic\r\n",
      "drwxrwxr-x 25 ubuntu ubuntu 4.0K May 16 20:18 \u001b[01;34mrawdata\u001b[0m/\r\n",
      "drwxrwxr-x 14 ubuntu ubuntu 4.0K May 14 17:17 \u001b[01;34msourmash\u001b[0m/\r\n",
      "drwxrwxr-x  3 ubuntu ubuntu 4.0K Apr 25 17:20 \u001b[01;34mtrinity-output\u001b[0m/\r\n",
      "drwxrwxr-x  3 ubuntu ubuntu 4.0K May 17 00:18 \u001b[01;34mtrinity-workdir\u001b[0m/\r\n"
     ]
    }
   ],
   "source": [
    "ls -lha /mnt/data"
   ]
  },
  {
   "cell_type": "code",
   "execution_count": 21,
   "metadata": {},
   "outputs": [
    {
     "name": "stdout",
     "output_type": "stream",
     "text": [
      "/home/ubuntu/code/sequence-localization/data/021_get_nucleus_cytoplasm_sequences\r\n"
     ]
    }
   ],
   "source": [
    "! echo $data_folder"
   ]
  },
  {
   "cell_type": "code",
   "execution_count": 22,
   "metadata": {},
   "outputs": [],
   "source": [
    "! cp /mnt/data/*nuclear_or_cytoplasmic $data_folder"
   ]
  },
  {
   "cell_type": "code",
   "execution_count": 23,
   "metadata": {},
   "outputs": [
    {
     "name": "stdout",
     "output_type": "stream",
     "text": [
      "total 226M\r\n",
      "drwxrwxr-x 2 ubuntu ubuntu 4.0K May 16 23:10 .\r\n",
      "drwxrwxr-x 8 ubuntu ubuntu 4.0K May 16 21:31 ..\r\n",
      "-rw-rw-r-- 1 ubuntu ubuntu  80M May 18 19:54 Homo_sapiens.GRCh38.cdna.all.fa.nuclear_or_cytoplasmic\r\n",
      "-rw-rw-r-- 1 ubuntu ubuntu 169K May 18 19:53 Homo_sapiens.GRCh38.cdna.all.fa.nuclear_or_cytoplasmic.target.tsv\r\n",
      "-rw-rw-r-- 1 ubuntu ubuntu  25K May 16 23:09 Homo_sapiens.GRCh38.cdna.all.fa.nuclear_or_cytoplasmic.target.tsv.test\r\n",
      "-rw-rw-r-- 1 ubuntu ubuntu  97K May 16 23:09 Homo_sapiens.GRCh38.cdna.all.fa.nuclear_or_cytoplasmic.target.tsv.train\r\n",
      "-rw-rw-r-- 1 ubuntu ubuntu  12M May 16 23:09 Homo_sapiens.GRCh38.cdna.all.fa.nuclear_or_cytoplasmic.test\r\n",
      "-rw-rw-r-- 1 ubuntu ubuntu  48M May 16 23:09 Homo_sapiens.GRCh38.cdna.all.fa.nuclear_or_cytoplasmic.train\r\n",
      "-rw-rw-r-- 1 ubuntu ubuntu  34M May 18 19:54 Homo_sapiens.GRCh38.cds.all.fa.nuclear_or_cytoplasmic\r\n",
      "-rw-rw-r-- 1 ubuntu ubuntu 106K May 18 19:53 Homo_sapiens.GRCh38.cds.all.fa.nuclear_or_cytoplasmic.target.tsv\r\n",
      "-rw-rw-r-- 1 ubuntu ubuntu  15K May 16 23:09 Homo_sapiens.GRCh38.cds.all.fa.nuclear_or_cytoplasmic.target.tsv.test\r\n",
      "-rw-rw-r-- 1 ubuntu ubuntu  61K May 16 23:09 Homo_sapiens.GRCh38.cds.all.fa.nuclear_or_cytoplasmic.target.tsv.train\r\n",
      "-rw-rw-r-- 1 ubuntu ubuntu 5.0M May 16 23:09 Homo_sapiens.GRCh38.cds.all.fa.nuclear_or_cytoplasmic.test\r\n",
      "-rw-rw-r-- 1 ubuntu ubuntu  21M May 16 23:09 Homo_sapiens.GRCh38.cds.all.fa.nuclear_or_cytoplasmic.train\r\n",
      "-rw-rw-r-- 1 ubuntu ubuntu  17M May 18 19:54 Homo_sapiens.GRCh38.pep.all.fa.nuclear_or_cytoplasmic\r\n",
      "-rw-rw-r-- 1 ubuntu ubuntu 106K May 18 19:54 Homo_sapiens.GRCh38.pep.all.fa.nuclear_or_cytoplasmic.target.tsv\r\n",
      "-rw-rw-r-- 1 ubuntu ubuntu  15K May 16 23:09 Homo_sapiens.GRCh38.pep.all.fa.nuclear_or_cytoplasmic.target.tsv.test\r\n",
      "-rw-rw-r-- 1 ubuntu ubuntu  61K May 16 23:09 Homo_sapiens.GRCh38.pep.all.fa.nuclear_or_cytoplasmic.target.tsv.train\r\n",
      "-rw-rw-r-- 1 ubuntu ubuntu 2.4M May 16 23:09 Homo_sapiens.GRCh38.pep.all.fa.nuclear_or_cytoplasmic.test\r\n",
      "-rw-rw-r-- 1 ubuntu ubuntu 9.6M May 16 23:09 Homo_sapiens.GRCh38.pep.all.fa.nuclear_or_cytoplasmic.train\r\n"
     ]
    }
   ],
   "source": [
    "! ls -lha $data_folder"
   ]
  },
  {
   "cell_type": "code",
   "execution_count": 24,
   "metadata": {},
   "outputs": [
    {
     "name": "stdout",
     "output_type": "stream",
     "text": [
      "==> /home/ubuntu/code/sequence-localization/data/021_get_nucleus_cytoplasm_sequences/Homo_sapiens.GRCh38.cdna.all.fa.nuclear_or_cytoplasmic <==\r\n",
      ">ENST00000419783.2 cdna chromosome:GRCh38:3:49357171:49358600:-1 gene:ENSG00000233276.4 gene_biotype:polymorphic_pseudogene transcript_biotype:protein_coding gene_symbol:GPX1 description:glutathione peroxidase 1 [Source:HGNC Symbol;Acc:HGNC:4553]\r\n",
      "GAGCCCTCGAGGGCCCCAGCCCTTGGAAGGGTAACCTGGACCGCTGCCGCCTGGTTGCCT\r\n",
      "GGGCCAGACCAGACATGCCTGCTGCTCCTTCCGGCTTAGGAGGAGCACGCGTCCCGCTCG\r\n",
      "GGCGCACTCTCCAGCCTTTTCCTGGCTGAGGAGGGGCCGAGCCCTCCGGGTAGGGCGGGG\r\n",
      "GCCGGATGAGGCGGGACCCTCAGGCCCGGAAAACTGCCTGTGCCACGTGACCCGCCGCCG\r\n",
      "GCCAGTTAAAAGGAGGCGCCTGCTGGCCTCCCCTTACAGTGCTTGTTCGGGGCGCTCCGC\r\n",
      "TGGCTTCTTGGACAATTGCGCCATGTGTGCTGCTCGGCTAGCGGCGGCGGCGGCGGCGGC\r\n",
      "CCAGTCGGTGTATGCCTTCTCGGCGCGCCCGCTGGCCGGCGGGGAGCCTGTGAGCCTGGG\r\n",
      "CTCCCTGCGGGGCAAGGTACTACTTATCGAGAATGTGGCGTCCCTCTGAGGCACCACGGT\r\n",
      "CCGGGACTACACCCAGATGAACGAGCTGCAGCGGCGCCTCGGACCCCGGGGCCTGGTGGT\r\n",
      "\r\n",
      "==> /home/ubuntu/code/sequence-localization/data/021_get_nucleus_cytoplasm_sequences/Homo_sapiens.GRCh38.cdna.all.fa.nuclear_or_cytoplasmic.target.tsv <==\r\n",
      "1\t0\t1\t0\r\n",
      "1\t0\t1\t0\r\n",
      "1\t0\t1\t0\r\n",
      "1\t0\t1\t0\r\n",
      "1\t0\t1\t0\r\n",
      "1\t0\t1\t0\r\n",
      "0\t1\t0\t1\r\n",
      "1\t0\t1\t0\r\n",
      "0\t1\t0\t1\r\n",
      "0\t1\t0\t1\r\n",
      "\r\n",
      "==> /home/ubuntu/code/sequence-localization/data/021_get_nucleus_cytoplasm_sequences/Homo_sapiens.GRCh38.cdna.all.fa.nuclear_or_cytoplasmic.target.tsv.test <==\r\n",
      "1\t0\r\n",
      "1\t0\r\n",
      "0\t1\r\n",
      "0\t1\r\n",
      "0\t1\r\n",
      "0\t1\r\n",
      "0\t1\r\n",
      "1\t0\r\n",
      "0\t1\r\n",
      "0\t1\r\n",
      "\r\n",
      "==> /home/ubuntu/code/sequence-localization/data/021_get_nucleus_cytoplasm_sequences/Homo_sapiens.GRCh38.cdna.all.fa.nuclear_or_cytoplasmic.target.tsv.train <==\r\n",
      "1\t0\r\n",
      "1\t0\r\n",
      "1\t0\r\n",
      "1\t0\r\n",
      "1\t0\r\n",
      "1\t0\r\n",
      "0\t1\r\n",
      "1\t0\r\n",
      "0\t1\r\n",
      "0\t1\r\n",
      "\r\n",
      "==> /home/ubuntu/code/sequence-localization/data/021_get_nucleus_cytoplasm_sequences/Homo_sapiens.GRCh38.cdna.all.fa.nuclear_or_cytoplasmic.test <==\r\n",
      ">ENST00000361227.2 cdna chromosome:GRCh38:MT:10059:10404:1 gene:ENSG00000198840.2 gene_biotype:protein_coding transcript_biotype:protein_coding gene_symbol:MT-ND3 description:mitochondrially encoded NADH:ubiquinone oxidoreductase core subunit 3 [Source:HGNC Symbol;Acc:HGNC:7458]\r\n",
      "ATAAACTTCGCCTTAATTTTAATAATCAACACCCTCCTAGCCTTACTACTAATAATTATT\r\n",
      "ACATTTTGACTACCACAACTCAACGGCTACATAGAAAAATCCACCCCTTACGAGTGCGGC\r\n",
      "TTCGACCCTATATCCCCCGCCCGCGTCCCTTTCTCCATAAAATTCTTCTTAGTAGCTATT\r\n",
      "ACCTTCTTATTATTTGATCTAGAAATTGCCCTCCTTTTACCCCTACCATGAGCCCTACAA\r\n",
      "ACAACTAACCTGCCACTAATAGTTATGTCATCCCTCTTATTAATCATCATCCTAGCCCTA\r\n",
      "AGTCTGGCCTATGAGTGACTACAAAAAGGATTAGACTGAACCGAAT\r\n",
      ">ENST00000361335.1 cdna chromosome:GRCh38:MT:10470:10766:1 gene:ENSG00000212907.2 gene_biotype:protein_coding transcript_biotype:protein_coding gene_symbol:MT-ND4L description:mitochondrially encoded NADH:ubiquinone oxidoreductase core subunit 4L [Source:HGNC Symbol;Acc:HGNC:7460]\r\n",
      "ATGCCCCTCATTTACATAAATATTATACTAGCATTTACCATCTCACTTCTAGGAATACTA\r\n",
      "GTATATCGCTCACACCTCATATCCTCCCTACTATGCCTAGAAGGAATAATACTATCGCTG\r\n",
      "\r\n",
      "==> /home/ubuntu/code/sequence-localization/data/021_get_nucleus_cytoplasm_sequences/Homo_sapiens.GRCh38.cdna.all.fa.nuclear_or_cytoplasmic.train <==\r\n",
      ">ENST00000419783.2 cdna chromosome:GRCh38:3:49357171:49358600:-1 gene:ENSG00000233276.4 gene_biotype:polymorphic_pseudogene transcript_biotype:protein_coding gene_symbol:GPX1 description:glutathione peroxidase 1 [Source:HGNC Symbol;Acc:HGNC:4553]\r\n",
      "GAGCCCTCGAGGGCCCCAGCCCTTGGAAGGGTAACCTGGACCGCTGCCGCCTGGTTGCCT\r\n",
      "GGGCCAGACCAGACATGCCTGCTGCTCCTTCCGGCTTAGGAGGAGCACGCGTCCCGCTCG\r\n",
      "GGCGCACTCTCCAGCCTTTTCCTGGCTGAGGAGGGGCCGAGCCCTCCGGGTAGGGCGGGG\r\n",
      "GCCGGATGAGGCGGGACCCTCAGGCCCGGAAAACTGCCTGTGCCACGTGACCCGCCGCCG\r\n",
      "GCCAGTTAAAAGGAGGCGCCTGCTGGCCTCCCCTTACAGTGCTTGTTCGGGGCGCTCCGC\r\n",
      "TGGCTTCTTGGACAATTGCGCCATGTGTGCTGCTCGGCTAGCGGCGGCGGCGGCGGCGGC\r\n",
      "CCAGTCGGTGTATGCCTTCTCGGCGCGCCCGCTGGCCGGCGGGGAGCCTGTGAGCCTGGG\r\n",
      "CTCCCTGCGGGGCAAGGTACTACTTATCGAGAATGTGGCGTCCCTCTGAGGCACCACGGT\r\n",
      "CCGGGACTACACCCAGATGAACGAGCTGCAGCGGCGCCTCGGACCCCGGGGCCTGGTGGT\r\n",
      "\r\n",
      "==> /home/ubuntu/code/sequence-localization/data/021_get_nucleus_cytoplasm_sequences/Homo_sapiens.GRCh38.cds.all.fa.nuclear_or_cytoplasmic <==\r\n",
      ">ENST00000419783.2 cds chromosome:GRCh38:3:49357171:49358600:-1 gene:ENSG00000233276.4 gene_biotype:polymorphic_pseudogene transcript_biotype:protein_coding gene_symbol:GPX1 description:glutathione peroxidase 1 [Source:HGNC Symbol;Acc:HGNC:4553]\r\n",
      "ATGTGTGCTGCTCGGCTAGCGGCGGCGGCGGCGGCGGCCCAGTCGGTGTATGCCTTCTCG\r\n",
      "GCGCGCCCGCTGGCCGGCGGGGAGCCTGTGAGCCTGGGCTCCCTGCGGGGCAAGGTACTA\r\n",
      "CTTATCGAGAATGTGGCGTCCCTCTGAGGCACCACGGTCCGGGACTACACCCAGATGAAC\r\n",
      "GAGCTGCAGCGGCGCCTCGGACCCCGGGGCCTGGTGGTGCTCGGCTTCCCGTGCAACCAG\r\n",
      "TTTGGGCATCAGGAGAACGCCAAGAACGAAGAGATTCTGAATTCCCTCAAGTACGTCCGG\r\n",
      "CCTGGTGGTGGGTTCGAGCCCAACTTCATGCTCTTCGAGAAGTGCGAGGTGAACGGTGCG\r\n",
      "GGGGCGCACCCTCTCTTCGCCTTCCTGCGGGAGGCCCTGCCAGCTCCCAGCGACGACGCC\r\n",
      "ACCGCGCTTATGACCGACCCCAAGCTCATCACCTGGTCTCCGGTGTGTCGCAACGATGTT\r\n",
      "GCCTGGAACTTTGAGAAGTTCCTGGTGGGCCCTGACGGTGTGCCCCTACGCAGGTACAGC\r\n",
      "\r\n",
      "==> /home/ubuntu/code/sequence-localization/data/021_get_nucleus_cytoplasm_sequences/Homo_sapiens.GRCh38.cds.all.fa.nuclear_or_cytoplasmic.target.tsv <==\r\n",
      "1\t0\t1\t0\r\n",
      "1\t0\t1\t0\r\n",
      "1\t0\t1\t0\r\n",
      "1\t0\t1\t0\r\n",
      "1\t0\t1\t0\r\n",
      "1\t0\t1\t0\r\n",
      "0\t1\t0\t1\r\n",
      "1\t0\t1\t0\r\n",
      "0\t1\t0\t1\r\n",
      "0\t1\t0\t1\r\n",
      "\r\n",
      "==> /home/ubuntu/code/sequence-localization/data/021_get_nucleus_cytoplasm_sequences/Homo_sapiens.GRCh38.cds.all.fa.nuclear_or_cytoplasmic.target.tsv.test <==\r\n",
      "1\t0\r\n",
      "1\t0\r\n",
      "0\t1\r\n",
      "1\t0\r\n",
      "1\t0\r\n",
      "0\t1\r\n",
      "0\t1\r\n",
      "0\t1\r\n",
      "0\t1\r\n",
      "0\t1\r\n",
      "\r\n",
      "==> /home/ubuntu/code/sequence-localization/data/021_get_nucleus_cytoplasm_sequences/Homo_sapiens.GRCh38.cds.all.fa.nuclear_or_cytoplasmic.target.tsv.train <==\r\n",
      "1\t0\r\n",
      "1\t0\r\n",
      "1\t0\r\n",
      "1\t0\r\n",
      "0\t1\r\n",
      "1\t0\r\n",
      "1\t0\r\n",
      "1\t0\r\n",
      "0\t1\r\n",
      "0\t1\r\n",
      "\r\n",
      "==> /home/ubuntu/code/sequence-localization/data/021_get_nucleus_cytoplasm_sequences/Homo_sapiens.GRCh38.cds.all.fa.nuclear_or_cytoplasmic.test <==\r\n",
      ">ENST00000643797.1 cds chromosome:GRCh38:3:49357201:49358325:-1 gene:ENSG00000233276.4 gene_biotype:polymorphic_pseudogene transcript_biotype:protein_coding gene_symbol:GPX1 description:glutathione peroxidase 1 [Source:HGNC Symbol;Acc:HGNC:4553]\r\n",
      "ATGTGTGCTGCTCGGCTAGCGGCGGCGGCGGCGGCGGCCCAGTCGGTGTATGCCTTCTCG\r\n",
      "GCGCGCCCGCTGGCCGGCGGGGAGCCTGTGAGCCTGGGCTCCCTGCGGGGCAAGGAGAAC\r\n",
      "GCCAAGAACGAAGAGATTCTGAATTCCCTCAAGTACGTCCGGCCTGGTGGTGGGTTCGAG\r\n",
      "CCCAACTTCATGCTCTTCGAGAAGTGCGAGGTGAACGGTGCGGGGGCGCACCCTCTCTTC\r\n",
      "GCCTTCCTGCGGGAGGCCCTGCCAGCTCCCAGCGACGACGCCACCGCGCTTATGACCGAC\r\n",
      "CCCAAGCTCATCACCTGGTCTCCGGTGTGTCGCAACGATGTTGCCTGGAACTTTGAGAAG\r\n",
      "TTCCTGGTGGGCCCTGACGGTGTGCCCCTACGCAGGTACAGCCGCCGCTTCCAGACCATT\r\n",
      "GACATCGAGCCTGACATCGAAGCCCTGCTGTCTCAAGGGCCCAGCTGTGCCTAG\r\n",
      ">ENST00000496791.1 cds chromosome:GRCh38:3:49357608:49358325:-1 gene:ENSG00000233276.4 gene_biotype:polymorphic_pseudogene transcript_biotype:polymorphic_pseudogene gene_symbol:GPX1 description:glutathione peroxidase 1 [Source:HGNC Symbol;Acc:HGNC:4553]\r\n",
      "\r\n",
      "==> /home/ubuntu/code/sequence-localization/data/021_get_nucleus_cytoplasm_sequences/Homo_sapiens.GRCh38.cds.all.fa.nuclear_or_cytoplasmic.train <==\r\n",
      ">ENST00000419783.2 cds chromosome:GRCh38:3:49357171:49358600:-1 gene:ENSG00000233276.4 gene_biotype:polymorphic_pseudogene transcript_biotype:protein_coding gene_symbol:GPX1 description:glutathione peroxidase 1 [Source:HGNC Symbol;Acc:HGNC:4553]\r\n",
      "ATGTGTGCTGCTCGGCTAGCGGCGGCGGCGGCGGCGGCCCAGTCGGTGTATGCCTTCTCG\r\n",
      "GCGCGCCCGCTGGCCGGCGGGGAGCCTGTGAGCCTGGGCTCCCTGCGGGGCAAGGTACTA\r\n",
      "CTTATCGAGAATGTGGCGTCCCTCTGAGGCACCACGGTCCGGGACTACACCCAGATGAAC\r\n",
      "GAGCTGCAGCGGCGCCTCGGACCCCGGGGCCTGGTGGTGCTCGGCTTCCCGTGCAACCAG\r\n",
      "TTTGGGCATCAGGAGAACGCCAAGAACGAAGAGATTCTGAATTCCCTCAAGTACGTCCGG\r\n",
      "CCTGGTGGTGGGTTCGAGCCCAACTTCATGCTCTTCGAGAAGTGCGAGGTGAACGGTGCG\r\n",
      "GGGGCGCACCCTCTCTTCGCCTTCCTGCGGGAGGCCCTGCCAGCTCCCAGCGACGACGCC\r\n",
      "ACCGCGCTTATGACCGACCCCAAGCTCATCACCTGGTCTCCGGTGTGTCGCAACGATGTT\r\n",
      "GCCTGGAACTTTGAGAAGTTCCTGGTGGGCCCTGACGGTGTGCCCCTACGCAGGTACAGC\r\n",
      "\r\n",
      "==> /home/ubuntu/code/sequence-localization/data/021_get_nucleus_cytoplasm_sequences/Homo_sapiens.GRCh38.pep.all.fa.nuclear_or_cytoplasmic <==\r\n",
      ">ENSP00000407375.1 pep chromosome:GRCh38:3:49357171:49358600:-1 gene:ENSG00000233276.4 transcript:ENST00000419783.2 gene_biotype:polymorphic_pseudogene transcript_biotype:protein_coding gene_symbol:GPX1 description:glutathione peroxidase 1 [Source:HGNC Symbol;Acc:HGNC:4553]\r\n",
      "MCAARLAAAAAAAQSVYAFSARPLAGGEPVSLGSLRGKVLLIENVASLUGTTVRDYTQMN\r\n",
      "ELQRRLGPRGLVVLGFPCNQFGHQENAKNEEILNSLKYVRPGGGFEPNFMLFEKCEVNGA\r\n",
      "GAHPLFAFLREALPAPSDDATALMTDPKLITWSPVCRNDVAWNFEKFLVGPDGVPLRRYS\r\n",
      "RRFQTIDIEPDIEALLSQGPSCA\r\n",
      ">ENSP00000391316.1 pep chromosome:GRCh38:3:49357178:49358312:-1 gene:ENSG00000233276.4 transcript:ENST00000419349.2 gene_biotype:polymorphic_pseudogene transcript_biotype:protein_coding gene_symbol:GPX1 description:glutathione peroxidase 1 [Source:HGNC Symbol;Acc:HGNC:4553]\r\n",
      "MCAARLAAAAAAAQSVYAFSARPLAGGEPVSLGSLRGKVLLIENVASLUGTTVRDYTQMN\r\n",
      "ELQRRLGPRGLVVLGFPCNQFGHQVRRAERGGAGADVQ\r\n",
      ">ENSP00000495108.1 pep chromosome:GRCh38:3:49357201:49358325:-1 gene:ENSG00000233276.4 transcript:ENST00000643797.1 gene_biotype:polymorphic_pseudogene transcript_biotype:protein_coding gene_symbol:GPX1 description:glutathione peroxidase 1 [Source:HGNC Symbol;Acc:HGNC:4553]\r\n",
      "MCAARLAAAAAAAQSVYAFSARPLAGGEPVSLGSLRGKENAKNEEILNSLKYVRPGGGFE\r\n",
      "\r\n",
      "==> /home/ubuntu/code/sequence-localization/data/021_get_nucleus_cytoplasm_sequences/Homo_sapiens.GRCh38.pep.all.fa.nuclear_or_cytoplasmic.target.tsv <==\r\n",
      "1\t0\t1\t0\r\n",
      "1\t0\t1\t0\r\n",
      "1\t0\t1\t0\r\n",
      "1\t0\t1\t0\r\n",
      "1\t0\t1\t0\r\n",
      "1\t0\t1\t0\r\n",
      "0\t1\t0\t1\r\n",
      "1\t0\t1\t0\r\n",
      "0\t1\t0\t1\r\n",
      "0\t1\t0\t1\r\n",
      "\r\n",
      "==> /home/ubuntu/code/sequence-localization/data/021_get_nucleus_cytoplasm_sequences/Homo_sapiens.GRCh38.pep.all.fa.nuclear_or_cytoplasmic.target.tsv.test <==\r\n",
      "0\t1\r\n",
      "1\t0\r\n",
      "0\t1\r\n",
      "0\t1\r\n",
      "0\t1\r\n",
      "1\t0\r\n",
      "1\t0\r\n",
      "1\t0\r\n",
      "0\t1\r\n",
      "0\t1\r\n",
      "\r\n",
      "==> /home/ubuntu/code/sequence-localization/data/021_get_nucleus_cytoplasm_sequences/Homo_sapiens.GRCh38.pep.all.fa.nuclear_or_cytoplasmic.target.tsv.train <==\r\n",
      "1\t0\r\n",
      "1\t0\r\n",
      "1\t0\r\n",
      "1\t0\r\n",
      "1\t0\r\n",
      "1\t0\r\n",
      "1\t0\r\n",
      "1\t0\r\n",
      "0\t1\r\n",
      "0\t1\r\n",
      "\r\n",
      "==> /home/ubuntu/code/sequence-localization/data/021_get_nucleus_cytoplasm_sequences/Homo_sapiens.GRCh38.pep.all.fa.nuclear_or_cytoplasmic.test <==\r\n",
      ">ENSP00000354982.2 pep chromosome:GRCh38:MT:9207:9990:1 gene:ENSG00000198938.2 transcript:ENST00000362079.2 gene_biotype:protein_coding transcript_biotype:protein_coding gene_symbol:MT-CO3 description:mitochondrially encoded cytochrome c oxidase III [Source:HGNC Symbol;Acc:HGNC:7422]\r\n",
      "MTHQSHAYHMVKPSPWPLTGALSALLMTSGLAMWFHFHSMTLLMLGLLTNTLTMYQWWRD\r\n",
      "VTRESTYQGHHTPPVQKGLRYGMILFITSEVFFFAGFFWAFYHSSLAPTPQLGGHWPPTG\r\n",
      "ITPLNPLEVPLLNTSVLLASGVSITWAHHSLMENNRNQMIQALLITILLGLYFTLLQASE\r\n",
      "YFESPFTISDGIYGSTFFVATGFHGLHVIIGSTFLTICFIRQLMFHFTSKHHFGFEAAAW\r\n",
      "YWHFVDVVWLFLYVSIYWWGS\r\n",
      ">ENSP00000354728.1 pep chromosome:GRCh38:MT:10470:10766:1 gene:ENSG00000212907.2 transcript:ENST00000361335.1 gene_biotype:protein_coding transcript_biotype:protein_coding gene_symbol:MT-ND4L description:mitochondrially encoded NADH:ubiquinone oxidoreductase core subunit 4L [Source:HGNC Symbol;Acc:HGNC:7460]\r\n",
      "MPLIYMNIMLAFTISLLGMLVYRSHLMSSLLCLEGMMLSLFIMATLMTLNTHSLLANIVP\r\n",
      "IAMLVFAACEAAVGLALLVSISNTYGLDYVHNLNLLQC\r\n",
      ">ENSP00000445721.1 pep chromosome:GRCh38:12:106358082:106510196:1 gene:ENSG00000013503.9 transcript:ENST00000539066.5 gene_biotype:protein_coding transcript_biotype:protein_coding gene_symbol:POLR3B description:RNA polymerase III subunit B [Source:HGNC Symbol;Acc:HGNC:30348]\r\n",
      "\r\n",
      "==> /home/ubuntu/code/sequence-localization/data/021_get_nucleus_cytoplasm_sequences/Homo_sapiens.GRCh38.pep.all.fa.nuclear_or_cytoplasmic.train <==\r\n",
      ">ENSP00000407375.1 pep chromosome:GRCh38:3:49357171:49358600:-1 gene:ENSG00000233276.4 transcript:ENST00000419783.2 gene_biotype:polymorphic_pseudogene transcript_biotype:protein_coding gene_symbol:GPX1 description:glutathione peroxidase 1 [Source:HGNC Symbol;Acc:HGNC:4553]\r\n",
      "MCAARLAAAAAAAQSVYAFSARPLAGGEPVSLGSLRGKVLLIENVASLUGTTVRDYTQMN\r\n",
      "ELQRRLGPRGLVVLGFPCNQFGHQENAKNEEILNSLKYVRPGGGFEPNFMLFEKCEVNGA\r\n",
      "GAHPLFAFLREALPAPSDDATALMTDPKLITWSPVCRNDVAWNFEKFLVGPDGVPLRRYS\r\n",
      "RRFQTIDIEPDIEALLSQGPSCA\r\n",
      ">ENSP00000391316.1 pep chromosome:GRCh38:3:49357178:49358312:-1 gene:ENSG00000233276.4 transcript:ENST00000419349.2 gene_biotype:polymorphic_pseudogene transcript_biotype:protein_coding gene_symbol:GPX1 description:glutathione peroxidase 1 [Source:HGNC Symbol;Acc:HGNC:4553]\r\n",
      "MCAARLAAAAAAAQSVYAFSARPLAGGEPVSLGSLRGKVLLIENVASLUGTTVRDYTQMN\r\n",
      "ELQRRLGPRGLVVLGFPCNQFGHQVRRAERGGAGADVQ\r\n",
      ">ENSP00000495108.1 pep chromosome:GRCh38:3:49357201:49358325:-1 gene:ENSG00000233276.4 transcript:ENST00000643797.1 gene_biotype:polymorphic_pseudogene transcript_biotype:protein_coding gene_symbol:GPX1 description:glutathione peroxidase 1 [Source:HGNC Symbol;Acc:HGNC:4553]\r\n",
      "MCAARLAAAAAAAQSVYAFSARPLAGGEPVSLGSLRGKENAKNEEILNSLKYVRPGGGFE\r\n"
     ]
    }
   ],
   "source": [
    "! head $data_folder/*"
   ]
  },
  {
   "cell_type": "markdown",
   "metadata": {},
   "source": [
    "### Make train and test sets"
   ]
  },
  {
   "cell_type": "code",
   "execution_count": 25,
   "metadata": {},
   "outputs": [
    {
     "data": {
      "text/plain": [
       "'/home/ubuntu/code/sequence-localization/data/021_get_nucleus_cytoplasm_sequences'"
      ]
     },
     "execution_count": 25,
     "metadata": {},
     "output_type": "execute_result"
    }
   ],
   "source": [
    "data_folder"
   ]
  },
  {
   "cell_type": "code",
   "execution_count": 1,
   "metadata": {},
   "outputs": [
    {
     "ename": "NameError",
     "evalue": "name 'fastas' is not defined",
     "output_type": "error",
     "traceback": [
      "\u001b[0;31m---------------------------------------------------------------------------\u001b[0m",
      "\u001b[0;31mNameError\u001b[0m                                 Traceback (most recent call last)",
      "\u001b[0;32m<ipython-input-1-2005b99ae0e2>\u001b[0m in \u001b[0;36m<module>\u001b[0;34m()\u001b[0m\n\u001b[1;32m     11\u001b[0m \u001b[0mtrain_fraction\u001b[0m \u001b[0;34m=\u001b[0m \u001b[0;36m0.8\u001b[0m\u001b[0;34m\u001b[0m\u001b[0m\n\u001b[1;32m     12\u001b[0m \u001b[0;34m\u001b[0m\u001b[0m\n\u001b[0;32m---> 13\u001b[0;31m \u001b[0;32mfor\u001b[0m \u001b[0mfasta\u001b[0m \u001b[0;32min\u001b[0m \u001b[0mfastas\u001b[0m\u001b[0;34m:\u001b[0m\u001b[0;34m\u001b[0m\u001b[0m\n\u001b[0m\u001b[1;32m     14\u001b[0m     \u001b[0minput_fasta\u001b[0m \u001b[0;34m=\u001b[0m \u001b[0mos\u001b[0m\u001b[0;34m.\u001b[0m\u001b[0mpath\u001b[0m\u001b[0;34m.\u001b[0m\u001b[0mjoin\u001b[0m\u001b[0;34m(\u001b[0m\u001b[0mdata_folder\u001b[0m\u001b[0;34m,\u001b[0m \u001b[0;34mf\"{fasta}.nuclear_or_cytoplasmic\"\u001b[0m\u001b[0;34m)\u001b[0m\u001b[0;34m\u001b[0m\u001b[0m\n\u001b[1;32m     15\u001b[0m     \u001b[0mprint\u001b[0m\u001b[0;34m(\u001b[0m\u001b[0minput_fasta\u001b[0m\u001b[0;34m)\u001b[0m\u001b[0;34m\u001b[0m\u001b[0m\n",
      "\u001b[0;31mNameError\u001b[0m: name 'fastas' is not defined"
     ]
    }
   ],
   "source": [
    "# %%time\n",
    "\n",
    "import numpy as np\n",
    "\n",
    "np.random.seed(0)\n",
    "\n",
    "# %%time\n",
    "\n",
    "from Bio import SeqIO\n",
    "\n",
    "train_fraction = 0.8\n",
    "\n",
    "for fasta in fastas:\n",
    "    input_fasta = os.path.join(data_folder, f\"{fasta}.nuclear_or_cytoplasmic\")\n",
    "    print(input_fasta)\n",
    "    csv = os.path.join(data_folder,f\"{fasta}.nuclear_or_cytoplasmic.target.tsv\")\n",
    "    target = pd.read_table(csv, header=None)\n",
    "    print('\\ttarget.shape', target.shape)\n",
    "    \n",
    "    total = len(target.index)\n",
    "    train_index = np.random.random_sample(total) < 0.8\n",
    "    print(\"\\ttrain_index.sum():\", train_index.sum())\n",
    "\n",
    "    train_target = target.loc[train_index]\n",
    "    test_target = target.loc[~train_index]\n",
    "    \n",
    "    valid_index = train_index\n",
    "    \n",
    "    print(\"\\ttest_target.shape:\", test_target.shape, f'{100*float(len(test_target.index))/total}')\n",
    "    print(\"\\ttrain_target.shape:\", train_target.shape)\n",
    "    \n",
    "    test_target.to_csv(csv + \".test\", index=False, header=False, sep='\\t')\n",
    "    train_target.to_csv(csv + \".train\", index=False, header=False, sep='\\t')\n",
    "    \n",
    "    test_records = []\n",
    "    train_records = []\n",
    "    \n",
    "#     for i, record in enumerate(SeqIO.parse(input_fasta, \"fasta\")):\n",
    "#         if train_index[i]:\n",
    "#             train_records.append(record)\n",
    "#         else:\n",
    "#             test_records.append(record)\n",
    "    \n",
    "#     SeqIO.write(test_records, input_fasta + \".test\", \"fasta\")\n",
    "#     SeqIO.write(train_records, input_fasta + \".train\", \"fasta\")"
   ]
  },
  {
   "cell_type": "code",
   "execution_count": 20,
   "metadata": {},
   "outputs": [
    {
     "data": {
      "text/html": [
       "<div>\n",
       "<style scoped>\n",
       "    .dataframe tbody tr th:only-of-type {\n",
       "        vertical-align: middle;\n",
       "    }\n",
       "\n",
       "    .dataframe tbody tr th {\n",
       "        vertical-align: top;\n",
       "    }\n",
       "\n",
       "    .dataframe thead th {\n",
       "        text-align: right;\n",
       "    }\n",
       "</style>\n",
       "<table border=\"1\" class=\"dataframe\">\n",
       "  <thead>\n",
       "    <tr style=\"text-align: right;\">\n",
       "      <th></th>\n",
       "      <th>0</th>\n",
       "      <th>1</th>\n",
       "    </tr>\n",
       "  </thead>\n",
       "  <tbody>\n",
       "    <tr>\n",
       "      <th>0</th>\n",
       "      <td>1</td>\n",
       "      <td>0</td>\n",
       "    </tr>\n",
       "    <tr>\n",
       "      <th>1</th>\n",
       "      <td>1</td>\n",
       "      <td>0</td>\n",
       "    </tr>\n",
       "    <tr>\n",
       "      <th>2</th>\n",
       "      <td>1</td>\n",
       "      <td>0</td>\n",
       "    </tr>\n",
       "    <tr>\n",
       "      <th>3</th>\n",
       "      <td>1</td>\n",
       "      <td>0</td>\n",
       "    </tr>\n",
       "    <tr>\n",
       "      <th>4</th>\n",
       "      <td>1</td>\n",
       "      <td>0</td>\n",
       "    </tr>\n",
       "  </tbody>\n",
       "</table>\n",
       "</div>"
      ],
      "text/plain": [
       "   0  1\n",
       "0  1  0\n",
       "1  1  0\n",
       "2  1  0\n",
       "3  1  0\n",
       "4  1  0"
      ]
     },
     "execution_count": 20,
     "metadata": {},
     "output_type": "execute_result"
    }
   ],
   "source": [
    "target.head()"
   ]
  },
  {
   "cell_type": "code",
   "execution_count": 21,
   "metadata": {},
   "outputs": [
    {
     "data": {
      "text/html": [
       "<div>\n",
       "<style scoped>\n",
       "    .dataframe tbody tr th:only-of-type {\n",
       "        vertical-align: middle;\n",
       "    }\n",
       "\n",
       "    .dataframe tbody tr th {\n",
       "        vertical-align: top;\n",
       "    }\n",
       "\n",
       "    .dataframe thead th {\n",
       "        text-align: right;\n",
       "    }\n",
       "</style>\n",
       "<table border=\"1\" class=\"dataframe\">\n",
       "  <thead>\n",
       "    <tr style=\"text-align: right;\">\n",
       "      <th></th>\n",
       "      <th>0</th>\n",
       "      <th>1</th>\n",
       "    </tr>\n",
       "  </thead>\n",
       "  <tbody>\n",
       "    <tr>\n",
       "      <th>13458</th>\n",
       "      <td>0</td>\n",
       "      <td>1</td>\n",
       "    </tr>\n",
       "    <tr>\n",
       "      <th>13467</th>\n",
       "      <td>1</td>\n",
       "      <td>0</td>\n",
       "    </tr>\n",
       "    <tr>\n",
       "      <th>13468</th>\n",
       "      <td>1</td>\n",
       "      <td>0</td>\n",
       "    </tr>\n",
       "    <tr>\n",
       "      <th>13484</th>\n",
       "      <td>1</td>\n",
       "      <td>0</td>\n",
       "    </tr>\n",
       "    <tr>\n",
       "      <th>13487</th>\n",
       "      <td>1</td>\n",
       "      <td>0</td>\n",
       "    </tr>\n",
       "  </tbody>\n",
       "</table>\n",
       "</div>"
      ],
      "text/plain": [
       "       0  1\n",
       "13458  0  1\n",
       "13467  1  0\n",
       "13468  1  0\n",
       "13484  1  0\n",
       "13487  1  0"
      ]
     },
     "execution_count": 21,
     "metadata": {},
     "output_type": "execute_result"
    }
   ],
   "source": [
    "test_target.tail()"
   ]
  },
  {
   "cell_type": "code",
   "execution_count": 22,
   "metadata": {},
   "outputs": [
    {
     "name": "stdout",
     "output_type": "stream",
     "text": [
      "total 137M\r\n",
      "drwxrwxr-x 2 ubuntu ubuntu 4.0K May 16 23:10 \u001b[0m\u001b[01;34m.\u001b[0m/\r\n",
      "drwxrwxr-x 8 ubuntu ubuntu 4.0K May 16 21:31 \u001b[01;34m..\u001b[0m/\r\n",
      "-rw-rw-r-- 1 ubuntu ubuntu  42M May 18 21:40 Homo_sapiens.GRCh38.cdna.all.fa.nuclear_or_cytoplasmic\r\n",
      "-rw-rw-r-- 1 ubuntu ubuntu  85K May 18 21:40 Homo_sapiens.GRCh38.cdna.all.fa.nuclear_or_cytoplasmic.target.tsv\r\n",
      "-rw-rw-r-- 1 ubuntu ubuntu  17K May 18 23:20 Homo_sapiens.GRCh38.cdna.all.fa.nuclear_or_cytoplasmic.target.tsv.test\r\n",
      "-rw-rw-r-- 1 ubuntu ubuntu  68K May 18 23:20 Homo_sapiens.GRCh38.cdna.all.fa.nuclear_or_cytoplasmic.target.tsv.train\r\n",
      "-rw-rw-r-- 1 ubuntu ubuntu 8.4M May 18 23:20 Homo_sapiens.GRCh38.cdna.all.fa.nuclear_or_cytoplasmic.test\r\n",
      "-rw-rw-r-- 1 ubuntu ubuntu  34M May 18 23:20 Homo_sapiens.GRCh38.cdna.all.fa.nuclear_or_cytoplasmic.train\r\n",
      "-rw-rw-r-- 1 ubuntu ubuntu  18M May 18 21:41 Homo_sapiens.GRCh38.cds.all.fa.nuclear_or_cytoplasmic\r\n",
      "-rw-rw-r-- 1 ubuntu ubuntu  53K May 18 21:41 Homo_sapiens.GRCh38.cds.all.fa.nuclear_or_cytoplasmic.target.tsv\r\n",
      "-rw-rw-r-- 1 ubuntu ubuntu  11K May 18 23:20 Homo_sapiens.GRCh38.cds.all.fa.nuclear_or_cytoplasmic.target.tsv.test\r\n",
      "-rw-rw-r-- 1 ubuntu ubuntu  43K May 18 23:20 Homo_sapiens.GRCh38.cds.all.fa.nuclear_or_cytoplasmic.target.tsv.train\r\n",
      "-rw-rw-r-- 1 ubuntu ubuntu 3.6M May 18 23:20 Homo_sapiens.GRCh38.cds.all.fa.nuclear_or_cytoplasmic.test\r\n",
      "-rw-rw-r-- 1 ubuntu ubuntu  15M May 18 23:20 Homo_sapiens.GRCh38.cds.all.fa.nuclear_or_cytoplasmic.train\r\n",
      "-rw-rw-r-- 1 ubuntu ubuntu 8.5M May 18 21:41 Homo_sapiens.GRCh38.pep.all.fa.nuclear_or_cytoplasmic\r\n",
      "-rw-rw-r-- 1 ubuntu ubuntu  53K May 18 21:41 Homo_sapiens.GRCh38.pep.all.fa.nuclear_or_cytoplasmic.target.tsv\r\n",
      "-rw-rw-r-- 1 ubuntu ubuntu  11K May 18 23:20 Homo_sapiens.GRCh38.pep.all.fa.nuclear_or_cytoplasmic.target.tsv.test\r\n",
      "-rw-rw-r-- 1 ubuntu ubuntu  43K May 18 23:20 Homo_sapiens.GRCh38.pep.all.fa.nuclear_or_cytoplasmic.target.tsv.train\r\n",
      "-rw-rw-r-- 1 ubuntu ubuntu 1.7M May 18 23:20 Homo_sapiens.GRCh38.pep.all.fa.nuclear_or_cytoplasmic.test\r\n",
      "-rw-rw-r-- 1 ubuntu ubuntu 6.8M May 18 23:20 Homo_sapiens.GRCh38.pep.all.fa.nuclear_or_cytoplasmic.train\r\n"
     ]
    }
   ],
   "source": [
    "ls -lha $data_folder"
   ]
  },
  {
   "cell_type": "code",
   "execution_count": 23,
   "metadata": {},
   "outputs": [
    {
     "name": "stdout",
     "output_type": "stream",
     "text": [
      "==> /home/ubuntu/code/sequence-localization/data/021_get_nucleus_cytoplasm_sequences/Homo_sapiens.GRCh38.cdna.all.fa.nuclear_or_cytoplasmic <==\r\n",
      ">ENST00000419783.2 cdna chromosome:GRCh38:3:49357171:49358600:-1 gene:ENSG00000233276.4 gene_biotype:polymorphic_pseudogene transcript_biotype:protein_coding gene_symbol:GPX1 description:glutathione peroxidase 1 [Source:HGNC Symbol;Acc:HGNC:4553]\r\n",
      "GAGCCCTCGAGGGCCCCAGCCCTTGGAAGGGTAACCTGGACCGCTGCCGCCTGGTTGCCT\r\n",
      "GGGCCAGACCAGACATGCCTGCTGCTCCTTCCGGCTTAGGAGGAGCACGCGTCCCGCTCG\r\n",
      "GGCGCACTCTCCAGCCTTTTCCTGGCTGAGGAGGGGCCGAGCCCTCCGGGTAGGGCGGGG\r\n",
      "GCCGGATGAGGCGGGACCCTCAGGCCCGGAAAACTGCCTGTGCCACGTGACCCGCCGCCG\r\n",
      "GCCAGTTAAAAGGAGGCGCCTGCTGGCCTCCCCTTACAGTGCTTGTTCGGGGCGCTCCGC\r\n",
      "TGGCTTCTTGGACAATTGCGCCATGTGTGCTGCTCGGCTAGCGGCGGCGGCGGCGGCGGC\r\n",
      "CCAGTCGGTGTATGCCTTCTCGGCGCGCCCGCTGGCCGGCGGGGAGCCTGTGAGCCTGGG\r\n",
      "CTCCCTGCGGGGCAAGGTACTACTTATCGAGAATGTGGCGTCCCTCTGAGGCACCACGGT\r\n",
      "CCGGGACTACACCCAGATGAACGAGCTGCAGCGGCGCCTCGGACCCCGGGGCCTGGTGGT\r\n",
      "\r\n",
      "==> /home/ubuntu/code/sequence-localization/data/021_get_nucleus_cytoplasm_sequences/Homo_sapiens.GRCh38.cds.all.fa.nuclear_or_cytoplasmic <==\r\n",
      ">ENST00000419783.2 cds chromosome:GRCh38:3:49357171:49358600:-1 gene:ENSG00000233276.4 gene_biotype:polymorphic_pseudogene transcript_biotype:protein_coding gene_symbol:GPX1 description:glutathione peroxidase 1 [Source:HGNC Symbol;Acc:HGNC:4553]\r\n",
      "ATGTGTGCTGCTCGGCTAGCGGCGGCGGCGGCGGCGGCCCAGTCGGTGTATGCCTTCTCG\r\n",
      "GCGCGCCCGCTGGCCGGCGGGGAGCCTGTGAGCCTGGGCTCCCTGCGGGGCAAGGTACTA\r\n",
      "CTTATCGAGAATGTGGCGTCCCTCTGAGGCACCACGGTCCGGGACTACACCCAGATGAAC\r\n",
      "GAGCTGCAGCGGCGCCTCGGACCCCGGGGCCTGGTGGTGCTCGGCTTCCCGTGCAACCAG\r\n",
      "TTTGGGCATCAGGAGAACGCCAAGAACGAAGAGATTCTGAATTCCCTCAAGTACGTCCGG\r\n",
      "CCTGGTGGTGGGTTCGAGCCCAACTTCATGCTCTTCGAGAAGTGCGAGGTGAACGGTGCG\r\n",
      "GGGGCGCACCCTCTCTTCGCCTTCCTGCGGGAGGCCCTGCCAGCTCCCAGCGACGACGCC\r\n",
      "ACCGCGCTTATGACCGACCCCAAGCTCATCACCTGGTCTCCGGTGTGTCGCAACGATGTT\r\n",
      "GCCTGGAACTTTGAGAAGTTCCTGGTGGGCCCTGACGGTGTGCCCCTACGCAGGTACAGC\r\n",
      "\r\n",
      "==> /home/ubuntu/code/sequence-localization/data/021_get_nucleus_cytoplasm_sequences/Homo_sapiens.GRCh38.pep.all.fa.nuclear_or_cytoplasmic <==\r\n",
      ">ENSP00000407375.1 pep chromosome:GRCh38:3:49357171:49358600:-1 gene:ENSG00000233276.4 transcript:ENST00000419783.2 gene_biotype:polymorphic_pseudogene transcript_biotype:protein_coding gene_symbol:GPX1 description:glutathione peroxidase 1 [Source:HGNC Symbol;Acc:HGNC:4553]\r\n",
      "MCAARLAAAAAAAQSVYAFSARPLAGGEPVSLGSLRGKVLLIENVASLUGTTVRDYTQMN\r\n",
      "ELQRRLGPRGLVVLGFPCNQFGHQENAKNEEILNSLKYVRPGGGFEPNFMLFEKCEVNGA\r\n",
      "GAHPLFAFLREALPAPSDDATALMTDPKLITWSPVCRNDVAWNFEKFLVGPDGVPLRRYS\r\n",
      "RRFQTIDIEPDIEALLSQGPSCA\r\n",
      ">ENSP00000391316.1 pep chromosome:GRCh38:3:49357178:49358312:-1 gene:ENSG00000233276.4 transcript:ENST00000419349.2 gene_biotype:polymorphic_pseudogene transcript_biotype:protein_coding gene_symbol:GPX1 description:glutathione peroxidase 1 [Source:HGNC Symbol;Acc:HGNC:4553]\r\n",
      "MCAARLAAAAAAAQSVYAFSARPLAGGEPVSLGSLRGKVLLIENVASLUGTTVRDYTQMN\r\n",
      "ELQRRLGPRGLVVLGFPCNQFGHQVRRAERGGAGADVQ\r\n",
      ">ENSP00000495108.1 pep chromosome:GRCh38:3:49357201:49358325:-1 gene:ENSG00000233276.4 transcript:ENST00000643797.1 gene_biotype:polymorphic_pseudogene transcript_biotype:protein_coding gene_symbol:GPX1 description:glutathione peroxidase 1 [Source:HGNC Symbol;Acc:HGNC:4553]\r\n",
      "MCAARLAAAAAAAQSVYAFSARPLAGGEPVSLGSLRGKENAKNEEILNSLKYVRPGGGFE\r\n"
     ]
    }
   ],
   "source": [
    "! head $data_folder/*nuclear_or_cytoplasmic"
   ]
  },
  {
   "cell_type": "markdown",
   "metadata": {},
   "source": [
    "Search for `ATGTGTGCTGCT`, the very beginning of the CDS. It shows that the CDS is the pure coding sequence (exons only) while the CDNA is the whole CDNA molecule, including introns and UTRs. We want the whole UTRs too."
   ]
  },
  {
   "cell_type": "markdown",
   "metadata": {},
   "source": []
  }
 ],
 "metadata": {
  "kernelspec": {
   "display_name": "Python 3",
   "language": "python",
   "name": "python3"
  },
  "language_info": {
   "codemirror_mode": {
    "name": "ipython",
    "version": 3
   },
   "file_extension": ".py",
   "mimetype": "text/x-python",
   "name": "python",
   "nbconvert_exporter": "python",
   "pygments_lexer": "ipython3",
   "version": "3.6.3"
  }
 },
 "nbformat": 4,
 "nbformat_minor": 2
}
