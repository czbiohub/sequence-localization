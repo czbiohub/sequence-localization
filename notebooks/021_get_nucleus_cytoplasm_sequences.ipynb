{
 "cells": [
  {
   "cell_type": "code",
   "execution_count": 19,
   "metadata": {},
   "outputs": [],
   "source": [
    "import os\n",
    "\n",
    "DATA_FOLDER = os.path.abspath(os.path.join('..', 'data'))\n",
    "FIGURE_FOLDER = os.path.abspath(os.path.join('..', 'figures'))\n",
    "\n",
    "notebook_name = '021_get_nucleus_cytoplasm_sequences'\n",
    "\n",
    "data_folder = os.path.join(DATA_FOLDER, notebook_name)\n",
    "figure_folder = os.path.join(FIGURE_FOLDER, notebook_name)\n",
    "\n",
    "! mkdir -p $data_folder\n",
    "! mkdir -p $figure_folder\n",
    "\n",
    "input_folder = os.path.join(DATA_FOLDER, '020_get_nucleus_cytoplasm_genes')"
   ]
  },
  {
   "cell_type": "code",
   "execution_count": 20,
   "metadata": {},
   "outputs": [
    {
     "data": {
      "text/plain": [
       "'/src/myhome/code/sequence-localization/notebooks/genome/hg38/ensembl/data/021_get_nucleus_cytoplasm_sequences'"
      ]
     },
     "execution_count": 20,
     "metadata": {},
     "output_type": "execute_result"
    }
   ],
   "source": [
    "data_folder"
   ]
  },
  {
   "cell_type": "code",
   "execution_count": 4,
   "metadata": {},
   "outputs": [
    {
     "name": "stdout",
     "output_type": "stream",
     "text": [
      "(2383, 2)\n"
     ]
    },
    {
     "data": {
      "text/html": [
       "<div>\n",
       "<style scoped>\n",
       "    .dataframe tbody tr th:only-of-type {\n",
       "        vertical-align: middle;\n",
       "    }\n",
       "\n",
       "    .dataframe tbody tr th {\n",
       "        vertical-align: top;\n",
       "    }\n",
       "\n",
       "    .dataframe thead th {\n",
       "        text-align: right;\n",
       "    }\n",
       "</style>\n",
       "<table border=\"1\" class=\"dataframe\">\n",
       "  <thead>\n",
       "    <tr style=\"text-align: right;\">\n",
       "      <th></th>\n",
       "      <th>ensg_id</th>\n",
       "      <th>level_b</th>\n",
       "    </tr>\n",
       "  </thead>\n",
       "  <tbody>\n",
       "    <tr>\n",
       "      <th>0</th>\n",
       "      <td>ENSG00000049769</td>\n",
       "      <td>nucleoplasm</td>\n",
       "    </tr>\n",
       "    <tr>\n",
       "      <th>1</th>\n",
       "      <td>ENSG00000156504</td>\n",
       "      <td>nucleoplasm</td>\n",
       "    </tr>\n",
       "    <tr>\n",
       "      <th>2</th>\n",
       "      <td>ENSG00000102096</td>\n",
       "      <td>cytosol</td>\n",
       "    </tr>\n",
       "    <tr>\n",
       "      <th>3</th>\n",
       "      <td>ENSG00000068394</td>\n",
       "      <td>nucleoplasm</td>\n",
       "    </tr>\n",
       "    <tr>\n",
       "      <th>4</th>\n",
       "      <td>ENSG00000133131</td>\n",
       "      <td>nucleoplasm</td>\n",
       "    </tr>\n",
       "  </tbody>\n",
       "</table>\n",
       "</div>"
      ],
      "text/plain": [
       "           ensg_id      level_b\n",
       "0  ENSG00000049769  nucleoplasm\n",
       "1  ENSG00000156504  nucleoplasm\n",
       "2  ENSG00000102096      cytosol\n",
       "3  ENSG00000068394  nucleoplasm\n",
       "4  ENSG00000133131  nucleoplasm"
      ]
     },
     "execution_count": 4,
     "metadata": {},
     "output_type": "execute_result"
    }
   ],
   "source": [
    "import pandas as pd\n",
    "\n",
    "csv = os.path.join(input_folder, 'nucleus_cytoplasm_single_ensg.csv')\n",
    "nucleus_cytoplasm_single_ensg = pd.read_csv(csv)\n",
    "print(nucleus_cytoplasm_single_ensg.shape)\n",
    "nucleus_cytoplasm_single_ensg.head()"
   ]
  },
  {
   "cell_type": "code",
   "execution_count": 5,
   "metadata": {},
   "outputs": [
    {
     "data": {
      "text/plain": [
       "False"
      ]
     },
     "execution_count": 5,
     "metadata": {},
     "output_type": "execute_result"
    }
   ],
   "source": [
    "nucleus_cytoplasm_single_ensg.empty"
   ]
  },
  {
   "cell_type": "code",
   "execution_count": 6,
   "metadata": {},
   "outputs": [],
   "source": [
    "LEVEL = 'level_b'\n",
    "\n",
    "nucleus_cytoplasm_single_ensg[f'{LEVEL}_bool'] = 1"
   ]
  },
  {
   "cell_type": "code",
   "execution_count": 7,
   "metadata": {},
   "outputs": [
    {
     "data": {
      "text/html": [
       "<div>\n",
       "<style scoped>\n",
       "    .dataframe tbody tr th:only-of-type {\n",
       "        vertical-align: middle;\n",
       "    }\n",
       "\n",
       "    .dataframe tbody tr th {\n",
       "        vertical-align: top;\n",
       "    }\n",
       "\n",
       "    .dataframe thead tr th {\n",
       "        text-align: left;\n",
       "    }\n",
       "\n",
       "    .dataframe thead tr:last-of-type th {\n",
       "        text-align: right;\n",
       "    }\n",
       "</style>\n",
       "<table border=\"1\" class=\"dataframe\">\n",
       "  <thead>\n",
       "    <tr>\n",
       "      <th></th>\n",
       "      <th colspan=\"2\" halign=\"left\">level_b_bool</th>\n",
       "    </tr>\n",
       "    <tr>\n",
       "      <th>level_b</th>\n",
       "      <th>cytosol</th>\n",
       "      <th>nucleoplasm</th>\n",
       "    </tr>\n",
       "    <tr>\n",
       "      <th>ensg_id</th>\n",
       "      <th></th>\n",
       "      <th></th>\n",
       "    </tr>\n",
       "  </thead>\n",
       "  <tbody>\n",
       "    <tr>\n",
       "      <th>ENSG00000000003</th>\n",
       "      <td>1</td>\n",
       "      <td>0</td>\n",
       "    </tr>\n",
       "    <tr>\n",
       "      <th>ENSG00000001167</th>\n",
       "      <td>0</td>\n",
       "      <td>1</td>\n",
       "    </tr>\n",
       "    <tr>\n",
       "      <th>ENSG00000001460</th>\n",
       "      <td>0</td>\n",
       "      <td>1</td>\n",
       "    </tr>\n",
       "    <tr>\n",
       "      <th>ENSG00000001461</th>\n",
       "      <td>0</td>\n",
       "      <td>1</td>\n",
       "    </tr>\n",
       "    <tr>\n",
       "      <th>ENSG00000002746</th>\n",
       "      <td>1</td>\n",
       "      <td>0</td>\n",
       "    </tr>\n",
       "  </tbody>\n",
       "</table>\n",
       "</div>"
      ],
      "text/plain": [
       "                level_b_bool            \n",
       "level_b              cytosol nucleoplasm\n",
       "ensg_id                                 \n",
       "ENSG00000000003            1           0\n",
       "ENSG00000001167            0           1\n",
       "ENSG00000001460            0           1\n",
       "ENSG00000001461            0           1\n",
       "ENSG00000002746            1           0"
      ]
     },
     "execution_count": 7,
     "metadata": {},
     "output_type": "execute_result"
    }
   ],
   "source": [
    "target_df = nucleus_cytoplasm_single_ensg.pivot(index='ensg_id', columns=LEVEL)\n",
    "target_df = target_df.fillna(0)\n",
    "target_df = target_df.astype(int)\n",
    "target_df.head()"
   ]
  },
  {
   "cell_type": "markdown",
   "metadata": {},
   "source": [
    "### Check that it's correct with the `head` of the initial data"
   ]
  },
  {
   "cell_type": "code",
   "execution_count": 8,
   "metadata": {},
   "outputs": [
    {
     "data": {
      "text/html": [
       "<div>\n",
       "<style scoped>\n",
       "    .dataframe tbody tr th:only-of-type {\n",
       "        vertical-align: middle;\n",
       "    }\n",
       "\n",
       "    .dataframe tbody tr th {\n",
       "        vertical-align: top;\n",
       "    }\n",
       "\n",
       "    .dataframe thead tr th {\n",
       "        text-align: left;\n",
       "    }\n",
       "\n",
       "    .dataframe thead tr:last-of-type th {\n",
       "        text-align: right;\n",
       "    }\n",
       "</style>\n",
       "<table border=\"1\" class=\"dataframe\">\n",
       "  <thead>\n",
       "    <tr>\n",
       "      <th></th>\n",
       "      <th colspan=\"2\" halign=\"left\">level_b_bool</th>\n",
       "    </tr>\n",
       "    <tr>\n",
       "      <th>level_b</th>\n",
       "      <th>cytosol</th>\n",
       "      <th>nucleoplasm</th>\n",
       "    </tr>\n",
       "    <tr>\n",
       "      <th>ensg_id</th>\n",
       "      <th></th>\n",
       "      <th></th>\n",
       "    </tr>\n",
       "  </thead>\n",
       "  <tbody>\n",
       "    <tr>\n",
       "      <th>ENSG00000049769</th>\n",
       "      <td>0</td>\n",
       "      <td>1</td>\n",
       "    </tr>\n",
       "    <tr>\n",
       "      <th>ENSG00000156504</th>\n",
       "      <td>0</td>\n",
       "      <td>1</td>\n",
       "    </tr>\n",
       "    <tr>\n",
       "      <th>ENSG00000102096</th>\n",
       "      <td>1</td>\n",
       "      <td>0</td>\n",
       "    </tr>\n",
       "    <tr>\n",
       "      <th>ENSG00000068394</th>\n",
       "      <td>0</td>\n",
       "      <td>1</td>\n",
       "    </tr>\n",
       "    <tr>\n",
       "      <th>ENSG00000133131</th>\n",
       "      <td>0</td>\n",
       "      <td>1</td>\n",
       "    </tr>\n",
       "  </tbody>\n",
       "</table>\n",
       "</div>"
      ],
      "text/plain": [
       "                level_b_bool            \n",
       "level_b              cytosol nucleoplasm\n",
       "ensg_id                                 \n",
       "ENSG00000049769            0           1\n",
       "ENSG00000156504            0           1\n",
       "ENSG00000102096            1           0\n",
       "ENSG00000068394            0           1\n",
       "ENSG00000133131            0           1"
      ]
     },
     "execution_count": 8,
     "metadata": {},
     "output_type": "execute_result"
    }
   ],
   "source": [
    "target_df.loc[nucleus_cytoplasm_single_ensg.ensg_id.head()]"
   ]
  },
  {
   "cell_type": "markdown",
   "metadata": {},
   "source": [
    "## Download and filter sequence data"
   ]
  },
  {
   "cell_type": "code",
   "execution_count": 9,
   "metadata": {},
   "outputs": [
    {
     "name": "stdout",
     "output_type": "stream",
     "text": [
      "[Errno 2] No such file or directory: '/mnt/data'\n",
      "/src/myhome/code/sequence-localization/notebooks\n"
     ]
    }
   ],
   "source": [
    "cd /mnt/data"
   ]
  },
  {
   "cell_type": "code",
   "execution_count": 10,
   "metadata": {},
   "outputs": [],
   "source": [
    "mkdir -p genome/hg38/ensembl/v92"
   ]
  },
  {
   "cell_type": "code",
   "execution_count": 11,
   "metadata": {},
   "outputs": [
    {
     "name": "stdout",
     "output_type": "stream",
     "text": [
      "/src/myhome/code/sequence-localization/notebooks/genome/hg38/ensembl/v92\n"
     ]
    }
   ],
   "source": [
    "cd genome/hg38/ensembl/v92/"
   ]
  },
  {
   "cell_type": "markdown",
   "metadata": {},
   "source": [
    "Download ENSEMBL fasta files. I don't understand the difference between `cds` and `cdna` so I downloaded them both. `pep` is the protein sequence"
   ]
  },
  {
   "cell_type": "code",
   "execution_count": 12,
   "metadata": {},
   "outputs": [],
   "source": [
    "# %%bash\n",
    "\n",
    "# wget ftp://ftp.ensembl.org/pub/release-92/fasta/homo_sapiens/cds/Homo_sapiens.GRCh38.cds.all.fa.gz\n",
    "# wget ftp://ftp.ensembl.org/pub/release-92/fasta/homo_sapiens/cdna/Homo_sapiens.GRCh38.cdna.all.fa.gz\n",
    "# wget ftp://ftp.ensembl.org/pub/release-92/fasta/homo_sapiens/pep/Homo_sapiens.GRCh38.pep.all.fa.gz"
   ]
  },
  {
   "cell_type": "code",
   "execution_count": 13,
   "metadata": {},
   "outputs": [],
   "source": [
    "ls"
   ]
  },
  {
   "cell_type": "markdown",
   "metadata": {},
   "source": [
    "Unzip the files"
   ]
  },
  {
   "cell_type": "code",
   "execution_count": 14,
   "metadata": {},
   "outputs": [],
   "source": [
    "# ! gunzip --keep *.gz"
   ]
  },
  {
   "cell_type": "code",
   "execution_count": 15,
   "metadata": {},
   "outputs": [
    {
     "name": "stdout",
     "output_type": "stream",
     "text": [
      "total 8.0K\r\n",
      "drwxr-xr-x 2 root root 4.0K May 26 02:35 \u001b[0m\u001b[01;34m.\u001b[0m/\r\n",
      "drwxr-xr-x 3 root root 4.0K May 26 02:35 \u001b[01;34m..\u001b[0m/\r\n"
     ]
    }
   ],
   "source": [
    "ls -lha"
   ]
  },
  {
   "cell_type": "code",
   "execution_count": 16,
   "metadata": {},
   "outputs": [
    {
     "name": "stdout",
     "output_type": "stream",
     "text": [
      "head: cannot open '*.fa' for reading: No such file or directory\r\n"
     ]
    }
   ],
   "source": [
    "! head *.fa"
   ]
  },
  {
   "cell_type": "markdown",
   "metadata": {},
   "source": [
    "Good, the fasta descriptione includes the ENSG ID"
   ]
  },
  {
   "cell_type": "code",
   "execution_count": 17,
   "metadata": {},
   "outputs": [],
   "source": [
    "fastas = ['Homo_sapiens.GRCh38.cdna.all.fa', 'Homo_sapiens.GRCh38.cds.all.fa', 'Homo_sapiens.GRCh38.pep.all.fa']"
   ]
  },
  {
   "cell_type": "code",
   "execution_count": 18,
   "metadata": {},
   "outputs": [
    {
     "name": "stdout",
     "output_type": "stream",
     "text": [
      "Homo_sapiens.GRCh38.cdna.all.fa\n"
     ]
    },
    {
     "ename": "FileNotFoundError",
     "evalue": "[Errno 2] No such file or directory: 'Homo_sapiens.GRCh38.cdna.all.fa'",
     "output_type": "error",
     "traceback": [
      "\u001b[0;31m---------------------------------------------------------------------------\u001b[0m",
      "\u001b[0;31mFileNotFoundError\u001b[0m                         Traceback (most recent call last)",
      "\u001b[0;32m<timed exec>\u001b[0m in \u001b[0;36m<module>\u001b[0;34m()\u001b[0m\n",
      "\u001b[0;32m/opt/conda/lib/python3.6/site-packages/Bio/SeqIO/__init__.py\u001b[0m in \u001b[0;36mparse\u001b[0;34m(handle, format, alphabet)\u001b[0m\n\u001b[1;32m    596\u001b[0m         \u001b[0;32mraise\u001b[0m \u001b[0mValueError\u001b[0m\u001b[0;34m(\u001b[0m\u001b[0;34m\"Invalid alphabet, %r\"\u001b[0m \u001b[0;34m%\u001b[0m \u001b[0malphabet\u001b[0m\u001b[0;34m)\u001b[0m\u001b[0;34m\u001b[0m\u001b[0m\n\u001b[1;32m    597\u001b[0m \u001b[0;34m\u001b[0m\u001b[0m\n\u001b[0;32m--> 598\u001b[0;31m     \u001b[0;32mwith\u001b[0m \u001b[0mas_handle\u001b[0m\u001b[0;34m(\u001b[0m\u001b[0mhandle\u001b[0m\u001b[0;34m,\u001b[0m \u001b[0mmode\u001b[0m\u001b[0;34m)\u001b[0m \u001b[0;32mas\u001b[0m \u001b[0mfp\u001b[0m\u001b[0;34m:\u001b[0m\u001b[0;34m\u001b[0m\u001b[0m\n\u001b[0m\u001b[1;32m    599\u001b[0m         \u001b[0;31m# Map the file format to a sequence iterator:\u001b[0m\u001b[0;34m\u001b[0m\u001b[0;34m\u001b[0m\u001b[0m\n\u001b[1;32m    600\u001b[0m         \u001b[0;32mif\u001b[0m \u001b[0mformat\u001b[0m \u001b[0;32min\u001b[0m \u001b[0m_FormatToIterator\u001b[0m\u001b[0;34m:\u001b[0m\u001b[0;34m\u001b[0m\u001b[0m\n",
      "\u001b[0;32m/opt/conda/lib/python3.6/contextlib.py\u001b[0m in \u001b[0;36m__enter__\u001b[0;34m(self)\u001b[0m\n\u001b[1;32m     79\u001b[0m     \u001b[0;32mdef\u001b[0m \u001b[0m__enter__\u001b[0m\u001b[0;34m(\u001b[0m\u001b[0mself\u001b[0m\u001b[0;34m)\u001b[0m\u001b[0;34m:\u001b[0m\u001b[0;34m\u001b[0m\u001b[0m\n\u001b[1;32m     80\u001b[0m         \u001b[0;32mtry\u001b[0m\u001b[0;34m:\u001b[0m\u001b[0;34m\u001b[0m\u001b[0m\n\u001b[0;32m---> 81\u001b[0;31m             \u001b[0;32mreturn\u001b[0m \u001b[0mnext\u001b[0m\u001b[0;34m(\u001b[0m\u001b[0mself\u001b[0m\u001b[0;34m.\u001b[0m\u001b[0mgen\u001b[0m\u001b[0;34m)\u001b[0m\u001b[0;34m\u001b[0m\u001b[0m\n\u001b[0m\u001b[1;32m     82\u001b[0m         \u001b[0;32mexcept\u001b[0m \u001b[0mStopIteration\u001b[0m\u001b[0;34m:\u001b[0m\u001b[0;34m\u001b[0m\u001b[0m\n\u001b[1;32m     83\u001b[0m             \u001b[0;32mraise\u001b[0m \u001b[0mRuntimeError\u001b[0m\u001b[0;34m(\u001b[0m\u001b[0;34m\"generator didn't yield\"\u001b[0m\u001b[0;34m)\u001b[0m \u001b[0;32mfrom\u001b[0m \u001b[0;32mNone\u001b[0m\u001b[0;34m\u001b[0m\u001b[0m\n",
      "\u001b[0;32m/opt/conda/lib/python3.6/site-packages/Bio/File.py\u001b[0m in \u001b[0;36mas_handle\u001b[0;34m(handleish, mode, **kwargs)\u001b[0m\n\u001b[1;32m     99\u001b[0m                 \u001b[0;32myield\u001b[0m \u001b[0mfp\u001b[0m\u001b[0;34m\u001b[0m\u001b[0m\n\u001b[1;32m    100\u001b[0m         \u001b[0;32melse\u001b[0m\u001b[0;34m:\u001b[0m\u001b[0;34m\u001b[0m\u001b[0m\n\u001b[0;32m--> 101\u001b[0;31m             \u001b[0;32mwith\u001b[0m \u001b[0mopen\u001b[0m\u001b[0;34m(\u001b[0m\u001b[0mhandleish\u001b[0m\u001b[0;34m,\u001b[0m \u001b[0mmode\u001b[0m\u001b[0;34m,\u001b[0m \u001b[0;34m**\u001b[0m\u001b[0mkwargs\u001b[0m\u001b[0;34m)\u001b[0m \u001b[0;32mas\u001b[0m \u001b[0mfp\u001b[0m\u001b[0;34m:\u001b[0m\u001b[0;34m\u001b[0m\u001b[0m\n\u001b[0m\u001b[1;32m    102\u001b[0m                 \u001b[0;32myield\u001b[0m \u001b[0mfp\u001b[0m\u001b[0;34m\u001b[0m\u001b[0m\n\u001b[1;32m    103\u001b[0m     \u001b[0;32melse\u001b[0m\u001b[0;34m:\u001b[0m\u001b[0;34m\u001b[0m\u001b[0m\n",
      "\u001b[0;31mFileNotFoundError\u001b[0m: [Errno 2] No such file or directory: 'Homo_sapiens.GRCh38.cdna.all.fa'"
     ]
    }
   ],
   "source": [
    "%%time\n",
    "\n",
    "from Bio import SeqIO\n",
    "\n",
    "\n",
    "\n",
    "for fasta in fastas:\n",
    "    print(fasta)\n",
    "#     input_fasta = os.path.join('/mnt/data/', fasta)\n",
    "    output_fasta = os.path.join(data_folder, f\"{fasta}.nuclear_or_cytoplasmic\")\n",
    "    ensgs = []\n",
    "    lengths = pd.Series()\n",
    "\n",
    "    nuclear_or_cytoplasmic = []\n",
    "    for record in SeqIO.parse(fasta, \"fasta\"):\n",
    "        for ensg_id in nucleus_cytoplasm_single_ensg['ensg_id']:\n",
    "            if ensg_id in record.description:\n",
    "                nuclear_or_cytoplasmic.append(record)\n",
    "                ensgs.append(ensg_id)\n",
    "                lengths[record.id] = len(record)\n",
    "    print(f'\\t{len(nuclear_or_cytoplasmic)} sequences found for {len(set(ensgs))} ENSEMBL ids') \n",
    "    csv = os.path.join(data_folder, f\"{fasta}.nuclear_or_cytoplasmic.target.tsv\")\n",
    "    target_df.loc[ensgs].to_csv(csv, index=False, header=False, sep='\\t')\n",
    "    SeqIO.write(nuclear_or_cytoplasmic, output_fasta, \"fasta\")\n",
    "\n"
   ]
  },
  {
   "cell_type": "code",
   "execution_count": 17,
   "metadata": {},
   "outputs": [
    {
     "data": {
      "text/html": [
       "<div>\n",
       "<style scoped>\n",
       "    .dataframe tbody tr th:only-of-type {\n",
       "        vertical-align: middle;\n",
       "    }\n",
       "\n",
       "    .dataframe tbody tr th {\n",
       "        vertical-align: top;\n",
       "    }\n",
       "\n",
       "    .dataframe thead tr th {\n",
       "        text-align: left;\n",
       "    }\n",
       "\n",
       "    .dataframe thead tr:last-of-type th {\n",
       "        text-align: right;\n",
       "    }\n",
       "</style>\n",
       "<table border=\"1\" class=\"dataframe\">\n",
       "  <thead>\n",
       "    <tr>\n",
       "      <th></th>\n",
       "      <th colspan=\"2\" halign=\"left\">level_b_bool</th>\n",
       "    </tr>\n",
       "    <tr>\n",
       "      <th>level_b</th>\n",
       "      <th>cytosol</th>\n",
       "      <th>nucleoplasm</th>\n",
       "    </tr>\n",
       "    <tr>\n",
       "      <th>ensg_id</th>\n",
       "      <th></th>\n",
       "      <th></th>\n",
       "    </tr>\n",
       "  </thead>\n",
       "  <tbody>\n",
       "    <tr>\n",
       "      <th>ENSG00000000003</th>\n",
       "      <td>1</td>\n",
       "      <td>0</td>\n",
       "    </tr>\n",
       "    <tr>\n",
       "      <th>ENSG00000001167</th>\n",
       "      <td>0</td>\n",
       "      <td>1</td>\n",
       "    </tr>\n",
       "    <tr>\n",
       "      <th>ENSG00000001460</th>\n",
       "      <td>0</td>\n",
       "      <td>1</td>\n",
       "    </tr>\n",
       "    <tr>\n",
       "      <th>ENSG00000001461</th>\n",
       "      <td>0</td>\n",
       "      <td>1</td>\n",
       "    </tr>\n",
       "    <tr>\n",
       "      <th>ENSG00000002746</th>\n",
       "      <td>1</td>\n",
       "      <td>0</td>\n",
       "    </tr>\n",
       "  </tbody>\n",
       "</table>\n",
       "</div>"
      ],
      "text/plain": [
       "                level_b_bool            \n",
       "level_b              cytosol nucleoplasm\n",
       "ensg_id                                 \n",
       "ENSG00000000003            1           0\n",
       "ENSG00000001167            0           1\n",
       "ENSG00000001460            0           1\n",
       "ENSG00000001461            0           1\n",
       "ENSG00000002746            1           0"
      ]
     },
     "execution_count": 17,
     "metadata": {},
     "output_type": "execute_result"
    }
   ],
   "source": [
    "target_df.head()"
   ]
  },
  {
   "cell_type": "code",
   "execution_count": 20,
   "metadata": {},
   "outputs": [
    {
     "name": "stdout",
     "output_type": "stream",
     "text": [
      "total 130M\r\n",
      "drwxrwxrwx 13 ubuntu root   4.0K May 18 19:07 \u001b[0m\u001b[34;42m.\u001b[0m/\r\n",
      "drwxrwxrwx  4 root   root   4.0K Apr 24 23:53 \u001b[34;42m..\u001b[0m/\r\n",
      "drwxr-xr-x  3 root   root   4.0K Apr 25 00:38 \u001b[01;34mdata\u001b[0m/\r\n",
      "drwxrwxrwx  3 ubuntu ubuntu 4.0K Apr 24 23:25 \u001b[34;42mfastq\u001b[0m/\r\n",
      "drwxrwxr-x  2 ubuntu ubuntu 4.0K May 18 18:55 \u001b[01;34mfastq_dump_v2\u001b[0m/\r\n",
      "drwxrwxr-x  2 ubuntu ubuntu 4.0K May 18 18:54 \u001b[01;34mfastq_dump_v3\u001b[0m/\r\n",
      "drwxrwxr-x  3 ubuntu ubuntu 4.0K May 18 19:07 \u001b[01;34mfigures\u001b[0m/\r\n",
      "drwxrwxr-x  4 ubuntu ubuntu 4.0K May 16 21:20 \u001b[01;34mgenome\u001b[0m/\r\n",
      "drwxr-xr-x  2 root   root   4.0K Apr 24 23:53 \u001b[01;34mhca\u001b[0m/\r\n",
      "-rw-rw-r--  1 ubuntu ubuntu  80M May 16 21:35 Homo_sapiens.GRCh38.cdna.all.fa.nuclear_or_cytoplasmic\r\n",
      "-rw-rw-r--  1 ubuntu ubuntu  34M May 16 21:37 Homo_sapiens.GRCh38.cds.all.fa.nuclear_or_cytoplasmic\r\n",
      "-rw-rw-r--  1 ubuntu ubuntu  17M May 16 21:38 Homo_sapiens.GRCh38.pep.all.fa.nuclear_or_cytoplasmic\r\n",
      "drwxrwxr-x 25 ubuntu ubuntu 4.0K May 16 20:18 \u001b[01;34mrawdata\u001b[0m/\r\n",
      "drwxrwxr-x 14 ubuntu ubuntu 4.0K May 14 17:17 \u001b[01;34msourmash\u001b[0m/\r\n",
      "drwxrwxr-x  3 ubuntu ubuntu 4.0K Apr 25 17:20 \u001b[01;34mtrinity-output\u001b[0m/\r\n",
      "drwxrwxr-x  3 ubuntu ubuntu 4.0K May 17 00:18 \u001b[01;34mtrinity-workdir\u001b[0m/\r\n"
     ]
    }
   ],
   "source": [
    "ls -lha /mnt/data"
   ]
  },
  {
   "cell_type": "code",
   "execution_count": 21,
   "metadata": {},
   "outputs": [
    {
     "name": "stdout",
     "output_type": "stream",
     "text": [
      "/home/ubuntu/code/sequence-localization/data/021_get_nucleus_cytoplasm_sequences\r\n"
     ]
    }
   ],
   "source": [
    "! echo $data_folder"
   ]
  },
  {
   "cell_type": "code",
   "execution_count": 22,
   "metadata": {},
   "outputs": [],
   "source": [
    "! cp /mnt/data/*nuclear_or_cytoplasmic $data_folder"
   ]
  },
  {
   "cell_type": "code",
   "execution_count": 23,
   "metadata": {},
   "outputs": [
    {
     "name": "stdout",
     "output_type": "stream",
     "text": [
      "total 226M\r\n",
      "drwxrwxr-x 2 ubuntu ubuntu 4.0K May 16 23:10 .\r\n",
      "drwxrwxr-x 8 ubuntu ubuntu 4.0K May 16 21:31 ..\r\n",
      "-rw-rw-r-- 1 ubuntu ubuntu  80M May 18 19:54 Homo_sapiens.GRCh38.cdna.all.fa.nuclear_or_cytoplasmic\r\n",
      "-rw-rw-r-- 1 ubuntu ubuntu 169K May 18 19:53 Homo_sapiens.GRCh38.cdna.all.fa.nuclear_or_cytoplasmic.target.tsv\r\n",
      "-rw-rw-r-- 1 ubuntu ubuntu  25K May 16 23:09 Homo_sapiens.GRCh38.cdna.all.fa.nuclear_or_cytoplasmic.target.tsv.test\r\n",
      "-rw-rw-r-- 1 ubuntu ubuntu  97K May 16 23:09 Homo_sapiens.GRCh38.cdna.all.fa.nuclear_or_cytoplasmic.target.tsv.train\r\n",
      "-rw-rw-r-- 1 ubuntu ubuntu  12M May 16 23:09 Homo_sapiens.GRCh38.cdna.all.fa.nuclear_or_cytoplasmic.test\r\n",
      "-rw-rw-r-- 1 ubuntu ubuntu  48M May 16 23:09 Homo_sapiens.GRCh38.cdna.all.fa.nuclear_or_cytoplasmic.train\r\n",
      "-rw-rw-r-- 1 ubuntu ubuntu  34M May 18 19:54 Homo_sapiens.GRCh38.cds.all.fa.nuclear_or_cytoplasmic\r\n",
      "-rw-rw-r-- 1 ubuntu ubuntu 106K May 18 19:53 Homo_sapiens.GRCh38.cds.all.fa.nuclear_or_cytoplasmic.target.tsv\r\n",
      "-rw-rw-r-- 1 ubuntu ubuntu  15K May 16 23:09 Homo_sapiens.GRCh38.cds.all.fa.nuclear_or_cytoplasmic.target.tsv.test\r\n",
      "-rw-rw-r-- 1 ubuntu ubuntu  61K May 16 23:09 Homo_sapiens.GRCh38.cds.all.fa.nuclear_or_cytoplasmic.target.tsv.train\r\n",
      "-rw-rw-r-- 1 ubuntu ubuntu 5.0M May 16 23:09 Homo_sapiens.GRCh38.cds.all.fa.nuclear_or_cytoplasmic.test\r\n",
      "-rw-rw-r-- 1 ubuntu ubuntu  21M May 16 23:09 Homo_sapiens.GRCh38.cds.all.fa.nuclear_or_cytoplasmic.train\r\n",
      "-rw-rw-r-- 1 ubuntu ubuntu  17M May 18 19:54 Homo_sapiens.GRCh38.pep.all.fa.nuclear_or_cytoplasmic\r\n",
      "-rw-rw-r-- 1 ubuntu ubuntu 106K May 18 19:54 Homo_sapiens.GRCh38.pep.all.fa.nuclear_or_cytoplasmic.target.tsv\r\n",
      "-rw-rw-r-- 1 ubuntu ubuntu  15K May 16 23:09 Homo_sapiens.GRCh38.pep.all.fa.nuclear_or_cytoplasmic.target.tsv.test\r\n",
      "-rw-rw-r-- 1 ubuntu ubuntu  61K May 16 23:09 Homo_sapiens.GRCh38.pep.all.fa.nuclear_or_cytoplasmic.target.tsv.train\r\n",
      "-rw-rw-r-- 1 ubuntu ubuntu 2.4M May 16 23:09 Homo_sapiens.GRCh38.pep.all.fa.nuclear_or_cytoplasmic.test\r\n",
      "-rw-rw-r-- 1 ubuntu ubuntu 9.6M May 16 23:09 Homo_sapiens.GRCh38.pep.all.fa.nuclear_or_cytoplasmic.train\r\n"
     ]
    }
   ],
   "source": [
    "! ls -lha $data_folder"
   ]
  },
  {
   "cell_type": "code",
   "execution_count": 24,
   "metadata": {},
   "outputs": [
    {
     "name": "stdout",
     "output_type": "stream",
     "text": [
      "==> /home/ubuntu/code/sequence-localization/data/021_get_nucleus_cytoplasm_sequences/Homo_sapiens.GRCh38.cdna.all.fa.nuclear_or_cytoplasmic <==\r\n",
      ">ENST00000419783.2 cdna chromosome:GRCh38:3:49357171:49358600:-1 gene:ENSG00000233276.4 gene_biotype:polymorphic_pseudogene transcript_biotype:protein_coding gene_symbol:GPX1 description:glutathione peroxidase 1 [Source:HGNC Symbol;Acc:HGNC:4553]\r\n",
      "GAGCCCTCGAGGGCCCCAGCCCTTGGAAGGGTAACCTGGACCGCTGCCGCCTGGTTGCCT\r\n",
      "GGGCCAGACCAGACATGCCTGCTGCTCCTTCCGGCTTAGGAGGAGCACGCGTCCCGCTCG\r\n",
      "GGCGCACTCTCCAGCCTTTTCCTGGCTGAGGAGGGGCCGAGCCCTCCGGGTAGGGCGGGG\r\n",
      "GCCGGATGAGGCGGGACCCTCAGGCCCGGAAAACTGCCTGTGCCACGTGACCCGCCGCCG\r\n",
      "GCCAGTTAAAAGGAGGCGCCTGCTGGCCTCCCCTTACAGTGCTTGTTCGGGGCGCTCCGC\r\n",
      "TGGCTTCTTGGACAATTGCGCCATGTGTGCTGCTCGGCTAGCGGCGGCGGCGGCGGCGGC\r\n",
      "CCAGTCGGTGTATGCCTTCTCGGCGCGCCCGCTGGCCGGCGGGGAGCCTGTGAGCCTGGG\r\n",
      "CTCCCTGCGGGGCAAGGTACTACTTATCGAGAATGTGGCGTCCCTCTGAGGCACCACGGT\r\n",
      "CCGGGACTACACCCAGATGAACGAGCTGCAGCGGCGCCTCGGACCCCGGGGCCTGGTGGT\r\n",
      "\r\n",
      "==> /home/ubuntu/code/sequence-localization/data/021_get_nucleus_cytoplasm_sequences/Homo_sapiens.GRCh38.cdna.all.fa.nuclear_or_cytoplasmic.target.tsv <==\r\n",
      "1\t0\t1\t0\r\n",
      "1\t0\t1\t0\r\n",
      "1\t0\t1\t0\r\n",
      "1\t0\t1\t0\r\n",
      "1\t0\t1\t0\r\n",
      "1\t0\t1\t0\r\n",
      "0\t1\t0\t1\r\n",
      "1\t0\t1\t0\r\n",
      "0\t1\t0\t1\r\n",
      "0\t1\t0\t1\r\n",
      "\r\n",
      "==> /home/ubuntu/code/sequence-localization/data/021_get_nucleus_cytoplasm_sequences/Homo_sapiens.GRCh38.cdna.all.fa.nuclear_or_cytoplasmic.target.tsv.test <==\r\n",
      "1\t0\r\n",
      "1\t0\r\n",
      "0\t1\r\n",
      "0\t1\r\n",
      "0\t1\r\n",
      "0\t1\r\n",
      "0\t1\r\n",
      "1\t0\r\n",
      "0\t1\r\n",
      "0\t1\r\n",
      "\r\n",
      "==> /home/ubuntu/code/sequence-localization/data/021_get_nucleus_cytoplasm_sequences/Homo_sapiens.GRCh38.cdna.all.fa.nuclear_or_cytoplasmic.target.tsv.train <==\r\n",
      "1\t0\r\n",
      "1\t0\r\n",
      "1\t0\r\n",
      "1\t0\r\n",
      "1\t0\r\n",
      "1\t0\r\n",
      "0\t1\r\n",
      "1\t0\r\n",
      "0\t1\r\n",
      "0\t1\r\n",
      "\r\n",
      "==> /home/ubuntu/code/sequence-localization/data/021_get_nucleus_cytoplasm_sequences/Homo_sapiens.GRCh38.cdna.all.fa.nuclear_or_cytoplasmic.test <==\r\n",
      ">ENST00000361227.2 cdna chromosome:GRCh38:MT:10059:10404:1 gene:ENSG00000198840.2 gene_biotype:protein_coding transcript_biotype:protein_coding gene_symbol:MT-ND3 description:mitochondrially encoded NADH:ubiquinone oxidoreductase core subunit 3 [Source:HGNC Symbol;Acc:HGNC:7458]\r\n",
      "ATAAACTTCGCCTTAATTTTAATAATCAACACCCTCCTAGCCTTACTACTAATAATTATT\r\n",
      "ACATTTTGACTACCACAACTCAACGGCTACATAGAAAAATCCACCCCTTACGAGTGCGGC\r\n",
      "TTCGACCCTATATCCCCCGCCCGCGTCCCTTTCTCCATAAAATTCTTCTTAGTAGCTATT\r\n",
      "ACCTTCTTATTATTTGATCTAGAAATTGCCCTCCTTTTACCCCTACCATGAGCCCTACAA\r\n",
      "ACAACTAACCTGCCACTAATAGTTATGTCATCCCTCTTATTAATCATCATCCTAGCCCTA\r\n",
      "AGTCTGGCCTATGAGTGACTACAAAAAGGATTAGACTGAACCGAAT\r\n",
      ">ENST00000361335.1 cdna chromosome:GRCh38:MT:10470:10766:1 gene:ENSG00000212907.2 gene_biotype:protein_coding transcript_biotype:protein_coding gene_symbol:MT-ND4L description:mitochondrially encoded NADH:ubiquinone oxidoreductase core subunit 4L [Source:HGNC Symbol;Acc:HGNC:7460]\r\n",
      "ATGCCCCTCATTTACATAAATATTATACTAGCATTTACCATCTCACTTCTAGGAATACTA\r\n",
      "GTATATCGCTCACACCTCATATCCTCCCTACTATGCCTAGAAGGAATAATACTATCGCTG\r\n",
      "\r\n",
      "==> /home/ubuntu/code/sequence-localization/data/021_get_nucleus_cytoplasm_sequences/Homo_sapiens.GRCh38.cdna.all.fa.nuclear_or_cytoplasmic.train <==\r\n",
      ">ENST00000419783.2 cdna chromosome:GRCh38:3:49357171:49358600:-1 gene:ENSG00000233276.4 gene_biotype:polymorphic_pseudogene transcript_biotype:protein_coding gene_symbol:GPX1 description:glutathione peroxidase 1 [Source:HGNC Symbol;Acc:HGNC:4553]\r\n",
      "GAGCCCTCGAGGGCCCCAGCCCTTGGAAGGGTAACCTGGACCGCTGCCGCCTGGTTGCCT\r\n",
      "GGGCCAGACCAGACATGCCTGCTGCTCCTTCCGGCTTAGGAGGAGCACGCGTCCCGCTCG\r\n",
      "GGCGCACTCTCCAGCCTTTTCCTGGCTGAGGAGGGGCCGAGCCCTCCGGGTAGGGCGGGG\r\n",
      "GCCGGATGAGGCGGGACCCTCAGGCCCGGAAAACTGCCTGTGCCACGTGACCCGCCGCCG\r\n",
      "GCCAGTTAAAAGGAGGCGCCTGCTGGCCTCCCCTTACAGTGCTTGTTCGGGGCGCTCCGC\r\n",
      "TGGCTTCTTGGACAATTGCGCCATGTGTGCTGCTCGGCTAGCGGCGGCGGCGGCGGCGGC\r\n",
      "CCAGTCGGTGTATGCCTTCTCGGCGCGCCCGCTGGCCGGCGGGGAGCCTGTGAGCCTGGG\r\n",
      "CTCCCTGCGGGGCAAGGTACTACTTATCGAGAATGTGGCGTCCCTCTGAGGCACCACGGT\r\n",
      "CCGGGACTACACCCAGATGAACGAGCTGCAGCGGCGCCTCGGACCCCGGGGCCTGGTGGT\r\n",
      "\r\n",
      "==> /home/ubuntu/code/sequence-localization/data/021_get_nucleus_cytoplasm_sequences/Homo_sapiens.GRCh38.cds.all.fa.nuclear_or_cytoplasmic <==\r\n",
      ">ENST00000419783.2 cds chromosome:GRCh38:3:49357171:49358600:-1 gene:ENSG00000233276.4 gene_biotype:polymorphic_pseudogene transcript_biotype:protein_coding gene_symbol:GPX1 description:glutathione peroxidase 1 [Source:HGNC Symbol;Acc:HGNC:4553]\r\n",
      "ATGTGTGCTGCTCGGCTAGCGGCGGCGGCGGCGGCGGCCCAGTCGGTGTATGCCTTCTCG\r\n",
      "GCGCGCCCGCTGGCCGGCGGGGAGCCTGTGAGCCTGGGCTCCCTGCGGGGCAAGGTACTA\r\n",
      "CTTATCGAGAATGTGGCGTCCCTCTGAGGCACCACGGTCCGGGACTACACCCAGATGAAC\r\n",
      "GAGCTGCAGCGGCGCCTCGGACCCCGGGGCCTGGTGGTGCTCGGCTTCCCGTGCAACCAG\r\n",
      "TTTGGGCATCAGGAGAACGCCAAGAACGAAGAGATTCTGAATTCCCTCAAGTACGTCCGG\r\n",
      "CCTGGTGGTGGGTTCGAGCCCAACTTCATGCTCTTCGAGAAGTGCGAGGTGAACGGTGCG\r\n",
      "GGGGCGCACCCTCTCTTCGCCTTCCTGCGGGAGGCCCTGCCAGCTCCCAGCGACGACGCC\r\n",
      "ACCGCGCTTATGACCGACCCCAAGCTCATCACCTGGTCTCCGGTGTGTCGCAACGATGTT\r\n",
      "GCCTGGAACTTTGAGAAGTTCCTGGTGGGCCCTGACGGTGTGCCCCTACGCAGGTACAGC\r\n",
      "\r\n",
      "==> /home/ubuntu/code/sequence-localization/data/021_get_nucleus_cytoplasm_sequences/Homo_sapiens.GRCh38.cds.all.fa.nuclear_or_cytoplasmic.target.tsv <==\r\n",
      "1\t0\t1\t0\r\n",
      "1\t0\t1\t0\r\n",
      "1\t0\t1\t0\r\n",
      "1\t0\t1\t0\r\n",
      "1\t0\t1\t0\r\n",
      "1\t0\t1\t0\r\n",
      "0\t1\t0\t1\r\n",
      "1\t0\t1\t0\r\n",
      "0\t1\t0\t1\r\n",
      "0\t1\t0\t1\r\n",
      "\r\n",
      "==> /home/ubuntu/code/sequence-localization/data/021_get_nucleus_cytoplasm_sequences/Homo_sapiens.GRCh38.cds.all.fa.nuclear_or_cytoplasmic.target.tsv.test <==\r\n",
      "1\t0\r\n",
      "1\t0\r\n",
      "0\t1\r\n",
      "1\t0\r\n",
      "1\t0\r\n",
      "0\t1\r\n",
      "0\t1\r\n",
      "0\t1\r\n",
      "0\t1\r\n",
      "0\t1\r\n",
      "\r\n",
      "==> /home/ubuntu/code/sequence-localization/data/021_get_nucleus_cytoplasm_sequences/Homo_sapiens.GRCh38.cds.all.fa.nuclear_or_cytoplasmic.target.tsv.train <==\r\n",
      "1\t0\r\n",
      "1\t0\r\n",
      "1\t0\r\n",
      "1\t0\r\n",
      "0\t1\r\n",
      "1\t0\r\n",
      "1\t0\r\n",
      "1\t0\r\n",
      "0\t1\r\n",
      "0\t1\r\n",
      "\r\n",
      "==> /home/ubuntu/code/sequence-localization/data/021_get_nucleus_cytoplasm_sequences/Homo_sapiens.GRCh38.cds.all.fa.nuclear_or_cytoplasmic.test <==\r\n",
      ">ENST00000643797.1 cds chromosome:GRCh38:3:49357201:49358325:-1 gene:ENSG00000233276.4 gene_biotype:polymorphic_pseudogene transcript_biotype:protein_coding gene_symbol:GPX1 description:glutathione peroxidase 1 [Source:HGNC Symbol;Acc:HGNC:4553]\r\n",
      "ATGTGTGCTGCTCGGCTAGCGGCGGCGGCGGCGGCGGCCCAGTCGGTGTATGCCTTCTCG\r\n",
      "GCGCGCCCGCTGGCCGGCGGGGAGCCTGTGAGCCTGGGCTCCCTGCGGGGCAAGGAGAAC\r\n",
      "GCCAAGAACGAAGAGATTCTGAATTCCCTCAAGTACGTCCGGCCTGGTGGTGGGTTCGAG\r\n",
      "CCCAACTTCATGCTCTTCGAGAAGTGCGAGGTGAACGGTGCGGGGGCGCACCCTCTCTTC\r\n",
      "GCCTTCCTGCGGGAGGCCCTGCCAGCTCCCAGCGACGACGCCACCGCGCTTATGACCGAC\r\n",
      "CCCAAGCTCATCACCTGGTCTCCGGTGTGTCGCAACGATGTTGCCTGGAACTTTGAGAAG\r\n",
      "TTCCTGGTGGGCCCTGACGGTGTGCCCCTACGCAGGTACAGCCGCCGCTTCCAGACCATT\r\n",
      "GACATCGAGCCTGACATCGAAGCCCTGCTGTCTCAAGGGCCCAGCTGTGCCTAG\r\n",
      ">ENST00000496791.1 cds chromosome:GRCh38:3:49357608:49358325:-1 gene:ENSG00000233276.4 gene_biotype:polymorphic_pseudogene transcript_biotype:polymorphic_pseudogene gene_symbol:GPX1 description:glutathione peroxidase 1 [Source:HGNC Symbol;Acc:HGNC:4553]\r\n",
      "\r\n",
      "==> /home/ubuntu/code/sequence-localization/data/021_get_nucleus_cytoplasm_sequences/Homo_sapiens.GRCh38.cds.all.fa.nuclear_or_cytoplasmic.train <==\r\n",
      ">ENST00000419783.2 cds chromosome:GRCh38:3:49357171:49358600:-1 gene:ENSG00000233276.4 gene_biotype:polymorphic_pseudogene transcript_biotype:protein_coding gene_symbol:GPX1 description:glutathione peroxidase 1 [Source:HGNC Symbol;Acc:HGNC:4553]\r\n",
      "ATGTGTGCTGCTCGGCTAGCGGCGGCGGCGGCGGCGGCCCAGTCGGTGTATGCCTTCTCG\r\n",
      "GCGCGCCCGCTGGCCGGCGGGGAGCCTGTGAGCCTGGGCTCCCTGCGGGGCAAGGTACTA\r\n",
      "CTTATCGAGAATGTGGCGTCCCTCTGAGGCACCACGGTCCGGGACTACACCCAGATGAAC\r\n",
      "GAGCTGCAGCGGCGCCTCGGACCCCGGGGCCTGGTGGTGCTCGGCTTCCCGTGCAACCAG\r\n",
      "TTTGGGCATCAGGAGAACGCCAAGAACGAAGAGATTCTGAATTCCCTCAAGTACGTCCGG\r\n",
      "CCTGGTGGTGGGTTCGAGCCCAACTTCATGCTCTTCGAGAAGTGCGAGGTGAACGGTGCG\r\n",
      "GGGGCGCACCCTCTCTTCGCCTTCCTGCGGGAGGCCCTGCCAGCTCCCAGCGACGACGCC\r\n",
      "ACCGCGCTTATGACCGACCCCAAGCTCATCACCTGGTCTCCGGTGTGTCGCAACGATGTT\r\n",
      "GCCTGGAACTTTGAGAAGTTCCTGGTGGGCCCTGACGGTGTGCCCCTACGCAGGTACAGC\r\n",
      "\r\n",
      "==> /home/ubuntu/code/sequence-localization/data/021_get_nucleus_cytoplasm_sequences/Homo_sapiens.GRCh38.pep.all.fa.nuclear_or_cytoplasmic <==\r\n",
      ">ENSP00000407375.1 pep chromosome:GRCh38:3:49357171:49358600:-1 gene:ENSG00000233276.4 transcript:ENST00000419783.2 gene_biotype:polymorphic_pseudogene transcript_biotype:protein_coding gene_symbol:GPX1 description:glutathione peroxidase 1 [Source:HGNC Symbol;Acc:HGNC:4553]\r\n",
      "MCAARLAAAAAAAQSVYAFSARPLAGGEPVSLGSLRGKVLLIENVASLUGTTVRDYTQMN\r\n",
      "ELQRRLGPRGLVVLGFPCNQFGHQENAKNEEILNSLKYVRPGGGFEPNFMLFEKCEVNGA\r\n",
      "GAHPLFAFLREALPAPSDDATALMTDPKLITWSPVCRNDVAWNFEKFLVGPDGVPLRRYS\r\n",
      "RRFQTIDIEPDIEALLSQGPSCA\r\n",
      ">ENSP00000391316.1 pep chromosome:GRCh38:3:49357178:49358312:-1 gene:ENSG00000233276.4 transcript:ENST00000419349.2 gene_biotype:polymorphic_pseudogene transcript_biotype:protein_coding gene_symbol:GPX1 description:glutathione peroxidase 1 [Source:HGNC Symbol;Acc:HGNC:4553]\r\n",
      "MCAARLAAAAAAAQSVYAFSARPLAGGEPVSLGSLRGKVLLIENVASLUGTTVRDYTQMN\r\n",
      "ELQRRLGPRGLVVLGFPCNQFGHQVRRAERGGAGADVQ\r\n",
      ">ENSP00000495108.1 pep chromosome:GRCh38:3:49357201:49358325:-1 gene:ENSG00000233276.4 transcript:ENST00000643797.1 gene_biotype:polymorphic_pseudogene transcript_biotype:protein_coding gene_symbol:GPX1 description:glutathione peroxidase 1 [Source:HGNC Symbol;Acc:HGNC:4553]\r\n",
      "MCAARLAAAAAAAQSVYAFSARPLAGGEPVSLGSLRGKENAKNEEILNSLKYVRPGGGFE\r\n",
      "\r\n",
      "==> /home/ubuntu/code/sequence-localization/data/021_get_nucleus_cytoplasm_sequences/Homo_sapiens.GRCh38.pep.all.fa.nuclear_or_cytoplasmic.target.tsv <==\r\n",
      "1\t0\t1\t0\r\n",
      "1\t0\t1\t0\r\n",
      "1\t0\t1\t0\r\n",
      "1\t0\t1\t0\r\n",
      "1\t0\t1\t0\r\n",
      "1\t0\t1\t0\r\n",
      "0\t1\t0\t1\r\n",
      "1\t0\t1\t0\r\n",
      "0\t1\t0\t1\r\n",
      "0\t1\t0\t1\r\n",
      "\r\n",
      "==> /home/ubuntu/code/sequence-localization/data/021_get_nucleus_cytoplasm_sequences/Homo_sapiens.GRCh38.pep.all.fa.nuclear_or_cytoplasmic.target.tsv.test <==\r\n",
      "0\t1\r\n",
      "1\t0\r\n",
      "0\t1\r\n",
      "0\t1\r\n",
      "0\t1\r\n",
      "1\t0\r\n",
      "1\t0\r\n",
      "1\t0\r\n",
      "0\t1\r\n",
      "0\t1\r\n",
      "\r\n",
      "==> /home/ubuntu/code/sequence-localization/data/021_get_nucleus_cytoplasm_sequences/Homo_sapiens.GRCh38.pep.all.fa.nuclear_or_cytoplasmic.target.tsv.train <==\r\n",
      "1\t0\r\n",
      "1\t0\r\n",
      "1\t0\r\n",
      "1\t0\r\n",
      "1\t0\r\n",
      "1\t0\r\n",
      "1\t0\r\n",
      "1\t0\r\n",
      "0\t1\r\n",
      "0\t1\r\n",
      "\r\n",
      "==> /home/ubuntu/code/sequence-localization/data/021_get_nucleus_cytoplasm_sequences/Homo_sapiens.GRCh38.pep.all.fa.nuclear_or_cytoplasmic.test <==\r\n",
      ">ENSP00000354982.2 pep chromosome:GRCh38:MT:9207:9990:1 gene:ENSG00000198938.2 transcript:ENST00000362079.2 gene_biotype:protein_coding transcript_biotype:protein_coding gene_symbol:MT-CO3 description:mitochondrially encoded cytochrome c oxidase III [Source:HGNC Symbol;Acc:HGNC:7422]\r\n",
      "MTHQSHAYHMVKPSPWPLTGALSALLMTSGLAMWFHFHSMTLLMLGLLTNTLTMYQWWRD\r\n",
      "VTRESTYQGHHTPPVQKGLRYGMILFITSEVFFFAGFFWAFYHSSLAPTPQLGGHWPPTG\r\n",
      "ITPLNPLEVPLLNTSVLLASGVSITWAHHSLMENNRNQMIQALLITILLGLYFTLLQASE\r\n",
      "YFESPFTISDGIYGSTFFVATGFHGLHVIIGSTFLTICFIRQLMFHFTSKHHFGFEAAAW\r\n",
      "YWHFVDVVWLFLYVSIYWWGS\r\n",
      ">ENSP00000354728.1 pep chromosome:GRCh38:MT:10470:10766:1 gene:ENSG00000212907.2 transcript:ENST00000361335.1 gene_biotype:protein_coding transcript_biotype:protein_coding gene_symbol:MT-ND4L description:mitochondrially encoded NADH:ubiquinone oxidoreductase core subunit 4L [Source:HGNC Symbol;Acc:HGNC:7460]\r\n",
      "MPLIYMNIMLAFTISLLGMLVYRSHLMSSLLCLEGMMLSLFIMATLMTLNTHSLLANIVP\r\n",
      "IAMLVFAACEAAVGLALLVSISNTYGLDYVHNLNLLQC\r\n",
      ">ENSP00000445721.1 pep chromosome:GRCh38:12:106358082:106510196:1 gene:ENSG00000013503.9 transcript:ENST00000539066.5 gene_biotype:protein_coding transcript_biotype:protein_coding gene_symbol:POLR3B description:RNA polymerase III subunit B [Source:HGNC Symbol;Acc:HGNC:30348]\r\n",
      "\r\n",
      "==> /home/ubuntu/code/sequence-localization/data/021_get_nucleus_cytoplasm_sequences/Homo_sapiens.GRCh38.pep.all.fa.nuclear_or_cytoplasmic.train <==\r\n",
      ">ENSP00000407375.1 pep chromosome:GRCh38:3:49357171:49358600:-1 gene:ENSG00000233276.4 transcript:ENST00000419783.2 gene_biotype:polymorphic_pseudogene transcript_biotype:protein_coding gene_symbol:GPX1 description:glutathione peroxidase 1 [Source:HGNC Symbol;Acc:HGNC:4553]\r\n",
      "MCAARLAAAAAAAQSVYAFSARPLAGGEPVSLGSLRGKVLLIENVASLUGTTVRDYTQMN\r\n",
      "ELQRRLGPRGLVVLGFPCNQFGHQENAKNEEILNSLKYVRPGGGFEPNFMLFEKCEVNGA\r\n",
      "GAHPLFAFLREALPAPSDDATALMTDPKLITWSPVCRNDVAWNFEKFLVGPDGVPLRRYS\r\n",
      "RRFQTIDIEPDIEALLSQGPSCA\r\n",
      ">ENSP00000391316.1 pep chromosome:GRCh38:3:49357178:49358312:-1 gene:ENSG00000233276.4 transcript:ENST00000419349.2 gene_biotype:polymorphic_pseudogene transcript_biotype:protein_coding gene_symbol:GPX1 description:glutathione peroxidase 1 [Source:HGNC Symbol;Acc:HGNC:4553]\r\n",
      "MCAARLAAAAAAAQSVYAFSARPLAGGEPVSLGSLRGKVLLIENVASLUGTTVRDYTQMN\r\n",
      "ELQRRLGPRGLVVLGFPCNQFGHQVRRAERGGAGADVQ\r\n",
      ">ENSP00000495108.1 pep chromosome:GRCh38:3:49357201:49358325:-1 gene:ENSG00000233276.4 transcript:ENST00000643797.1 gene_biotype:polymorphic_pseudogene transcript_biotype:protein_coding gene_symbol:GPX1 description:glutathione peroxidase 1 [Source:HGNC Symbol;Acc:HGNC:4553]\r\n",
      "MCAARLAAAAAAAQSVYAFSARPLAGGEPVSLGSLRGKENAKNEEILNSLKYVRPGGGFE\r\n"
     ]
    }
   ],
   "source": [
    "! head $data_folder/*"
   ]
  }
 ],
 "metadata": {
  "kernelspec": {
   "display_name": "Python 3",
   "language": "python",
   "name": "python3"
  },
  "language_info": {
   "codemirror_mode": {
    "name": "ipython",
    "version": 3
   },
   "file_extension": ".py",
   "mimetype": "text/x-python",
   "name": "python",
   "nbconvert_exporter": "python",
   "pygments_lexer": "ipython3",
   "version": "3.6.3"
  }
 },
 "nbformat": 4,
 "nbformat_minor": 2
}
