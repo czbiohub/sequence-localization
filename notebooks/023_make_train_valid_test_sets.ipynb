{
 "cells": [
  {
   "cell_type": "code",
   "execution_count": 3,
   "metadata": {},
   "outputs": [],
   "source": [
    "import os\n",
    "\n",
    "DATA_FOLDER = os.path.abspath(os.path.join('..', 'data'))\n",
    "FIGURE_FOLDER = os.path.abspath(os.path.join('..', 'figures'))\n",
    "\n",
    "notebook_name = '023_make_train_valid_test_sets'\n",
    "\n",
    "data_folder = os.path.join(DATA_FOLDER, notebook_name)\n",
    "figure_folder = os.path.join(FIGURE_FOLDER, notebook_name)\n",
    "\n",
    "! mkdir -p $data_folder\n",
    "! mkdir -p $figure_folder\n",
    "\n",
    "input_folder = os.path.join(DATA_FOLDER, '022_slice_seqs_to_same_lengths')"
   ]
  },
  {
   "cell_type": "code",
   "execution_count": 13,
   "metadata": {},
   "outputs": [
    {
     "name": "stdout",
     "output_type": "stream",
     "text": [
      "Homo_sapiens.GRCh38.cdna.all.fa.nuclear_or_cytoplasmic.last500\r\n",
      "Homo_sapiens.GRCh38.cdna.all.fa.nuclear_or_cytoplasmic.last500.tsv\r\n",
      "Homo_sapiens.GRCh38.cds.all.fa.nuclear_or_cytoplasmic.last450\r\n",
      "Homo_sapiens.GRCh38.cds.all.fa.nuclear_or_cytoplasmic.last450.tsv\r\n",
      "Homo_sapiens.GRCh38.pep.all.fa.nuclear_or_cytoplasmic.last150\r\n",
      "Homo_sapiens.GRCh38.pep.all.fa.nuclear_or_cytoplasmic.last150.tsv\r\n"
     ]
    }
   ],
   "source": [
    "ls $input_folder"
   ]
  },
  {
   "cell_type": "code",
   "execution_count": 16,
   "metadata": {},
   "outputs": [
    {
     "data": {
      "text/plain": [
       "['Homo_sapiens.GRCh38.cdna.all.fa.nuclear_or_cytoplasmic.last500',\n",
       " 'Homo_sapiens.GRCh38.cds.all.fa.nuclear_or_cytoplasmic.last450',\n",
       " 'Homo_sapiens.GRCh38.pep.all.fa.nuclear_or_cytoplasmic.last150']"
      ]
     },
     "execution_count": 16,
     "metadata": {},
     "output_type": "execute_result"
    }
   ],
   "source": [
    "fastas = ! ls $input_folder\n",
    "fastas = [x for x in fastas if not x.endswith('tsv')]\n",
    "fastas"
   ]
  },
  {
   "cell_type": "code",
   "execution_count": 20,
   "metadata": {},
   "outputs": [
    {
     "name": "stdout",
     "output_type": "stream",
     "text": [
      "/src/myhome/code/sequence-localization/data/022_slice_seqs_to_same_lengths/Homo_sapiens.GRCh38.cdna.all.fa.nuclear_or_cytoplasmic.last500\n",
      "\ttarget.shape (19338, 2)\n",
      "\teighty_percent: 15470\n",
      "\tone_eighth_of_train: 1934\n",
      "\ttest_target.shape: (3868, 2) 20.0%\n",
      "\ttrain_target.shape: (13536, 2) 70.0%\n",
      "\tvalid_target.shape: (1934, 2) 10.0%\n",
      "\tWriting target vector Homo_sapiens.GRCh38.cdna.all.fa.nuclear_or_cytoplasmic.last500.target.tsv.test ...\n",
      "\tWriting sequences to Homo_sapiens.GRCh38.cdna.all.fa.nuclear_or_cytoplasmic.last500.test ...\n",
      "\tWriting target vector Homo_sapiens.GRCh38.cdna.all.fa.nuclear_or_cytoplasmic.last500.target.tsv.train ...\n",
      "\tWriting sequences to Homo_sapiens.GRCh38.cdna.all.fa.nuclear_or_cytoplasmic.last500.train ...\n",
      "\tWriting target vector Homo_sapiens.GRCh38.cdna.all.fa.nuclear_or_cytoplasmic.last500.target.tsv.valid ...\n",
      "\tWriting sequences to Homo_sapiens.GRCh38.cdna.all.fa.nuclear_or_cytoplasmic.last500.valid ...\n",
      "/src/myhome/code/sequence-localization/data/022_slice_seqs_to_same_lengths/Homo_sapiens.GRCh38.cds.all.fa.nuclear_or_cytoplasmic.last450\n",
      "\ttarget.shape (9016, 2)\n",
      "\teighty_percent: 7213\n",
      "\tone_eighth_of_train: 902\n",
      "\ttest_target.shape: (1803, 2) 20.0%\n",
      "\ttrain_target.shape: (6311, 2) 70.0%\n",
      "\tvalid_target.shape: (902, 2) 10.0%\n",
      "\tWriting target vector Homo_sapiens.GRCh38.cds.all.fa.nuclear_or_cytoplasmic.last450.target.tsv.test ...\n",
      "\tWriting sequences to Homo_sapiens.GRCh38.cds.all.fa.nuclear_or_cytoplasmic.last450.test ...\n",
      "\tWriting target vector Homo_sapiens.GRCh38.cds.all.fa.nuclear_or_cytoplasmic.last450.target.tsv.train ...\n",
      "\tWriting sequences to Homo_sapiens.GRCh38.cds.all.fa.nuclear_or_cytoplasmic.last450.train ...\n",
      "\tWriting target vector Homo_sapiens.GRCh38.cds.all.fa.nuclear_or_cytoplasmic.last450.target.tsv.valid ...\n",
      "\tWriting sequences to Homo_sapiens.GRCh38.cds.all.fa.nuclear_or_cytoplasmic.last450.valid ...\n",
      "/src/myhome/code/sequence-localization/data/022_slice_seqs_to_same_lengths/Homo_sapiens.GRCh38.pep.all.fa.nuclear_or_cytoplasmic.last150\n",
      "\ttarget.shape (9000, 2)\n",
      "\teighty_percent: 7200\n",
      "\tone_eighth_of_train: 900\n",
      "\ttest_target.shape: (1800, 2) 20.0%\n",
      "\ttrain_target.shape: (6300, 2) 70.0%\n",
      "\tvalid_target.shape: (900, 2) 10.0%\n",
      "\tWriting target vector Homo_sapiens.GRCh38.pep.all.fa.nuclear_or_cytoplasmic.last150.target.tsv.test ...\n",
      "\tWriting sequences to Homo_sapiens.GRCh38.pep.all.fa.nuclear_or_cytoplasmic.last150.test ...\n",
      "\tWriting target vector Homo_sapiens.GRCh38.pep.all.fa.nuclear_or_cytoplasmic.last150.target.tsv.train ...\n",
      "\tWriting sequences to Homo_sapiens.GRCh38.pep.all.fa.nuclear_or_cytoplasmic.last150.train ...\n",
      "\tWriting target vector Homo_sapiens.GRCh38.pep.all.fa.nuclear_or_cytoplasmic.last150.target.tsv.valid ...\n",
      "\tWriting sequences to Homo_sapiens.GRCh38.pep.all.fa.nuclear_or_cytoplasmic.last150.valid ...\n"
     ]
    }
   ],
   "source": [
    "# %%time\n",
    "import pandas as pd\n",
    "import numpy as np\n",
    "\n",
    "np.random.seed(0)\n",
    "\n",
    "# %%time\n",
    "\n",
    "from Bio import SeqIO\n",
    "\n",
    "train_fraction = 0.8\n",
    "\n",
    "for fasta in fastas:\n",
    "    input_fasta = os.path.join(input_folder, fasta)\n",
    "    print(input_fasta)\n",
    "    tsv = os.path.join(input_folder, f\"{fasta}.target.tsv\")\n",
    "    target = pd.read_table(tsv, header=None)\n",
    "    print('\\ttarget.shape', target.shape)\n",
    "    \n",
    "    total = len(target.index)\n",
    "    eighty_percent = int(np.round(0.8*total))\n",
    "    print(f\"\\teighty_percent: {eighty_percent}\")\n",
    "    \n",
    "    # Create test set ids (80% of data)\n",
    "    train_ids = np.random.choice(target.index, replace=False, size=eighty_percent)\n",
    "    \n",
    "    # Create training set ids (20% of data)\n",
    "    test_ids = target.index[~target.index.isin(train_ids)]\n",
    "    \n",
    "    # Create validation set ids (1/8 of test set --> 10% of data)\n",
    "    one_eighth_of_train = int(np.round(eighty_percent/8.))\n",
    "    print(f\"\\tone_eighth_of_train: {one_eighth_of_train}\")\n",
    "    valid_ids = np.random.choice(train_ids, replace=False, size=one_eighth_of_train)\n",
    "    \n",
    "    # Update training set ids to not contain the validation set ids\n",
    "    # --> now test set is 70% of the data\n",
    "    train_ids = train_ids[~np.isin(train_ids, valid_ids)]\n",
    "\n",
    "    train_target = target.loc[train_ids]\n",
    "    test_target = target.loc[test_ids]\n",
    "    valid_target = target.loc[valid_ids]\n",
    "    \n",
    "    id_to_dataset = pd.Series(index=target.index)\n",
    "    id_to_dataset[train_ids] = 'train'\n",
    "    id_to_dataset[test_ids] = 'test'\n",
    "    id_to_dataset[valid_ids] = 'valid'\n",
    "    \n",
    "    print(\"\\ttest_target.shape:\", test_target.shape, f'{100*float(len(test_target.index))/total:.1f}%')\n",
    "    print(\"\\ttrain_target.shape:\", train_target.shape, f'{100*float(len(train_target.index))/total:.1f}%')\n",
    "    print(\"\\tvalid_target.shape:\", valid_target.shape, f'{100*float(len(valid_target.index))/total:.1f}%')\n",
    "        \n",
    "    targets = {'test': test_target, 'train': train_target, 'valid': valid_target}\n",
    "    records = {'test': [], 'train': [], \"valid\": []}\n",
    "    \n",
    "    for i, record in enumerate(SeqIO.parse(input_fasta, \"fasta\")):\n",
    "        dataset = id_to_dataset[i]\n",
    "        records[dataset].append(record)\n",
    "    \n",
    "    for name, target_vector in targets.items():\n",
    "        datset_tsv = os.path.join(data_folder, os.path.basename(tsv) + \".\" + name)\n",
    "        print(f\"\\tWriting target vector {os.path.basename(datset_tsv)} ...\")\n",
    "        target_vector.to_csv(datset_tsv, index=False, header=False, sep='\\t')\n",
    "        \n",
    "        dataset_fasta = os.path.join(data_folder, os.path.basename(input_fasta) + '.' + name)\n",
    "        print(f\"\\tWriting sequences to {os.path.basename(dataset_fasta)} ...\")\n",
    "        SeqIO.write(records[name], dataset_fasta, 'fasta')\n",
    "        \n",
    "#         if train_index[i]:\n",
    "#             train_records.append(record)\n",
    "#         else:\n",
    "#             test_records.append(record)\n",
    "    \n",
    "#     SeqIO.write(test_records, input_fasta + \".test\", \"fasta\")\n",
    "#     SeqIO.write(train_records, input_fasta + \".train\", \"fasta\")"
   ]
  },
  {
   "cell_type": "code",
   "execution_count": 38,
   "metadata": {},
   "outputs": [],
   "source": [
    "seq = records[name][0]"
   ]
  },
  {
   "cell_type": "code",
   "execution_count": null,
   "metadata": {},
   "outputs": [],
   "source": []
  },
  {
   "cell_type": "code",
   "execution_count": 39,
   "metadata": {},
   "outputs": [
    {
     "data": {
      "text/plain": [
       "SeqRecord(seq=Seq('MCAARLAAAAAAAQSVYAFSARPLAGGEPVSLGSLRGKVLLIENVASLGTTVRD...SCA', SingleLetterAlphabet()), id='ENSP00000478837.1', name='ENSP00000478837.1', description='ENSP00000478837.1 pep chromosome:GRCh38:3:49357180:49358358:-1 gene:ENSG00000233276.4 transcript:ENST00000620890.1 gene_biotype:polymorphic_pseudogene transcript_biotype:protein_coding gene_symbol:GPX1 description:glutathione peroxidase 1 [Source:HGNC Symbol;Acc:HGNC:4553]', dbxrefs=[])"
      ]
     },
     "execution_count": 39,
     "metadata": {},
     "output_type": "execute_result"
    }
   ],
   "source": [
    "seq[-1000:]"
   ]
  },
  {
   "cell_type": "code",
   "execution_count": 36,
   "metadata": {},
   "outputs": [
    {
     "name": "stdout",
     "output_type": "stream",
     "text": [
      "Homo_sapiens.GRCh38.cdna.all.fa.nuclear_or_cytoplasmic.target.tsv.test\r\n",
      "Homo_sapiens.GRCh38.cdna.all.fa.nuclear_or_cytoplasmic.target.tsv.train\r\n",
      "Homo_sapiens.GRCh38.cdna.all.fa.nuclear_or_cytoplasmic.target.tsv.valid\r\n",
      "Homo_sapiens.GRCh38.cdna.all.fa.nuclear_or_cytoplasmic.test\r\n",
      "Homo_sapiens.GRCh38.cdna.all.fa.nuclear_or_cytoplasmic.train\r\n",
      "Homo_sapiens.GRCh38.cdna.all.fa.nuclear_or_cytoplasmic.valid\r\n",
      "Homo_sapiens.GRCh38.cds.all.fa.nuclear_or_cytoplasmic.target.tsv.test\r\n",
      "Homo_sapiens.GRCh38.cds.all.fa.nuclear_or_cytoplasmic.target.tsv.train\r\n",
      "Homo_sapiens.GRCh38.cds.all.fa.nuclear_or_cytoplasmic.target.tsv.valid\r\n",
      "Homo_sapiens.GRCh38.cds.all.fa.nuclear_or_cytoplasmic.test\r\n",
      "Homo_sapiens.GRCh38.cds.all.fa.nuclear_or_cytoplasmic.train\r\n",
      "Homo_sapiens.GRCh38.cds.all.fa.nuclear_or_cytoplasmic.valid\r\n",
      "Homo_sapiens.GRCh38.pep.all.fa.nuclear_or_cytoplasmic.target.tsv.test\r\n",
      "Homo_sapiens.GRCh38.pep.all.fa.nuclear_or_cytoplasmic.target.tsv.train\r\n",
      "Homo_sapiens.GRCh38.pep.all.fa.nuclear_or_cytoplasmic.target.tsv.valid\r\n",
      "Homo_sapiens.GRCh38.pep.all.fa.nuclear_or_cytoplasmic.test\r\n",
      "Homo_sapiens.GRCh38.pep.all.fa.nuclear_or_cytoplasmic.train\r\n",
      "Homo_sapiens.GRCh38.pep.all.fa.nuclear_or_cytoplasmic.valid\r\n"
     ]
    }
   ],
   "source": [
    "ls $data_folder"
   ]
  },
  {
   "cell_type": "markdown",
   "metadata": {},
   "source": [
    "## What's the difference between CDS and cDNA datasets?"
   ]
  },
  {
   "cell_type": "code",
   "execution_count": 23,
   "metadata": {},
   "outputs": [
    {
     "name": "stdout",
     "output_type": "stream",
     "text": [
      "==> /home/ubuntu/code/sequence-localization/data/021_get_nucleus_cytoplasm_sequences/Homo_sapiens.GRCh38.cdna.all.fa.nuclear_or_cytoplasmic <==\r\n",
      ">ENST00000419783.2 cdna chromosome:GRCh38:3:49357171:49358600:-1 gene:ENSG00000233276.4 gene_biotype:polymorphic_pseudogene transcript_biotype:protein_coding gene_symbol:GPX1 description:glutathione peroxidase 1 [Source:HGNC Symbol;Acc:HGNC:4553]\r\n",
      "GAGCCCTCGAGGGCCCCAGCCCTTGGAAGGGTAACCTGGACCGCTGCCGCCTGGTTGCCT\r\n",
      "GGGCCAGACCAGACATGCCTGCTGCTCCTTCCGGCTTAGGAGGAGCACGCGTCCCGCTCG\r\n",
      "GGCGCACTCTCCAGCCTTTTCCTGGCTGAGGAGGGGCCGAGCCCTCCGGGTAGGGCGGGG\r\n",
      "GCCGGATGAGGCGGGACCCTCAGGCCCGGAAAACTGCCTGTGCCACGTGACCCGCCGCCG\r\n",
      "GCCAGTTAAAAGGAGGCGCCTGCTGGCCTCCCCTTACAGTGCTTGTTCGGGGCGCTCCGC\r\n",
      "TGGCTTCTTGGACAATTGCGCCATGTGTGCTGCTCGGCTAGCGGCGGCGGCGGCGGCGGC\r\n",
      "CCAGTCGGTGTATGCCTTCTCGGCGCGCCCGCTGGCCGGCGGGGAGCCTGTGAGCCTGGG\r\n",
      "CTCCCTGCGGGGCAAGGTACTACTTATCGAGAATGTGGCGTCCCTCTGAGGCACCACGGT\r\n",
      "CCGGGACTACACCCAGATGAACGAGCTGCAGCGGCGCCTCGGACCCCGGGGCCTGGTGGT\r\n",
      "\r\n",
      "==> /home/ubuntu/code/sequence-localization/data/021_get_nucleus_cytoplasm_sequences/Homo_sapiens.GRCh38.cds.all.fa.nuclear_or_cytoplasmic <==\r\n",
      ">ENST00000419783.2 cds chromosome:GRCh38:3:49357171:49358600:-1 gene:ENSG00000233276.4 gene_biotype:polymorphic_pseudogene transcript_biotype:protein_coding gene_symbol:GPX1 description:glutathione peroxidase 1 [Source:HGNC Symbol;Acc:HGNC:4553]\r\n",
      "ATGTGTGCTGCTCGGCTAGCGGCGGCGGCGGCGGCGGCCCAGTCGGTGTATGCCTTCTCG\r\n",
      "GCGCGCCCGCTGGCCGGCGGGGAGCCTGTGAGCCTGGGCTCCCTGCGGGGCAAGGTACTA\r\n",
      "CTTATCGAGAATGTGGCGTCCCTCTGAGGCACCACGGTCCGGGACTACACCCAGATGAAC\r\n",
      "GAGCTGCAGCGGCGCCTCGGACCCCGGGGCCTGGTGGTGCTCGGCTTCCCGTGCAACCAG\r\n",
      "TTTGGGCATCAGGAGAACGCCAAGAACGAAGAGATTCTGAATTCCCTCAAGTACGTCCGG\r\n",
      "CCTGGTGGTGGGTTCGAGCCCAACTTCATGCTCTTCGAGAAGTGCGAGGTGAACGGTGCG\r\n",
      "GGGGCGCACCCTCTCTTCGCCTTCCTGCGGGAGGCCCTGCCAGCTCCCAGCGACGACGCC\r\n",
      "ACCGCGCTTATGACCGACCCCAAGCTCATCACCTGGTCTCCGGTGTGTCGCAACGATGTT\r\n",
      "GCCTGGAACTTTGAGAAGTTCCTGGTGGGCCCTGACGGTGTGCCCCTACGCAGGTACAGC\r\n",
      "\r\n",
      "==> /home/ubuntu/code/sequence-localization/data/021_get_nucleus_cytoplasm_sequences/Homo_sapiens.GRCh38.pep.all.fa.nuclear_or_cytoplasmic <==\r\n",
      ">ENSP00000407375.1 pep chromosome:GRCh38:3:49357171:49358600:-1 gene:ENSG00000233276.4 transcript:ENST00000419783.2 gene_biotype:polymorphic_pseudogene transcript_biotype:protein_coding gene_symbol:GPX1 description:glutathione peroxidase 1 [Source:HGNC Symbol;Acc:HGNC:4553]\r\n",
      "MCAARLAAAAAAAQSVYAFSARPLAGGEPVSLGSLRGKVLLIENVASLUGTTVRDYTQMN\r\n",
      "ELQRRLGPRGLVVLGFPCNQFGHQENAKNEEILNSLKYVRPGGGFEPNFMLFEKCEVNGA\r\n",
      "GAHPLFAFLREALPAPSDDATALMTDPKLITWSPVCRNDVAWNFEKFLVGPDGVPLRRYS\r\n",
      "RRFQTIDIEPDIEALLSQGPSCA\r\n",
      ">ENSP00000391316.1 pep chromosome:GRCh38:3:49357178:49358312:-1 gene:ENSG00000233276.4 transcript:ENST00000419349.2 gene_biotype:polymorphic_pseudogene transcript_biotype:protein_coding gene_symbol:GPX1 description:glutathione peroxidase 1 [Source:HGNC Symbol;Acc:HGNC:4553]\r\n",
      "MCAARLAAAAAAAQSVYAFSARPLAGGEPVSLGSLRGKVLLIENVASLUGTTVRDYTQMN\r\n",
      "ELQRRLGPRGLVVLGFPCNQFGHQVRRAERGGAGADVQ\r\n",
      ">ENSP00000495108.1 pep chromosome:GRCh38:3:49357201:49358325:-1 gene:ENSG00000233276.4 transcript:ENST00000643797.1 gene_biotype:polymorphic_pseudogene transcript_biotype:protein_coding gene_symbol:GPX1 description:glutathione peroxidase 1 [Source:HGNC Symbol;Acc:HGNC:4553]\r\n",
      "MCAARLAAAAAAAQSVYAFSARPLAGGEPVSLGSLRGKENAKNEEILNSLKYVRPGGGFE\r\n"
     ]
    }
   ],
   "source": [
    "! head $data_folder/*nuclear_or_cytoplasmic"
   ]
  },
  {
   "cell_type": "markdown",
   "metadata": {},
   "source": [
    "\n",
    "Search for `ATGTGTGCTGCT`, the very beginning of the CDS. It shows that the CDS is the pure coding sequence (exons only) while the CDNA is the whole CDNA molecule, including introns and UTRs. We want the whole UTRs too.\n",
    "\n",
    "this means:\n",
    "\n",
    "- CDS = coding exons only\n",
    "- cDNA = entire transcript, including UTRs and exons"
   ]
  }
 ],
 "metadata": {
  "kernelspec": {
   "display_name": "Python 3",
   "language": "python",
   "name": "python3"
  },
  "language_info": {
   "codemirror_mode": {
    "name": "ipython",
    "version": 3
   },
   "file_extension": ".py",
   "mimetype": "text/x-python",
   "name": "python",
   "nbconvert_exporter": "python",
   "pygments_lexer": "ipython3",
   "version": "3.6.3"
  }
 },
 "nbformat": 4,
 "nbformat_minor": 2
}
