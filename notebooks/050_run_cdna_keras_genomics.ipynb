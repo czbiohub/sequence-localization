{
 "cells": [
  {
   "cell_type": "code",
   "execution_count": 1,
   "metadata": {},
   "outputs": [],
   "source": [
    "import os\n",
    "\n",
    "DATA_FOLDER = os.path.abspath(os.path.join('..', 'data'))\n",
    "FIGURE_FOLDER = os.path.abspath(os.path.join('..', 'figures'))\n",
    "\n",
    "notebook_name = '050_run_cdna_keras_genomics'\n",
    "\n",
    "data_folder = os.path.join(DATA_FOLDER, notebook_name)\n",
    "figure_folder = os.path.join(FIGURE_FOLDER, notebook_name)\n",
    "\n",
    "! mkdir -p $data_folder\n",
    "! mkdir -p $figure_folder\n",
    "\n",
    "input_folder = os.path.join(DATA_FOLDER, '023_make_train_valid_test_sets')"
   ]
  },
  {
   "cell_type": "code",
   "execution_count": 2,
   "metadata": {},
   "outputs": [
    {
     "data": {
      "text/plain": [
       "'/src/myhome/code/sequence-localization/data/050_run_cdna_keras_genomics'"
      ]
     },
     "execution_count": 2,
     "metadata": {},
     "output_type": "execute_result"
    }
   ],
   "source": [
    "data_folder"
   ]
  },
  {
   "cell_type": "code",
   "execution_count": 3,
   "metadata": {},
   "outputs": [
    {
     "data": {
      "text/plain": [
       "'/src/myhome/code/sequence-localization/data/023_make_train_valid_test_sets'"
      ]
     },
     "execution_count": 3,
     "metadata": {},
     "output_type": "execute_result"
    }
   ],
   "source": [
    "input_folder"
   ]
  },
  {
   "cell_type": "code",
   "execution_count": 4,
   "metadata": {},
   "outputs": [
    {
     "name": "stdout",
     "output_type": "stream",
     "text": [
      "total 25M\r\n",
      "drwxr-xr-x  2 root root 4.0K May 26 03:21 \u001b[0m\u001b[01;34m.\u001b[0m/\r\n",
      "drwxrwxr-x 15 2002 2002 4.0K May 29 16:37 \u001b[01;34m..\u001b[0m/\r\n",
      "-rw-r--r--  1 root root  16K May 26 03:21 Homo_sapiens.GRCh38.cdna.all.fa.nuclear_or_cytoplasmic.last500.target.tsv.test\r\n",
      "-rw-r--r--  1 root root  53K May 26 03:21 Homo_sapiens.GRCh38.cdna.all.fa.nuclear_or_cytoplasmic.last500.target.tsv.train\r\n",
      "-rw-r--r--  1 root root 7.6K May 26 03:21 Homo_sapiens.GRCh38.cdna.all.fa.nuclear_or_cytoplasmic.last500.target.tsv.valid\r\n",
      "-rw-r--r--  1 root root 2.9M May 26 03:21 Homo_sapiens.GRCh38.cdna.all.fa.nuclear_or_cytoplasmic.last500.test\r\n",
      "-rw-r--r--  1 root root 9.9M May 26 03:21 Homo_sapiens.GRCh38.cdna.all.fa.nuclear_or_cytoplasmic.last500.train\r\n",
      "-rw-r--r--  1 root root 1.5M May 26 03:21 Homo_sapiens.GRCh38.cdna.all.fa.nuclear_or_cytoplasmic.last500.valid\r\n",
      "-rw-r--r--  1 root root 7.1K May 26 03:21 Homo_sapiens.GRCh38.cds.all.fa.nuclear_or_cytoplasmic.last450.target.tsv.test\r\n",
      "-rw-r--r--  1 root root  25K May 26 03:21 Homo_sapiens.GRCh38.cds.all.fa.nuclear_or_cytoplasmic.last450.target.tsv.train\r\n",
      "-rw-r--r--  1 root root 3.6K May 26 03:21 Homo_sapiens.GRCh38.cds.all.fa.nuclear_or_cytoplasmic.last450.target.tsv.valid\r\n",
      "-rw-r--r--  1 root root 1.3M May 26 03:21 Homo_sapiens.GRCh38.cds.all.fa.nuclear_or_cytoplasmic.last450.test\r\n",
      "-rw-r--r--  1 root root 4.3M May 26 03:21 Homo_sapiens.GRCh38.cds.all.fa.nuclear_or_cytoplasmic.last450.train\r\n",
      "-rw-r--r--  1 root root 625K May 26 03:21 Homo_sapiens.GRCh38.cds.all.fa.nuclear_or_cytoplasmic.last450.valid\r\n",
      "-rw-r--r--  1 root root 7.1K May 26 03:21 Homo_sapiens.GRCh38.pep.all.fa.nuclear_or_cytoplasmic.last150.target.tsv.test\r\n",
      "-rw-r--r--  1 root root  25K May 26 03:21 Homo_sapiens.GRCh38.pep.all.fa.nuclear_or_cytoplasmic.last150.target.tsv.train\r\n",
      "-rw-r--r--  1 root root 3.6K May 26 03:21 Homo_sapiens.GRCh38.pep.all.fa.nuclear_or_cytoplasmic.last150.target.tsv.valid\r\n",
      "-rw-r--r--  1 root root 760K May 26 03:21 Homo_sapiens.GRCh38.pep.all.fa.nuclear_or_cytoplasmic.last150.test\r\n",
      "-rw-r--r--  1 root root 2.6M May 26 03:21 Homo_sapiens.GRCh38.pep.all.fa.nuclear_or_cytoplasmic.last150.train\r\n",
      "-rw-r--r--  1 root root 380K May 26 03:21 Homo_sapiens.GRCh38.pep.all.fa.nuclear_or_cytoplasmic.last150.valid\r\n"
     ]
    }
   ],
   "source": [
    "ls -lha $input_folder"
   ]
  },
  {
   "cell_type": "code",
   "execution_count": 5,
   "metadata": {},
   "outputs": [
    {
     "name": "stdout",
     "output_type": "stream",
     "text": [
      "==> /src/myhome/code/sequence-localization/data/023_make_train_valid_test_sets/Homo_sapiens.GRCh38.cdna.all.fa.nuclear_or_cytoplasmic.last500.target.tsv.test <==\r\n",
      "0\t1\r\n",
      "0\t1\r\n",
      "1\t0\r\n",
      "0\t1\r\n",
      "0\t1\r\n",
      "0\t1\r\n",
      "0\t1\r\n",
      "0\t1\r\n",
      "0\t1\r\n",
      "0\t1\r\n",
      "\r\n",
      "==> /src/myhome/code/sequence-localization/data/023_make_train_valid_test_sets/Homo_sapiens.GRCh38.cdna.all.fa.nuclear_or_cytoplasmic.last500.target.tsv.train <==\r\n",
      "0\t1\r\n",
      "1\t0\r\n",
      "0\t1\r\n",
      "0\t1\r\n",
      "0\t1\r\n",
      "0\t1\r\n",
      "0\t1\r\n",
      "0\t1\r\n",
      "1\t0\r\n",
      "0\t1\r\n",
      "\r\n",
      "==> /src/myhome/code/sequence-localization/data/023_make_train_valid_test_sets/Homo_sapiens.GRCh38.cdna.all.fa.nuclear_or_cytoplasmic.last500.target.tsv.valid <==\r\n",
      "1\t0\r\n",
      "1\t0\r\n",
      "1\t0\r\n",
      "1\t0\r\n",
      "0\t1\r\n",
      "0\t1\r\n",
      "1\t0\r\n",
      "0\t1\r\n",
      "0\t1\r\n",
      "1\t0\r\n",
      "\r\n",
      "==> /src/myhome/code/sequence-localization/data/023_make_train_valid_test_sets/Homo_sapiens.GRCh38.cdna.all.fa.nuclear_or_cytoplasmic.last500.test <==\r\n",
      ">ENST00000550053.5 cdna chromosome:GRCh38:12:105107715:105169130:1 gene:ENSG00000136051.14 gene_biotype:protein_coding transcript_biotype:nonsense_mediated_decay gene_symbol:WASHC4 description:WASH complex subunit 4 [Source:HGNC Symbol;Acc:HGNC:29174]\r\n",
      "CAATACTAGATAGAGTTCACATGCTGACTCCCTGGATACCTACAGTTGAGAAGAAAATGA\r\n",
      "CAGACAATTATTTTTCCTTTAGGTCAAAATAATGTCACTGCTATCTGGATAAATTATAAG\r\n",
      "TTCATATATTTGAAATAAGATCCTGGAAACGAATTTAAATGGTGTCAAACTGCAGAGCAA\r\n",
      "CAGGGCTTCAGTATATTCACATCTAATAGGTTAATATGTACATTTGGATGATGATTTTTC\r\n",
      "TTGATAACATTAACATTAATTTTATTTTTTCAGACATACTGTAATTTAAAAATTAATGTG\r\n",
      "AGCGTTTGTTTTAAGTTCACAGAAAACTTAATAATTCAAATTCTCAGGAATTAAGGACTC\r\n",
      "ACCATAACATTGTCAGTTCTAATGAAATTTTGTAAAAGATGGCAAGTTTGTTACCTCACT\r\n",
      "TGAGTGGGGTTTTCCTTTTCCCCCAATTCTAAGAGAATATAATGTGTATACTAAAACATT\r\n",
      "AATAAACATAATTTTGAAAA\r\n",
      "\r\n",
      "==> /src/myhome/code/sequence-localization/data/023_make_train_valid_test_sets/Homo_sapiens.GRCh38.cdna.all.fa.nuclear_or_cytoplasmic.last500.train <==\r\n",
      ">ENST00000419349.2 cdna chromosome:GRCh38:3:49357178:49358312:-1 gene:ENSG00000233276.4 gene_biotype:polymorphic_pseudogene transcript_biotype:protein_coding gene_symbol:GPX1 description:glutathione peroxidase 1 [Source:HGNC Symbol;Acc:HGNC:4553]\r\n",
      "ACTTCATGCTCTTCGAGAAGTGCGAGGTGAACGGTGCGGGGGCGCACCCTCTCTTCGCCT\r\n",
      "TCCTGCGGGAGGCCCTGCCAGCTCCCAGCGACGACGCCACCGCGCTTATGACCGACCCCA\r\n",
      "AGCTCATCACCTGGTCTCCGGTGTGTCGCAACGATGTTGCCTGGAACTTTGAGAAGTTCC\r\n",
      "TGGTGGGCCCTGACGGTGTGCCCCTACGCAGGTACAGCCGCCGCTTCCAGACCATTGACA\r\n",
      "TCGAGCCTGACATCGAAGCCCTGCTGTCTCAAGGGCCCAGCTGTGCCTAGGGCGCCCCTC\r\n",
      "CTACCCCGGCTGCTTGGCAGTTGCAGTGCTGCTGTCTCGGGGGGGTTTTCATCTATGAGG\r\n",
      "GTGTTTCCTCTAAACCTACGAGGGAGGAACACCTGATCTTACAGAAAATACCACCTCGAG\r\n",
      "ATGGGTGCTGGTCCTGTTGATCCCAGTCTCTGCCAGACCAAGGCGAGTTTCCCCACTAAT\r\n",
      "AAAGTGCCGGGTGTCAGCAG\r\n",
      "\r\n",
      "==> /src/myhome/code/sequence-localization/data/023_make_train_valid_test_sets/Homo_sapiens.GRCh38.cdna.all.fa.nuclear_or_cytoplasmic.last500.valid <==\r\n",
      ">ENST00000419783.2 cdna chromosome:GRCh38:3:49357171:49358600:-1 gene:ENSG00000233276.4 gene_biotype:polymorphic_pseudogene transcript_biotype:protein_coding gene_symbol:GPX1 description:glutathione peroxidase 1 [Source:HGNC Symbol;Acc:HGNC:4553]\r\n",
      "GCTCTTCGAGAAGTGCGAGGTGAACGGTGCGGGGGCGCACCCTCTCTTCGCCTTCCTGCG\r\n",
      "GGAGGCCCTGCCAGCTCCCAGCGACGACGCCACCGCGCTTATGACCGACCCCAAGCTCAT\r\n",
      "CACCTGGTCTCCGGTGTGTCGCAACGATGTTGCCTGGAACTTTGAGAAGTTCCTGGTGGG\r\n",
      "CCCTGACGGTGTGCCCCTACGCAGGTACAGCCGCCGCTTCCAGACCATTGACATCGAGCC\r\n",
      "TGACATCGAAGCCCTGCTGTCTCAAGGGCCCAGCTGTGCCTAGGGCGCCCCTCCTACCCC\r\n",
      "GGCTGCTTGGCAGTTGCAGTGCTGCTGTCTCGGGGGGGTTTTCATCTATGAGGGTGTTTC\r\n",
      "CTCTAAACCTACGAGGGAGGAACACCTGATCTTACAGAAAATACCACCTCGAGATGGGTG\r\n",
      "CTGGTCCTGTTGATCCCAGTCTCTGCCAGACCAAGGCGAGTTTCCCCACTAATAAAGTGC\r\n",
      "CGGGTGTCAGCAGAACTGTG\r\n",
      "\r\n",
      "==> /src/myhome/code/sequence-localization/data/023_make_train_valid_test_sets/Homo_sapiens.GRCh38.cds.all.fa.nuclear_or_cytoplasmic.last450.target.tsv.test <==\r\n",
      "0\t1\r\n",
      "0\t1\r\n",
      "0\t1\r\n",
      "0\t1\r\n",
      "0\t1\r\n",
      "0\t1\r\n",
      "0\t1\r\n",
      "0\t1\r\n",
      "0\t1\r\n",
      "0\t1\r\n",
      "\r\n",
      "==> /src/myhome/code/sequence-localization/data/023_make_train_valid_test_sets/Homo_sapiens.GRCh38.cds.all.fa.nuclear_or_cytoplasmic.last450.target.tsv.train <==\r\n",
      "0\t1\r\n",
      "1\t0\r\n",
      "0\t1\r\n",
      "1\t0\r\n",
      "0\t1\r\n",
      "0\t1\r\n",
      "1\t0\r\n",
      "0\t1\r\n",
      "0\t1\r\n",
      "0\t1\r\n",
      "\r\n",
      "==> /src/myhome/code/sequence-localization/data/023_make_train_valid_test_sets/Homo_sapiens.GRCh38.cds.all.fa.nuclear_or_cytoplasmic.last450.target.tsv.valid <==\r\n",
      "1\t0\r\n",
      "0\t1\r\n",
      "1\t0\r\n",
      "0\t1\r\n",
      "0\t1\r\n",
      "1\t0\r\n",
      "1\t0\r\n",
      "0\t1\r\n",
      "0\t1\r\n",
      "0\t1\r\n",
      "\r\n",
      "==> /src/myhome/code/sequence-localization/data/023_make_train_valid_test_sets/Homo_sapiens.GRCh38.cds.all.fa.nuclear_or_cytoplasmic.last450.test <==\r\n",
      ">ENST00000367603.7 cds chromosome:GRCh38:6:142751467:142945201:-1 gene:ENSG00000010818.9 gene_biotype:protein_coding transcript_biotype:protein_coding gene_symbol:HIVEP2 description:human immunodeficiency virus type I enhancer binding protein 2 [Source:HGNC Symbol;Acc:HGNC:4921]\r\n",
      "ACTCCCTCCTCTCCTCGGCTGTTGATGAAACAGAGCACTTCGGAAGACAGCCTAAACGCA\r\n",
      "ACAGAGCGGGAACAGGAGGAAAATATACAGACTTGTACAAAAGCCATTGCCTCTCTCCGG\r\n",
      "ATTGCCACGGAAGAGGCAGCTCTGCTCGGGCCAGATCAGCCAGCGCGGGTGCAGGAGCCC\r\n",
      "CACCAGAACCCCCTGGGAAGTGCACATGTTAGCATTAGACACTTTAGTAGACCTGAGCCA\r\n",
      "GGTCAGCCCTGTACCTCAGCCACCCACCCTGACTTGCATGATGGTGAAAAGGACAATTTT\r\n",
      "GGTACATCACAGACTCCATTAGCTCACTCCACGTTTTACAGCAAGAGTTGTGTGGATGAC\r\n",
      "AAGCAGTTGGACTTTCACAGCAGCAAGGAATTATCTTCAAGCACAGAGGAAAGCAAAGAT\r\n",
      "CCTTCATCAGAAAAGAGTCAGCTACATTGA\r\n",
      ">ENST00000367604.6 cds chromosome:GRCh38:6:142751478:142946365:-1 gene:ENSG00000010818.9 gene_biotype:protein_coding transcript_biotype:protein_coding gene_symbol:HIVEP2 description:human immunodeficiency virus type I enhancer binding protein 2 [Source:HGNC Symbol;Acc:HGNC:4921]\r\n",
      "\r\n",
      "==> /src/myhome/code/sequence-localization/data/023_make_train_valid_test_sets/Homo_sapiens.GRCh38.cds.all.fa.nuclear_or_cytoplasmic.last450.train <==\r\n",
      ">ENST00000419783.2 cds chromosome:GRCh38:3:49357171:49358600:-1 gene:ENSG00000233276.4 gene_biotype:polymorphic_pseudogene transcript_biotype:protein_coding gene_symbol:GPX1 description:glutathione peroxidase 1 [Source:HGNC Symbol;Acc:HGNC:4553]\r\n",
      "GACTACACCCAGATGAACGAGCTGCAGCGGCGCCTCGGACCCCGGGGCCTGGTGGTGCTC\r\n",
      "GGCTTCCCGTGCAACCAGTTTGGGCATCAGGAGAACGCCAAGAACGAAGAGATTCTGAAT\r\n",
      "TCCCTCAAGTACGTCCGGCCTGGTGGTGGGTTCGAGCCCAACTTCATGCTCTTCGAGAAG\r\n",
      "TGCGAGGTGAACGGTGCGGGGGCGCACCCTCTCTTCGCCTTCCTGCGGGAGGCCCTGCCA\r\n",
      "GCTCCCAGCGACGACGCCACCGCGCTTATGACCGACCCCAAGCTCATCACCTGGTCTCCG\r\n",
      "GTGTGTCGCAACGATGTTGCCTGGAACTTTGAGAAGTTCCTGGTGGGCCCTGACGGTGTG\r\n",
      "CCCCTACGCAGGTACAGCCGCCGCTTCCAGACCATTGACATCGAGCCTGACATCGAAGCC\r\n",
      "CTGCTGTCTCAAGGGCCCAGCTGTGCCTAG\r\n",
      ">ENST00000643797.1 cds chromosome:GRCh38:3:49357201:49358325:-1 gene:ENSG00000233276.4 gene_biotype:polymorphic_pseudogene transcript_biotype:protein_coding gene_symbol:GPX1 description:glutathione peroxidase 1 [Source:HGNC Symbol;Acc:HGNC:4553]\r\n",
      "\r\n",
      "==> /src/myhome/code/sequence-localization/data/023_make_train_valid_test_sets/Homo_sapiens.GRCh38.cds.all.fa.nuclear_or_cytoplasmic.last450.valid <==\r\n",
      ">ENST00000266269.9 cds chromosome:GRCh38:22:31325804:31346232:-1 gene:ENSG00000100105.17 gene_biotype:protein_coding transcript_biotype:protein_coding gene_symbol:PATZ1 description:POZ/BTB and AT hook containing zinc finger 1 [Source:HGNC Symbol;Acc:HGNC:13071]\r\n",
      "TTCCACTGCGCCAGGACCTATGGCAACAAAGAAGGCCAGAAATGCTCACATCAGGATCCG\r\n",
      "ATTGAGAGCTCTGACTCCTATGGTGACCTCTCAGATGCCAGCGACCTGAAGACGCCAGAG\r\n",
      "AAGCAGAGTGCCAATGGCTCTTTCTCCTGCGACATGGCAGTCCCCAAAAACAAAATGGAG\r\n",
      "TCTGATGGGGAGAAGAAGTACCCATGCCCTGAATGTGGGAGCTTCTTCCGCTCTAAGTCC\r\n",
      "TACTTGAACAAACACATCCAGAAGGTGCATGTCCGGGCTCTCGGGGGCCCCCTGGGGGAC\r\n",
      "CTGGGCCCTGCCCTTGGCTCACCTTTCTCTCCTCAGCAGAACATGTCTCTCCTCGAGTCC\r\n",
      "TTTGGGTTTCAGATTGTTCAGTCGGCATTTGCGTCATCTTTAGTAGATCCTGAGGTTGAC\r\n",
      "CAGCAGCCCATGGGGCCTGAAGGGAAATGA\r\n",
      ">ENST00000426431.2 cds chromosome:GRCh38:12:53380639:53416446:1 gene:ENSG00000185591.9 gene_biotype:protein_coding transcript_biotype:protein_coding gene_symbol:SP1 description:Sp1 transcription factor [Source:HGNC Symbol;Acc:HGNC:11205]\r\n",
      "\r\n",
      "==> /src/myhome/code/sequence-localization/data/023_make_train_valid_test_sets/Homo_sapiens.GRCh38.pep.all.fa.nuclear_or_cytoplasmic.last150.target.tsv.test <==\r\n",
      "0\t1\r\n",
      "0\t1\r\n",
      "0\t1\r\n",
      "0\t1\r\n",
      "0\t1\r\n",
      "0\t1\r\n",
      "0\t1\r\n",
      "1\t0\r\n",
      "0\t1\r\n",
      "0\t1\r\n",
      "\r\n",
      "==> /src/myhome/code/sequence-localization/data/023_make_train_valid_test_sets/Homo_sapiens.GRCh38.pep.all.fa.nuclear_or_cytoplasmic.last150.target.tsv.train <==\r\n",
      "1\t0\r\n",
      "1\t0\r\n",
      "1\t0\r\n",
      "0\t1\r\n",
      "0\t1\r\n",
      "0\t1\r\n",
      "1\t0\r\n",
      "1\t0\r\n",
      "1\t0\r\n",
      "1\t0\r\n",
      "\r\n",
      "==> /src/myhome/code/sequence-localization/data/023_make_train_valid_test_sets/Homo_sapiens.GRCh38.pep.all.fa.nuclear_or_cytoplasmic.last150.target.tsv.valid <==\r\n",
      "0\t1\r\n",
      "0\t1\r\n",
      "0\t1\r\n",
      "0\t1\r\n",
      "0\t1\r\n",
      "1\t0\r\n",
      "0\t1\r\n",
      "1\t0\r\n",
      "1\t0\r\n",
      "0\t1\r\n",
      "\r\n",
      "==> /src/myhome/code/sequence-localization/data/023_make_train_valid_test_sets/Homo_sapiens.GRCh38.pep.all.fa.nuclear_or_cytoplasmic.last150.test <==\r\n",
      ">ENSP00000356575.2 pep chromosome:GRCh38:6:142751467:142945201:-1 gene:ENSG00000010818.9 transcript:ENST00000367603.7 gene_biotype:protein_coding transcript_biotype:protein_coding gene_symbol:HIVEP2 description:human immunodeficiency virus type I enhancer binding protein 2 [Source:HGNC Symbol;Acc:HGNC:4921]\r\n",
      "STPSSPRLLMKQSTSEDSLNATEREQEENIQTCTKAIASLRIATEEAALLGPDQPARVQE\r\n",
      "PHQNPLGSAHVSIRHFSRPEPGQPCTSATHPDLHDGEKDNFGTSQTPLAHSTFYSKSCVD\r\n",
      "DKQLDFHSSKELSSSTEESKDPSSEKSQLH\r\n",
      ">ENSP00000215919.3 pep chromosome:GRCh38:22:31340677:31345776:-1 gene:ENSG00000100105.17 transcript:ENST00000215919.3 gene_biotype:protein_coding transcript_biotype:protein_coding gene_symbol:PATZ1 description:POZ/BTB and AT hook containing zinc finger 1 [Source:HGNC Symbol;Acc:HGNC:13071]\r\n",
      "CGLRFKRKDRMSYHVRSHDGSVGKPYICQSCGKGFSRPDHLNGHIKQVHTSERPHKCQVW\r\n",
      "VGSSSGLPPLEPLPSDLPSWDFAQPALWRSSHSVPDTAFSLSLKKSFPALENLGPAHSSN\r\n",
      "TLFCPAPPGYLRQGWTTPEGSRAFTQWPVG\r\n",
      ">ENSP00000388784.1 pep chromosome:GRCh38:19:11887818:11904902:1 gene:ENSG00000198429.9 transcript:ENST00000445911.5 gene_biotype:protein_coding transcript_biotype:protein_coding gene_symbol:ZNF69 description:zinc finger protein 69 [Source:HGNC Symbol;Acc:HGNC:13138]\r\n",
      "SHRRCREDPGTSESQEMEEWALLDISQRKLYKEVMLETFRNLTSVGKSWKDQNIEYEYQN\r\n",
      "\r\n",
      "==> /src/myhome/code/sequence-localization/data/023_make_train_valid_test_sets/Homo_sapiens.GRCh38.pep.all.fa.nuclear_or_cytoplasmic.last150.train <==\r\n",
      ">ENSP00000495108.1 pep chromosome:GRCh38:3:49357201:49358325:-1 gene:ENSG00000233276.4 transcript:ENST00000643797.1 gene_biotype:polymorphic_pseudogene transcript_biotype:protein_coding gene_symbol:GPX1 description:glutathione peroxidase 1 [Source:HGNC Symbol;Acc:HGNC:4553]\r\n",
      "AAAAAAQSVYAFSARPLAGGEPVSLGSLRGKENAKNEEILNSLKYVRPGGGFEPNFMLFE\r\n",
      "KCEVNGAGAHPLFAFLREALPAPSDDATALMTDPKLITWSPVCRNDVAWNFEKFLVGPDG\r\n",
      "VPLRRYSRRFQTIDIEPDIEALLSQGPSCA\r\n",
      ">ENSP00000495001.1 pep chromosome:GRCh38:3:49357477:49358325:-1 gene:ENSG00000233276.4 transcript:ENST00000646881.1 gene_biotype:polymorphic_pseudogene transcript_biotype:polymorphic_pseudogene gene_symbol:GPX1 description:glutathione peroxidase 1 [Source:HGNC Symbol;Acc:HGNC:4553]\r\n",
      "ARPLAGGEPVSLGSLRGKVLLIENVASL*GTTVRDYTQMNELQRRLGPRGLVVLGFPCNQ\r\n",
      "FGHQLPFSPVGERQERRDSEFPQVRPAWWWVRAQLHALREVRGERCGGAPSLRLPAGGPA\r\n",
      "SSQRRRHRAYDRPQAHHLVSGVSQRCCLEL\r\n",
      ">ENSP00000478837.1 pep chromosome:GRCh38:3:49357180:49358358:-1 gene:ENSG00000233276.4 transcript:ENST00000620890.1 gene_biotype:polymorphic_pseudogene transcript_biotype:protein_coding gene_symbol:GPX1 description:glutathione peroxidase 1 [Source:HGNC Symbol;Acc:HGNC:4553]\r\n",
      "RDYTQMNELQRRLGPRGLVVLGFPCNQFGHQENAKNEEILNSLKYVRPGGGFEPNFMLFE\r\n",
      "\r\n",
      "==> /src/myhome/code/sequence-localization/data/023_make_train_valid_test_sets/Homo_sapiens.GRCh38.pep.all.fa.nuclear_or_cytoplasmic.last150.valid <==\r\n",
      ">ENSP00000407375.1 pep chromosome:GRCh38:3:49357171:49358600:-1 gene:ENSG00000233276.4 transcript:ENST00000419783.2 gene_biotype:polymorphic_pseudogene transcript_biotype:protein_coding gene_symbol:GPX1 description:glutathione peroxidase 1 [Source:HGNC Symbol;Acc:HGNC:4553]\r\n",
      "RDYTQMNELQRRLGPRGLVVLGFPCNQFGHQENAKNEEILNSLKYVRPGGGFEPNFMLFE\r\n",
      "KCEVNGAGAHPLFAFLREALPAPSDDATALMTDPKLITWSPVCRNDVAWNFEKFLVGPDG\r\n",
      "VPLRRYSRRFQTIDIEPDIEALLSQGPSCA\r\n",
      ">ENSP00000295321.4 pep chromosome:GRCh38:2:127480806:127526468:-1 gene:ENSG00000163166.14 transcript:ENST00000295321.8 gene_biotype:protein_coding transcript_biotype:protein_coding gene_symbol:IWS1 description:IWS1, SUPT6H interacting protein [Source:HGNC Symbol;Acc:HGNC:25467]\r\n",
      "ESRSNKDMAGKLINEWSRPIFGLTSNYKGMTREEREQRDLEQMPQRRRMNSTGGQTPRRD\r\n",
      "LEKVLTGEEKALRPGDPGFCARARVPMPSNKDYVVRPKWNVEMESSRFQATSKKGISRLD\r\n",
      "KQMRKFTDIRKKSRSAHAVKISIEGNKMPL\r\n",
      ">ENSP00000377679.4 pep chromosome:GRCh38:17:40062193:40093613:1 gene:ENSG00000126351.12 transcript:ENST00000394121.8 gene_biotype:protein_coding transcript_biotype:protein_coding gene_symbol:THRA description:thyroid hormone receptor, alpha [Source:HGNC Symbol;Acc:HGNC:11796]\r\n",
      "SQEAYLLAFEHYVNHRKHNIPHFWPKLLMKEREVQSSILYKGAAAEGRPGGSLGVHPEGQ\r\n"
     ]
    }
   ],
   "source": [
    "! head $input_folder/*"
   ]
  },
  {
   "cell_type": "code",
   "execution_count": 6,
   "metadata": {},
   "outputs": [],
   "source": [
    "# from tensorflow.python.client import device_lib ; print(device_lib.list_local_devices())"
   ]
  },
  {
   "cell_type": "code",
   "execution_count": 7,
   "metadata": {},
   "outputs": [
    {
     "name": "stdout",
     "output_type": "stream",
     "text": [
      "Making train dataset ...\n",
      "\\tCommand: python /src/myhome/code/Keras-genomics/embedH5.py         /src/myhome/code/sequence-localization/data/023_make_train_valid_test_sets/Homo_sapiens.GRCh38.cds.all.fa.nuclear_or_cytoplasmic.last450.train         /src/myhome/code/sequence-localization/data/023_make_train_valid_test_sets/Homo_sapiens.GRCh38.cds.all.fa.nuclear_or_cytoplasmic.last450.target.tsv.train         /src/myhome/code/sequence-localization/data/040_run_cdna_keras_genomics/cdna_expt01/train.h5\n",
      "args: Namespace(batch=5000, dataname='data', infile='/src/myhome/code/sequence-localization/data/023_make_train_valid_test_sets/Homo_sapiens.GRCh38.cds.all.fa.nuclear_or_cytoplasmic.last450.train', infile2='', isseq='Y', labelfile='/src/myhome/code/sequence-localization/data/023_make_train_valid_test_sets/Homo_sapiens.GRCh38.cds.all.fa.nuclear_or_cytoplasmic.last450.target.tsv.train', labelname='label', maniprefix='/data', mapperfile='', outfile='/src/myhome/code/sequence-localization/data/040_run_cdna_keras_genomics/cdna_expt01/train.h5')\n",
      "True\n",
      "batch_array.shape - before slicing (10000,)\n",
      "batch_array.shape - after slicing (6311,)\n",
      "target.shape (6311, 2)\n",
      "seqs.shape (6311, 2)\n",
      "data shape:  (5000, 4, 1, 450)\n",
      "data shape:  (1311, 4, 1, 450)\n",
      "Making valid dataset ...\n",
      "\\tCommand: python /src/myhome/code/Keras-genomics/embedH5.py         /src/myhome/code/sequence-localization/data/023_make_train_valid_test_sets/Homo_sapiens.GRCh38.cds.all.fa.nuclear_or_cytoplasmic.last450.valid         /src/myhome/code/sequence-localization/data/023_make_train_valid_test_sets/Homo_sapiens.GRCh38.cds.all.fa.nuclear_or_cytoplasmic.last450.target.tsv.valid         /src/myhome/code/sequence-localization/data/040_run_cdna_keras_genomics/cdna_expt01/valid.h5\n",
      "args: Namespace(batch=5000, dataname='data', infile='/src/myhome/code/sequence-localization/data/023_make_train_valid_test_sets/Homo_sapiens.GRCh38.cds.all.fa.nuclear_or_cytoplasmic.last450.valid', infile2='', isseq='Y', labelfile='/src/myhome/code/sequence-localization/data/023_make_train_valid_test_sets/Homo_sapiens.GRCh38.cds.all.fa.nuclear_or_cytoplasmic.last450.target.tsv.valid', labelname='label', maniprefix='/data', mapperfile='', outfile='/src/myhome/code/sequence-localization/data/040_run_cdna_keras_genomics/cdna_expt01/valid.h5')\n",
      "True\n",
      "batch_array.shape - before slicing (5000,)\n",
      "batch_array.shape - after slicing (902,)\n",
      "target.shape (902, 2)\n",
      "seqs.shape (902, 2)\n",
      "data shape:  (902, 4, 1, 450)\n",
      "Making test dataset ...\n",
      "\\tCommand: python /src/myhome/code/Keras-genomics/embedH5.py         /src/myhome/code/sequence-localization/data/023_make_train_valid_test_sets/Homo_sapiens.GRCh38.cds.all.fa.nuclear_or_cytoplasmic.last450.test         /src/myhome/code/sequence-localization/data/023_make_train_valid_test_sets/Homo_sapiens.GRCh38.cds.all.fa.nuclear_or_cytoplasmic.last450.target.tsv.test         /src/myhome/code/sequence-localization/data/040_run_cdna_keras_genomics/cdna_expt01/test.h5\n",
      "args: Namespace(batch=5000, dataname='data', infile='/src/myhome/code/sequence-localization/data/023_make_train_valid_test_sets/Homo_sapiens.GRCh38.cds.all.fa.nuclear_or_cytoplasmic.last450.test', infile2='', isseq='Y', labelfile='/src/myhome/code/sequence-localization/data/023_make_train_valid_test_sets/Homo_sapiens.GRCh38.cds.all.fa.nuclear_or_cytoplasmic.last450.target.tsv.test', labelname='label', maniprefix='/data', mapperfile='', outfile='/src/myhome/code/sequence-localization/data/040_run_cdna_keras_genomics/cdna_expt01/test.h5')\n",
      "True\n",
      "batch_array.shape - before slicing (5000,)\n",
      "batch_array.shape - after slicing (1803,)\n",
      "target.shape (1803, 2)\n",
      "seqs.shape (1803, 2)\n",
      "data shape:  (1803, 4, 1, 450)\n"
     ]
    },
    {
     "name": "stderr",
     "output_type": "stream",
     "text": [
      "/opt/conda/lib/python3.6/site-packages/h5py/__init__.py:36: FutureWarning: Conversion of the second argument of issubdtype from `float` to `np.floating` is deprecated. In future, it will be treated as `np.float64 == np.dtype(float).type`.\n",
      "  from ._conv import register_converters as _register_converters\n",
      "/opt/conda/lib/python3.6/site-packages/h5py/__init__.py:36: FutureWarning: Conversion of the second argument of issubdtype from `float` to `np.floating` is deprecated. In future, it will be treated as `np.float64 == np.dtype(float).type`.\n",
      "  from ._conv import register_converters as _register_converters\n",
      "/opt/conda/lib/python3.6/site-packages/h5py/__init__.py:36: FutureWarning: Conversion of the second argument of issubdtype from `float` to `np.floating` is deprecated. In future, it will be treated as `np.float64 == np.dtype(float).type`.\n",
      "  from ._conv import register_converters as _register_converters\n"
     ]
    }
   ],
   "source": [
    "%%bash -s \"input_folder='$input_folder'; echo input_folder: $input_folder\"\n",
    "\n",
    "data_folder=/src/myhome/code/sequence-localization/data/040_run_cdna_keras_genomics\n",
    "input_folder=/src/myhome/code/sequence-localization/data/023_make_train_valid_test_sets\n",
    "EXPT_DIR=$data_folder/cdna_expt01\n",
    "\n",
    "PREFIX='Homo_sapiens.GRCh38.cds.all.fa.nuclear_or_cytoplasmic.last450'\n",
    "\n",
    "for dtype in 'train' 'valid' 'test'\n",
    "do\n",
    "    echo Making $dtype dataset ...\n",
    "    echo \"\\tCommand: python /src/myhome/code/Keras-genomics/embedH5.py \\\n",
    "        $input_folder/$PREFIX.$dtype \\\n",
    "        $input_folder/$PREFIX.target.tsv.$dtype \\\n",
    "        $EXPT_DIR/$dtype.h5\"\n",
    "    python /src/myhome/code/Keras-genomics/embedH5.py \\\n",
    "        $input_folder/$PREFIX.$dtype \\\n",
    "        $input_folder/$PREFIX.target.tsv.$dtype \\\n",
    "        $EXPT_DIR/$dtype.h5\n",
    "done"
   ]
  },
  {
   "cell_type": "code",
   "execution_count": 8,
   "metadata": {
    "scrolled": false
   },
   "outputs": [],
   "source": [
    "# %run -d -b 40 /src/myhome/code/Keras-genomics/embedH5.py /src/myhome/code/sequence-localization/data/022_make_train_valid_test_sets/Homo_sapiens.GRCh38.cds.all.fa.nuclear_or_cytoplasmic.test         /src/myhome/code/sequence-localization/data/022_make_train_valid_test_sets/Homo_sapiens.GRCh38.cds.all.fa.nuclear_or_cytoplasmic.target.tsv.test         /src/myhome/code/sequence-localization/data/040_run_cdna_keras_genomics/cdna_expt01/test.h5"
   ]
  },
  {
   "cell_type": "code",
   "execution_count": 9,
   "metadata": {},
   "outputs": [
    {
     "name": "stdout",
     "output_type": "stream",
     "text": [
      "Requirement already satisfied: future in /opt/conda/lib/python3.6/site-packages (0.16.0)\n",
      "\u001b[31mmkl-random 1.0.1 requires cython, which is not installed.\u001b[0m\n",
      "\u001b[31mmkl-fft 1.0.0 requires cython, which is not installed.\u001b[0m\n",
      "\u001b[31mhyperas 0.4 requires jupyter, which is not installed.\u001b[0m\n",
      "\u001b[31mdistributed 1.21.8 requires msgpack, which is not installed.\u001b[0m\n"
     ]
    }
   ],
   "source": [
    "! pip install future"
   ]
  },
  {
   "cell_type": "code",
   "execution_count": 10,
   "metadata": {
    "scrolled": false
   },
   "outputs": [
    {
     "name": "stdout",
     "output_type": "stream",
     "text": [
      "/opt/conda/lib/python3.6/site-packages/h5py/__init__.py:36: FutureWarning: Conversion of the second argument of issubdtype from `float` to `np.floating` is deprecated. In future, it will be treated as `np.float64 == np.dtype(float).type`.\n",
      "  from ._conv import register_converters as _register_converters\n",
      "Using TensorFlow backend.\n",
      "Traceback (most recent call last):\n",
      "  File \"/src/myhome/code/Keras-genomics/main.py\", line 158, in <module>\n",
      "    max_iter=args.hyperiter, datamode=args.datamode)\n",
      "  File \"/src/myhome/code/Keras-genomics/hyperband.py\", line 22, in __init__\n",
      "    Y_train, X_train = self.readdata(join(datadir, 'train.h5.batch'))\n",
      "  File \"/src/myhome/code/Keras-genomics/hyperband.py\", line 148, in readdata\n",
      "    return (label, data)\n",
      "UnboundLocalError: local variable 'label' referenced before assignment\n"
     ]
    }
   ],
   "source": [
    "! python /src/myhome/code/Keras-genomics/main.py -d $data_folder/cdna_expt01 -m /src/myhome/code/Keras-genomics/example/model.py -y -t -e"
   ]
  },
  {
   "cell_type": "code",
   "execution_count": 11,
   "metadata": {},
   "outputs": [
    {
     "name": "stdout",
     "output_type": "stream",
     "text": [
      "000_filter_for_differentially_localized_proteins.ipynb\r\n",
      "001_granularity_levels_ontology.ipynb\r\n",
      "003_count_kmers.ipynb\r\n",
      "004_format_classification_vector.ipynb\r\n",
      "005_sourmash.ipynb\r\n",
      "006_download_sra.ipynb\r\n",
      "007_fastq-dump.ipynb\r\n",
      "010_trinity.ipynb\r\n",
      "020_get_nucleus_cytoplasm_genes.ipynb\r\n",
      "021_get_nucleus_cytoplasm_sequences.ipynb\r\n",
      "022_slice_seqs_to_same_lengths.ipynb\r\n",
      "023_make_train_valid_test_sets.ipynb\r\n",
      "031_prepare_keras_genomics.ipynb\r\n",
      "040_dockerfiles.ipynb\r\n",
      "050_run_cdna_keras_genomics.ipynb\r\n",
      "051_run_pep_keras_genomics.ipynb\r\n",
      "\u001b[0m\u001b[01;34mgenome\u001b[0m/\r\n",
      "tmp.tsv\r\n"
     ]
    }
   ],
   "source": [
    "ls"
   ]
  },
  {
   "cell_type": "code",
   "execution_count": 12,
   "metadata": {},
   "outputs": [
    {
     "name": "stdout",
     "output_type": "stream",
     "text": [
      "genome/hg38/ensembl/data:\r\n",
      "021_get_nucleus_cytoplasm_sequences\r\n",
      "\r\n",
      "genome/hg38/ensembl/figures:\r\n",
      "021_get_nucleus_cytoplasm_sequences\r\n",
      "\r\n",
      "genome/hg38/ensembl/v92:\r\n"
     ]
    }
   ],
   "source": [
    "! ls genome/hg38/**/*"
   ]
  },
  {
   "cell_type": "code",
   "execution_count": 13,
   "metadata": {},
   "outputs": [
    {
     "name": "stdout",
     "output_type": "stream",
     "text": [
      "\u001b[0m\u001b[01;34mmodel\u001b[0m/\r\n"
     ]
    }
   ],
   "source": [
    "ls $data_folder/cdna_expt01"
   ]
  },
  {
   "cell_type": "code",
   "execution_count": 14,
   "metadata": {},
   "outputs": [
    {
     "name": "stdout",
     "output_type": "stream",
     "text": [
      "head: cannot open '/src/myhome/code/sequence-localization/data/050_run_cdna_keras_genomics/cdna_expt01/*txt' for reading: No such file or directory\r\n"
     ]
    }
   ],
   "source": [
    "! head $data_folder/cdna_expt01/*txt"
   ]
  },
  {
   "cell_type": "code",
   "execution_count": 15,
   "metadata": {},
   "outputs": [
    {
     "name": "stdout",
     "output_type": "stream",
     "text": [
      "ls: cannot access 'ls': No such file or directory\r\n",
      "/src/myhome/code/sequence-localization/data/050_run_cdna_keras_genomics/cdna_expt01/model:\r\n"
     ]
    }
   ],
   "source": [
    "! ls ls $data_folder/cdna_expt01/model"
   ]
  },
  {
   "cell_type": "code",
   "execution_count": 16,
   "metadata": {
    "scrolled": false
   },
   "outputs": [
    {
     "name": "stdout",
     "output_type": "stream",
     "text": [
      "head: cannot open '/src/myhome/code/sequence-localization/data/050_run_cdna_keras_genomics/cdna_expt01/model/*' for reading: No such file or directory\r\n"
     ]
    }
   ],
   "source": [
    "! head $data_folder/cdna_expt01/model/*"
   ]
  },
  {
   "cell_type": "code",
   "execution_count": null,
   "metadata": {},
   "outputs": [],
   "source": []
  }
 ],
 "metadata": {
  "kernelspec": {
   "display_name": "Python 3",
   "language": "python",
   "name": "python3"
  },
  "language_info": {
   "codemirror_mode": {
    "name": "ipython",
    "version": 3
   },
   "file_extension": ".py",
   "mimetype": "text/x-python",
   "name": "python",
   "nbconvert_exporter": "python",
   "pygments_lexer": "ipython3",
   "version": "3.6.3"
  }
 },
 "nbformat": 4,
 "nbformat_minor": 2
}
